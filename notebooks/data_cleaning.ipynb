{
 "cells": [
  {
   "cell_type": "code",
   "execution_count": 27,
   "id": "1af8d66d",
   "metadata": {},
   "outputs": [],
   "source": [
    "import pandas as pd\n",
    "import numpy as np\n",
    "import os"
   ]
  },
  {
   "cell_type": "code",
   "execution_count": 10,
   "id": "0b113859",
   "metadata": {},
   "outputs": [],
   "source": [
    "file_job = r'../data/raw/AI_JOB_TRENDS.csv'\n",
    "file_popularity = r'../data/raw/AI_ML_popularity.csv'\n",
    "file_rise = r'../data/raw/The_Rise_of_AI.csv'"
   ]
  },
  {
   "cell_type": "code",
   "execution_count": null,
   "id": "7c15c60a",
   "metadata": {},
   "outputs": [],
   "source": [
    "df_job = pd.read_csv(file_job, encoding='utf-8')\n",
    "df_popularity = pd.read_csv(file_popularity, encoding='latin1')\n",
    "df_rise = pd.read_csv(file_rise, encoding='utf-8')"
   ]
  },
  {
   "cell_type": "code",
   "execution_count": 12,
   "id": "fbf4e9a2",
   "metadata": {},
   "outputs": [],
   "source": [
    "# 2. Clean AI_JOB_TRENDS.csv\n",
    "# =========================\n",
    "# Drop irrelevant columns\n",
    "cols_to_drop = ['job_id', 'company_name', 'job_description_length', 'application_deadline', 'required_skills']\n",
    "df_job.drop(columns=[c for c in cols_to_drop if c in df_job.columns], inplace=True)"
   ]
  },
  {
   "cell_type": "code",
   "execution_count": 13,
   "id": "945ccdc5",
   "metadata": {},
   "outputs": [],
   "source": [
    "# Convert salary_usd to numeric\n",
    "df_job['salary_usd'] = pd.to_numeric(df_job['salary_usd'], errors='coerce')"
   ]
  },
  {
   "cell_type": "code",
   "execution_count": 14,
   "id": "91b8b593",
   "metadata": {},
   "outputs": [],
   "source": [
    "# Handle missing values\n",
    "df_job.fillna({'salary_usd': df_job['salary_usd'].median(), 'benefits_score': df_job['benefits_score'].median()}, inplace=True)\n",
    "df_job.dropna(inplace=True)"
   ]
  },
  {
   "cell_type": "code",
   "execution_count": 15,
   "id": "1f7ca0f8",
   "metadata": {},
   "outputs": [],
   "source": [
    "# Convert posting_date to datetime if exists\n",
    "if 'posting_date' in df_job.columns:\n",
    "    df_job['posting_date'] = pd.to_datetime(df_job['posting_date'], errors='coerce')"
   ]
  },
  {
   "cell_type": "code",
   "execution_count": 16,
   "id": "f5fa458f",
   "metadata": {},
   "outputs": [],
   "source": [
    "# Encode categorical columns\n",
    "cat_cols_job = ['job_title', 'experience_level', 'employment_type', 'company_location', 'company_size', 'employee_residence', 'education_required', 'industry']\n",
    "df_job = pd.get_dummies(df_job, columns=cat_cols_job, drop_first=True)"
   ]
  },
  {
   "cell_type": "code",
   "execution_count": 17,
   "id": "c9286277",
   "metadata": {},
   "outputs": [],
   "source": [
    "# 3. Clean AI_ML_popularity.csv\n",
    "# =========================\n",
    "# Rename columns for simplicity\n",
    "df_popularity.rename(columns={\n",
    "    'Ai and ML(Popularity)': 'CountryPopularity',\n",
    "    'Ai and ML(Popularity).1': 'CityPopularity'\n",
    "}, inplace=True)"
   ]
  },
  {
   "cell_type": "code",
   "execution_count": 25,
   "id": "1ff959ac",
   "metadata": {},
   "outputs": [],
   "source": [
    "# Handle missing numeric values\n",
    "for col in ['CountryPopularity', 'CityPopularity', 'Popularity', 'Popularity.1']:\n",
    "    if col in df_popularity.columns:\n",
    "        df_popularity[col] = pd.to_numeric(df_popularity[col], errors='coerce')\n",
    "        df_popularity.fillna({col:df_popularity[col].median()}, inplace=True)"
   ]
  },
  {
   "cell_type": "code",
   "execution_count": 19,
   "id": "0d99b583",
   "metadata": {},
   "outputs": [],
   "source": [
    "# Drop irrelevant text-heavy columns (like Rising Searches if modeling numeric)\n",
    "df_popularity.drop(columns=['Top (Searches)', 'Rising (Searches)', 'Rising (Searches) Percentage',\n",
    "                            'Top (Searches).1', 'Rising (Searches).1', 'Rising (Searches) Percentage.1'], errors='ignore', inplace=True)"
   ]
  },
  {
   "cell_type": "code",
   "execution_count": 20,
   "id": "0be88a56",
   "metadata": {},
   "outputs": [],
   "source": [
    "# One-hot encode Country and City\n",
    "df_popularity = pd.get_dummies(df_popularity, columns=['Country', 'City'], drop_first=True)"
   ]
  },
  {
   "cell_type": "code",
   "execution_count": 21,
   "id": "2c58f4e7",
   "metadata": {},
   "outputs": [],
   "source": [
    "# 4. Clean The_Rise_of_AI.csv\n",
    "# =========================\n",
    "# Remove % and convert to numeric\n",
    "def clean_percentage(col):\n",
    "    return pd.to_numeric(col.str.replace('%','').str.strip(), errors='coerce')\n",
    "\n",
    "for col in df_rise.columns:\n",
    "    if df_rise[col].dtype == 'object':\n",
    "        if df_rise[col].str.contains('%').any():\n",
    "            df_rise[col] = clean_percentage(df_rise[col])"
   ]
  },
  {
   "cell_type": "code",
   "execution_count": 22,
   "id": "4a6f3a8e",
   "metadata": {},
   "outputs": [],
   "source": [
    "# Convert Year to datetime\n",
    "df_rise['Year'] = pd.to_datetime(df_rise['Year'], format='%Y')"
   ]
  },
  {
   "cell_type": "code",
   "execution_count": 24,
   "id": "15ed0692",
   "metadata": {},
   "outputs": [],
   "source": [
    "# Fill numeric missing with median\n",
    "for col in df_rise.columns:\n",
    "    if df_rise[col].dtype in [np.float64, np.int64]:\n",
    "        df_rise.fillna({col: df_rise[col].median()}, inplace=True)"
   ]
  },
  {
   "cell_type": "code",
   "execution_count": 29,
   "id": "5d90801f",
   "metadata": {},
   "outputs": [],
   "source": [
    "# 5. Save Cleaned Datasets\n",
    "# =========================\n",
    "file_path = r'../data/processed'\n",
    "os.makedirs(file_path, exist_ok=True)\n",
    "df_job.to_csv(os.path.join(file_path, 'cleaned_AI_JOB_TRENDS.csv'), index=False)\n",
    "df_popularity.to_csv(os.path.join(file_path, 'cleaned_AI_ML_popularity.csv'), index=False)\n",
    "df_rise.to_csv(os.path.join(file_path, 'cleaned_The_Rise_of_AI.csv'), index=False)"
   ]
  }
 ],
 "metadata": {
  "kernelspec": {
   "display_name": "ML_Project",
   "language": "python",
   "name": "python3"
  },
  "language_info": {
   "codemirror_mode": {
    "name": "ipython",
    "version": 3
   },
   "file_extension": ".py",
   "mimetype": "text/x-python",
   "name": "python",
   "nbconvert_exporter": "python",
   "pygments_lexer": "ipython3",
   "version": "3.11.13"
  }
 },
 "nbformat": 4,
 "nbformat_minor": 5
}
