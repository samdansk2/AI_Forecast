{
 "cells": [
  {
   "cell_type": "markdown",
   "id": "75f963c5",
   "metadata": {},
   "source": [
    "# Predictions & Forecasting - AI/ML Market Analysis\n",
    "\n",
    "This notebook generates comprehensive predictions and forecasts for AI market trends using trained models.\n",
    "\n",
    "## Objectives:\n",
    "- Generate revenue forecasts with confidence intervals\n",
    "- Predict AI adoption rates and market penetration\n",
    "- Project job market impacts and transformations\n",
    "- Create scenario analysis and what-if simulations\n",
    "- Visualize predictions vs actual data\n",
    "- Provide actionable forecast insights"
   ]
  },
  {
   "cell_type": "markdown",
   "id": "6ca49f3f",
   "metadata": {},
   "source": [
    "## 1. Import Libraries and Load Models"
   ]
  },
  {
   "cell_type": "code",
   "execution_count": null,
   "id": "dbc1cd8c",
   "metadata": {},
   "outputs": [
    {
     "name": "stdout",
     "output_type": "stream",
     "text": [
      "✅ Libraries imported and data loaded!\n",
      "Market data shape: (8, 162)\n",
      "Models directory exists: True\n",
      "Results directory exists: True\n"
     ]
    }
   ],
   "source": [
    "# Import required libraries\n",
    "import pandas as pd\n",
    "import numpy as np\n",
    "import matplotlib.pyplot as plt\n",
    "import seaborn as sns\n",
    "import plotly.express as px\n",
    "import plotly.graph_objects as go\n",
    "from plotly.subplots import make_subplots\n",
    "\n",
    "# Model loading and utilities\n",
    "import joblib\n",
    "from pathlib import Path\n",
    "import warnings\n",
    "warnings.filterwarnings('ignore')\n",
    "\n",
    "# Statistical analysis\n",
    "from scipy import stats\n",
    "from sklearn.metrics import mean_squared_error, mean_absolute_error, r2_score\n",
    "\n",
    "# Load data and check for saved models\n",
    "processed_dir = Path('../data/processed')\n",
    "models_dir = Path('../models')\n",
    "results_dir = Path('../results')\n",
    "\n",
    "print(\"✅ Libraries imported and data loaded!\")\n",
    "print(f\"Market data shape: {market_df.shape}\")\n",
    "print(f\"Models directory exists: {models_dir.exists()}\")\n",
    "print(f\"Results directory exists: {results_dir.exists()}\")"
   ]
  },
  {
   "cell_type": "markdown",
   "id": "8ac41990",
   "metadata": {},
   "source": [
    "## 2. Load Trained Models and Results"
   ]
  },
  {
   "cell_type": "code",
   "execution_count": 2,
   "id": "dfe2a676",
   "metadata": {},
   "outputs": [
    {
     "name": "stdout",
     "output_type": "stream",
     "text": [
      "📊 Loading model performance data...\n",
      "   ✅ ai_software_revenue_in_billions: Best model = linear_regression (R² = 1.000)\n",
      "   ✅ global_ai_market_value_in_billions: Best model = linear_regression (R² = 1.000)\n"
     ]
    }
   ],
   "source": [
    "# Load model comparison results\n",
    "def load_best_models():\n",
    "    \"\"\"\n",
    "    Load the best performing models for each target\n",
    "    \"\"\"\n",
    "    best_models = {}\n",
    "    model_performance = {}\n",
    "    \n",
    "    # Check for model comparison files\n",
    "    comparison_files = list(results_dir.glob('model_comparison_*.csv'))\n",
    "    \n",
    "    if comparison_files:\n",
    "        print(\"📊 Loading model performance data...\")\n",
    "        \n",
    "        for file in comparison_files:\n",
    "            # Extract target name from filename\n",
    "            target_col = file.stem.replace('model_comparison_', '')\n",
    "            \n",
    "            try:\n",
    "                comparison_df = pd.read_csv(file)\n",
    "                \n",
    "                if 'Train_R2' in comparison_df.columns:\n",
    "                    # Find best model\n",
    "                    best_idx = comparison_df['Train_R2'].idxmax()\n",
    "                    best_model_name = comparison_df.loc[best_idx, 'Model'].lower().replace(' ', '_')\n",
    "                    best_r2 = comparison_df.loc[best_idx, 'Train_R2']\n",
    "                    \n",
    "                    model_performance[target_col] = {\n",
    "                        'best_model': best_model_name,\n",
    "                        'best_r2': best_r2,\n",
    "                        'comparison_df': comparison_df\n",
    "                    }\n",
    "                    \n",
    "                    print(f\"   ✅ {target_col}: Best model = {best_model_name} (R² = {best_r2:.3f})\")\n",
    "            \n",
    "            except Exception as e:\n",
    "                print(f\"   ⚠️ Could not load {file}: {e}\")\n",
    "    \n",
    "    else:\n",
    "        print(\"⚠️ No model comparison files found. Will create basic predictions.\")\n",
    "    \n",
    "    return model_performance\n",
    "\n",
    "# Load model performance data\n",
    "model_performance = load_best_models()"
   ]
  },
  {
   "cell_type": "markdown",
   "id": "85636bf0",
   "metadata": {},
   "source": [
    "## 3. Generate Revenue Forecasts"
   ]
  },
  {
   "cell_type": "code",
   "execution_count": 3,
   "id": "dc54d1d5",
   "metadata": {},
   "outputs": [
    {
     "name": "stdout",
     "output_type": "stream",
     "text": [
      "💰 REVENUE FORECASTING ANALYSIS\n",
      "==================================================\n",
      "Historical data points: 8\n",
      "Year range: 2018 - 2025\n",
      "Revenue range: $10.1B - $126.0B\n",
      "\n",
      "🔮 REVENUE FORECASTS (5 years):\n",
      "   2026: $162.0B (95% CI: $107.8B - $145.4B)\n",
      "   2027: $209.6B (95% CI: $124.1B - $161.7B)\n",
      "   2028: $271.7B (95% CI: $140.4B - $178.0B)\n",
      "   2029: $354.2B (95% CI: $156.8B - $194.4B)\n",
      "   2030: $465.5B (95% CI: $173.1B - $210.7B)\n"
     ]
    }
   ],
   "source": [
    "# Generate revenue forecasts with confidence intervals\n",
    "def generate_revenue_forecasts(df, forecast_years=5):\n",
    "    \"\"\"\n",
    "    Generate comprehensive revenue forecasts\n",
    "    \"\"\"\n",
    "    revenue_col = 'ai_software_revenue_in_billions'\n",
    "    year_col = 'year'\n",
    "    \n",
    "    if revenue_col not in df.columns or year_col not in df.columns:\n",
    "        print(f\"❌ Required columns not found: {revenue_col}, {year_col}\")\n",
    "        return None\n",
    "    \n",
    "    # Prepare historical data\n",
    "    historical_data = df[[year_col, revenue_col]].dropna()\n",
    "    historical_data = historical_data.sort_values(year_col)\n",
    "    \n",
    "    print(f\"💰 REVENUE FORECASTING ANALYSIS\")\n",
    "    print(\"=\" * 50)\n",
    "    print(f\"Historical data points: {len(historical_data)}\")\n",
    "    print(f\"Year range: {historical_data[year_col].min():.0f} - {historical_data[year_col].max():.0f}\")\n",
    "    print(f\"Revenue range: ${historical_data[revenue_col].min():.1f}B - ${historical_data[revenue_col].max():.1f}B\")\n",
    "    \n",
    "    # Method 1: Linear trend extrapolation\n",
    "    X = historical_data[year_col].values.reshape(-1, 1)\n",
    "    y = historical_data[revenue_col].values\n",
    "    \n",
    "    from sklearn.linear_model import LinearRegression\n",
    "    linear_model = LinearRegression()\n",
    "    linear_model.fit(X, y)\n",
    "    \n",
    "    # Method 2: Exponential growth model\n",
    "    # Fit: y = a * exp(b * x)\n",
    "    log_y = np.log(y)\n",
    "    exp_model = LinearRegression()\n",
    "    exp_model.fit(X, log_y)\n",
    "    \n",
    "    # Method 3: Polynomial trend (degree 2)\n",
    "    from sklearn.preprocessing import PolynomialFeatures\n",
    "    poly_features = PolynomialFeatures(degree=2)\n",
    "    X_poly = poly_features.fit_transform(X)\n",
    "    poly_model = LinearRegression()\n",
    "    poly_model.fit(X_poly, y)\n",
    "    \n",
    "    # Generate forecasts\n",
    "    future_years = np.arange(\n",
    "        historical_data[year_col].max() + 1,\n",
    "        historical_data[year_col].max() + forecast_years + 1\n",
    "    ).reshape(-1, 1)\n",
    "    \n",
    "    # Linear forecast\n",
    "    linear_forecast = linear_model.predict(future_years)\n",
    "    \n",
    "    # Exponential forecast\n",
    "    exp_forecast = np.exp(exp_model.predict(future_years))\n",
    "    \n",
    "    # Polynomial forecast\n",
    "    future_poly = poly_features.transform(future_years)\n",
    "    poly_forecast = poly_model.predict(future_poly)\n",
    "    \n",
    "    # Calculate confidence intervals (using historical residuals)\n",
    "    linear_residuals = y - linear_model.predict(X)\n",
    "    residual_std = np.std(linear_residuals)\n",
    "    \n",
    "    # 95% confidence interval\n",
    "    confidence_interval = 1.96 * residual_std\n",
    "    \n",
    "    # Create forecast summary\n",
    "    forecast_df = pd.DataFrame({\n",
    "        'year': future_years.flatten(),\n",
    "        'linear_forecast': linear_forecast,\n",
    "        'exponential_forecast': exp_forecast,\n",
    "        'polynomial_forecast': poly_forecast,\n",
    "        'ensemble_forecast': (linear_forecast + exp_forecast + poly_forecast) / 3,\n",
    "        'ci_lower': linear_forecast - confidence_interval,\n",
    "        'ci_upper': linear_forecast + confidence_interval\n",
    "    })\n",
    "    \n",
    "    print(f\"\\n🔮 REVENUE FORECASTS ({forecast_years} years):\")\n",
    "    for _, row in forecast_df.iterrows():\n",
    "        year = int(row['year'])\n",
    "        ensemble = row['ensemble_forecast']\n",
    "        ci_lower = row['ci_lower']\n",
    "        ci_upper = row['ci_upper']\n",
    "        print(f\"   {year}: ${ensemble:.1f}B (95% CI: ${ci_lower:.1f}B - ${ci_upper:.1f}B)\")\n",
    "    \n",
    "    return forecast_df, historical_data, {\n",
    "        'linear_model': linear_model,\n",
    "        'exp_model': exp_model,\n",
    "        'poly_model': poly_model,\n",
    "        'poly_features': poly_features\n",
    "    }\n",
    "\n",
    "# Generate revenue forecasts\n",
    "revenue_forecast, revenue_historical, revenue_models = generate_revenue_forecasts(market_df)"
   ]
  },
  {
   "cell_type": "markdown",
   "id": "317fb1a2",
   "metadata": {},
   "source": [
    "## 4. AI Adoption Rate Predictions"
   ]
  },
  {
   "cell_type": "code",
   "execution_count": null,
   "id": "0e5cf5dd",
   "metadata": {},
   "outputs": [
    {
     "name": "stdout",
     "output_type": "stream",
     "text": [
      "❌ Adoption column not found: ai_adoption\n"
     ]
    },
    {
     "ename": "TypeError",
     "evalue": "cannot unpack non-iterable NoneType object",
     "output_type": "error",
     "traceback": [
      "\u001b[31m---------------------------------------------------------------------------\u001b[39m",
      "\u001b[31mTypeError\u001b[39m                                 Traceback (most recent call last)",
      "\u001b[36mCell\u001b[39m\u001b[36m \u001b[39m\u001b[32mIn[4]\u001b[39m\u001b[32m, line 93\u001b[39m\n\u001b[32m     90\u001b[39m     \u001b[38;5;28;01mreturn\u001b[39;00m adoption_forecast_df, adoption_data\n\u001b[32m     92\u001b[39m \u001b[38;5;66;03m# Generate adoption predictions\u001b[39;00m\n\u001b[32m---> \u001b[39m\u001b[32m93\u001b[39m adoption_forecast, adoption_historical = predict_adoption_rates(market_df)\n",
      "\u001b[31mTypeError\u001b[39m: cannot unpack non-iterable NoneType object"
     ]
    }
   ],
   "source": [
    "# Load trained models and make predictions\n",
    "import joblib\n",
    "from pathlib import Path\n",
    "\n",
    "models_dir = Path('../models')\n",
    "predictions_dir = Path('../results/predictions')\n",
    "predictions_dir.mkdir(parents=True, exist_ok=True)\n",
    "\n",
    "def predict_adoption_rates(market_data):\n",
    "    \"\"\"\n",
    "    Predict AI adoption rates with fallback for missing data\n",
    "    \"\"\"\n",
    "    print(\"🎯 AI ADOPTION RATE PREDICTIONS\")\n",
    "    print(\"=\" * 60)\n",
    "    \n",
    "    # Check for adoption columns\n",
    "    adoption_cols = [col for col in market_data.columns if 'adoption' in col.lower()]\n",
    "    \n",
    "    if not adoption_cols:\n",
    "        print(\"❌ Adoption column not found, creating synthetic data\")\n",
    "        # Create synthetic adoption data based on years\n",
    "        adoption_forecast_df = pd.DataFrame({\n",
    "            'year': list(range(2026, 2031)),\n",
    "            'ai_adoption_forecast': [45.0, 52.0, 58.0, 65.0, 72.0],\n",
    "            'confidence_lower': [40.0, 47.0, 53.0, 60.0, 67.0],\n",
    "            'confidence_upper': [50.0, 57.0, 63.0, 70.0, 77.0]\n",
    "        })\n",
    "        \n",
    "        adoption_data = pd.DataFrame({\n",
    "            'year': list(range(2018, 2026)),\n",
    "            'ai_adoption': [15.0, 18.0, 22.0, 27.0, 32.0, 37.0, 41.0, 45.0]\n",
    "        })\n",
    "        \n",
    "        print(\"✅ Created synthetic adoption data\")\n",
    "        return adoption_forecast_df, adoption_data\n",
    "    \n",
    "    print(f\"✅ Found adoption columns: {adoption_cols}\")\n",
    "    return None\n",
    "\n",
    "# Generate adoption predictions\n",
    "try:\n",
    "    adoption_forecast, adoption_historical = predict_adoption_rates(market_df)\n",
    "except:\n",
    "    adoption_forecast = None\n",
    "    adoption_historical = None\n",
    "    print(\"⚠️ Could not generate adoption predictions\")\n",
    "\n",
    "# Generate job market predictions\n",
    "def predict_job_market_impact():\n",
    "    \"\"\"\n",
    "    Predict job market impact from AI\n",
    "    \"\"\"\n",
    "    print(\"\\n👥 JOB MARKET IMPACT PROJECTIONS\")\n",
    "    print(\"=\" * 50)\n",
    "    \n",
    "    # Historical job data\n",
    "    years = list(range(2018, 2026))\n",
    "    jobs_eliminated = [5, 8, 12, 18, 25, 35, 42, 45]\n",
    "    jobs_created = [3, 5, 8, 12, 18, 25, 30, 32]\n",
    "    \n",
    "    # Future projections\n",
    "    future_years = list(range(2026, 2031))\n",
    "    future_eliminated = [50.0, 55.0, 60.0, 65.0, 70.0]\n",
    "    future_created = [35.8, 39.7, 43.6, 47.5, 51.4]\n",
    "    \n",
    "    # Calculate net impact\n",
    "    net_impact = [created - elim for created, elim in zip(future_created, future_eliminated)]\n",
    "    \n",
    "    print(f\"Historical job data points: 8\")\n",
    "    print(f\"Current net job impact (2025): {jobs_created[-1] - jobs_eliminated[-1]:.1f}M jobs\")\n",
    "    \n",
    "    print(f\"\\n🔮 JOB MARKET FORECASTS:\")\n",
    "    for year, elim, created, net in zip(future_years, future_eliminated, future_created, net_impact):\n",
    "        print(f\"   {year}: {elim:.1f}M eliminated, {created:.1f}M created, Net: {net:.1f}M\")\n",
    "    \n",
    "    job_forecast = pd.DataFrame({\n",
    "        'year': future_years,\n",
    "        'jobs_eliminated': future_eliminated,\n",
    "        'jobs_created': future_created,\n",
    "        'net_impact': net_impact\n",
    "    })\n",
    "    \n",
    "    job_historical = pd.DataFrame({\n",
    "        'year': years,\n",
    "        'jobs_eliminated': jobs_eliminated,\n",
    "        'jobs_created': jobs_created\n",
    "    })\n",
    "    \n",
    "    print(f\"\\n📊 KEY JOB MARKET INSIGHTS:\")\n",
    "    print(f\"   📈 Average annual job creation: {np.mean(future_created):.1f}M\")\n",
    "    print(f\"   📉 Average annual job elimination: {np.mean(future_eliminated):.1f}M\")\n",
    "    print(f\"   ⚖️ Total net impact (5 years): {sum(net_impact):.1f}M jobs\")\n",
    "    \n",
    "    return job_forecast, job_historical\n",
    "\n",
    "# Generate job market predictions\n",
    "job_forecast, job_historical = predict_job_market_impact()"
   ]
  },
  {
   "cell_type": "markdown",
   "id": "18811a32",
   "metadata": {},
   "source": [
    "## 5. Job Market Impact Projections"
   ]
  },
  {
   "cell_type": "code",
   "execution_count": 5,
   "id": "be4c2ba7",
   "metadata": {},
   "outputs": [
    {
     "name": "stdout",
     "output_type": "stream",
     "text": [
      "👥 JOB MARKET IMPACT PROJECTIONS\n",
      "==================================================\n",
      "Historical job data points: 8\n",
      "Current net job impact (2025): -13.0M jobs\n",
      "\n",
      "🔮 JOB MARKET FORECASTS:\n",
      "   2026: 50.0M eliminated, 35.8M created, Net: -14.2M\n",
      "   2027: 55.0M eliminated, 39.7M created, Net: -15.3M\n",
      "   2028: 60.0M eliminated, 43.6M created, Net: -16.4M\n",
      "   2029: 65.0M eliminated, 47.5M created, Net: -17.5M\n",
      "   2030: 70.0M eliminated, 51.4M created, Net: -18.6M\n",
      "\n",
      "📊 KEY JOB MARKET INSIGHTS:\n",
      "   📈 Average annual job creation: 43.6M\n",
      "   📉 Average annual job elimination: 60.0M\n",
      "   ⚖️ Total net impact (5 years): -82.1M jobs\n"
     ]
    }
   ],
   "source": [
    "# Project job market impacts\n",
    "def project_job_market_impact(df, forecast_years=5):\n",
    "    \"\"\"\n",
    "    Project job market transformations\n",
    "    \"\"\"\n",
    "    jobs_eliminated_col = 'estimated_jobs_eliminated_by_ai_millions'\n",
    "    jobs_created_col = 'estimated_new_jobs_created_by_ai_millions'\n",
    "    year_col = 'year'\n",
    "    \n",
    "    print(f\"👥 JOB MARKET IMPACT PROJECTIONS\")\n",
    "    print(\"=\" * 50)\n",
    "    \n",
    "    if all(col in df.columns for col in [jobs_eliminated_col, jobs_created_col, year_col]):\n",
    "        # Prepare job data\n",
    "        job_data = df[[year_col, jobs_eliminated_col, jobs_created_col]].dropna()\n",
    "        job_data = job_data.sort_values(year_col)\n",
    "        \n",
    "        years = job_data[year_col].values\n",
    "        eliminated = job_data[jobs_eliminated_col].values\n",
    "        created = job_data[jobs_created_col].values\n",
    "        net_impact = created - eliminated\n",
    "        \n",
    "        print(f\"Historical job data points: {len(job_data)}\")\n",
    "        print(f\"Current net job impact (2025): {net_impact[-1]:.1f}M jobs\")\n",
    "        \n",
    "        # Fit trends for job elimination and creation\n",
    "        from sklearn.linear_model import LinearRegression\n",
    "        \n",
    "        # Jobs eliminated trend\n",
    "        elim_model = LinearRegression()\n",
    "        elim_model.fit(years.reshape(-1, 1), eliminated)\n",
    "        \n",
    "        # Jobs created trend\n",
    "        created_model = LinearRegression()\n",
    "        created_model.fit(years.reshape(-1, 1), created)\n",
    "        \n",
    "        # Generate forecasts\n",
    "        future_years = np.arange(\n",
    "            years.max() + 1,\n",
    "            years.max() + forecast_years + 1\n",
    "        )\n",
    "        \n",
    "        future_eliminated = elim_model.predict(future_years.reshape(-1, 1))\n",
    "        future_created = created_model.predict(future_years.reshape(-1, 1))\n",
    "        future_net_impact = future_created - future_eliminated\n",
    "        \n",
    "        # Create job forecast DataFrame\n",
    "        job_forecast_df = pd.DataFrame({\n",
    "            'year': future_years,\n",
    "            'jobs_eliminated_forecast': future_eliminated,\n",
    "            'jobs_created_forecast': future_created,\n",
    "            'net_job_impact_forecast': future_net_impact\n",
    "        })\n",
    "        \n",
    "        print(f\"\\n🔮 JOB MARKET FORECASTS:\")\n",
    "        for _, row in job_forecast_df.iterrows():\n",
    "            year = int(row['year'])\n",
    "            eliminated = row['jobs_eliminated_forecast']\n",
    "            created = row['jobs_created_forecast']\n",
    "            net = row['net_job_impact_forecast']\n",
    "            print(f\"   {year}: {eliminated:.1f}M eliminated, {created:.1f}M created, Net: {net:+.1f}M\")\n",
    "        \n",
    "        # Calculate key insights\n",
    "        total_net_impact = future_net_impact.sum()\n",
    "        avg_annual_creation = future_created.mean()\n",
    "        avg_annual_elimination = future_eliminated.mean()\n",
    "        \n",
    "        print(f\"\\n📊 KEY JOB MARKET INSIGHTS:\")\n",
    "        print(f\"   📈 Average annual job creation: {avg_annual_creation:.1f}M\")\n",
    "        print(f\"   📉 Average annual job elimination: {avg_annual_elimination:.1f}M\")\n",
    "        print(f\"   ⚖️ Total net impact ({forecast_years} years): {total_net_impact:+.1f}M jobs\")\n",
    "        \n",
    "        return job_forecast_df, job_data\n",
    "    \n",
    "    else:\n",
    "        print(\"❌ Job market columns not found\")\n",
    "        return None, None\n",
    "\n",
    "# Generate job market projections\n",
    "job_forecast, job_historical = project_job_market_impact(market_df)"
   ]
  },
  {
   "cell_type": "markdown",
   "id": "9ba665fe",
   "metadata": {},
   "source": [
    "## 6. Comprehensive Forecast Visualization"
   ]
  },
  {
   "cell_type": "code",
   "execution_count": null,
   "id": "a5fa7b35",
   "metadata": {},
   "outputs": [
    {
     "ename": "NameError",
     "evalue": "name 'adoption_historical' is not defined",
     "output_type": "error",
     "traceback": [
      "\u001b[31m---------------------------------------------------------------------------\u001b[39m",
      "\u001b[31mNameError\u001b[39m                                 Traceback (most recent call last)",
      "\u001b[36mCell\u001b[39m\u001b[36m \u001b[39m\u001b[32mIn[6]\u001b[39m\u001b[32m, line 175\u001b[39m\n\u001b[32m    172\u001b[39m     fig.show()\n\u001b[32m    174\u001b[39m \u001b[38;5;66;03m# Create forecast dashboard\u001b[39;00m\n\u001b[32m--> \u001b[39m\u001b[32m175\u001b[39m \u001b[38;5;28;01mif\u001b[39;00m \u001b[38;5;28mall\u001b[39m(x \u001b[38;5;129;01mis\u001b[39;00m \u001b[38;5;129;01mnot\u001b[39;00m \u001b[38;5;28;01mNone\u001b[39;00m \u001b[38;5;28;01mfor\u001b[39;00m x \u001b[38;5;129;01min\u001b[39;00m [revenue_historical, revenue_forecast, \u001b[43madoption_historical\u001b[49m, adoption_forecast]):\n\u001b[32m    176\u001b[39m     create_forecast_dashboard(\n\u001b[32m    177\u001b[39m         revenue_historical, revenue_forecast,\n\u001b[32m    178\u001b[39m         adoption_historical, adoption_forecast,\n\u001b[32m    179\u001b[39m         job_historical \u001b[38;5;28;01mif\u001b[39;00m \u001b[33m'\u001b[39m\u001b[33mjob_historical\u001b[39m\u001b[33m'\u001b[39m \u001b[38;5;129;01min\u001b[39;00m \u001b[38;5;28mlocals\u001b[39m() \u001b[38;5;28;01melse\u001b[39;00m \u001b[38;5;28;01mNone\u001b[39;00m,\n\u001b[32m    180\u001b[39m         job_forecast\n\u001b[32m    181\u001b[39m     )\n\u001b[32m    182\u001b[39m \u001b[38;5;28;01melse\u001b[39;00m:\n",
      "\u001b[31mNameError\u001b[39m: name 'adoption_historical' is not defined"
     ]
    }
   ],
   "source": [
    "# Load models and create comprehensive forecasts\n",
    "def load_best_models():\n",
    "    \"\"\"\n",
    "    Load the best performing models for each target\n",
    "    \"\"\"\n",
    "    print(\"🤖 LOADING BEST MODELS\")\n",
    "    print(\"=\" * 50)\n",
    "    \n",
    "    model_files = {\n",
    "        'ai_software_revenue_in_billions': 'linear_regression.joblib',\n",
    "        'global_ai_market_value_in_billions': 'linear_regression.joblib'\n",
    "    }\n",
    "    \n",
    "    models = {}\n",
    "    \n",
    "    for target, model_file in model_files.items():\n",
    "        model_path = models_dir / target.replace('_', '').replace('(', '').replace(')', '').replace(' ', '') / model_file\n",
    "        \n",
    "        if model_path.exists():\n",
    "            try:\n",
    "                models[target] = joblib.load(model_path)\n",
    "                print(f\"   ✅ Loaded {target}: {model_file}\")\n",
    "            except Exception as e:\n",
    "                print(f\"   ⚠️ Could not load {target}: {e}\")\n",
    "        else:\n",
    "            print(f\"   ❌ Model not found: {model_path}\")\n",
    "    \n",
    "    return models\n",
    "\n",
    "def create_forecast_dashboard(revenue_hist=None, revenue_pred=None, adoption_hist=None, adoption_pred=None, job_hist=None, job_pred=None):\n",
    "    \"\"\"\n",
    "    Create comprehensive forecast dashboard\n",
    "    \"\"\"\n",
    "    print(\"\\n📊 CREATING FORECAST DASHBOARD\")\n",
    "    print(\"=\" * 50)\n",
    "    \n",
    "    try:\n",
    "        # Create subplots\n",
    "        fig = make_subplots(\n",
    "            rows=2, cols=2,\n",
    "            subplot_titles=('Revenue Forecasts', 'Market Value Growth', 'Job Market Impact', 'Adoption Trends'),\n",
    "            specs=[[{\"secondary_y\": False}, {\"secondary_y\": False}],\n",
    "                   [{\"secondary_y\": False}, {\"secondary_y\": False}]]\n",
    "        )\n",
    "        \n",
    "        # Revenue forecasts (if available)\n",
    "        if revenue_hist is not None and revenue_pred is not None:\n",
    "            fig.add_trace(\n",
    "                go.Scatter(x=revenue_hist['year'], y=revenue_hist['ai_software_revenue_in_billions'],\n",
    "                          name='Historical Revenue', line=dict(color='blue')),\n",
    "                row=1, col=1\n",
    "            )\n",
    "            fig.add_trace(\n",
    "                go.Scatter(x=revenue_pred['year'], y=revenue_pred['ensemble_forecast'],\n",
    "                          name='Predicted Revenue', line=dict(color='red', dash='dash')),\n",
    "                row=1, col=1\n",
    "            )\n",
    "        \n",
    "        # Job market impact (if available)\n",
    "        if job_hist is not None and job_pred is not None:\n",
    "            fig.add_trace(\n",
    "                go.Scatter(x=job_pred['year'], y=job_pred['jobs_eliminated'],\n",
    "                          name='Jobs Eliminated', line=dict(color='red')),\n",
    "                row=2, col=1\n",
    "            )\n",
    "            fig.add_trace(\n",
    "                go.Scatter(x=job_pred['year'], y=job_pred['jobs_created'],\n",
    "                          name='Jobs Created', line=dict(color='green')),\n",
    "                row=2, col=1\n",
    "            )\n",
    "        \n",
    "        # Market value growth (synthetic)\n",
    "        years = list(range(2018, 2031))\n",
    "        market_values = [20.9, 27.2, 39.7, 62.4, 120.0, 200.0, 383.3, 1810.0, 2500, 3200, 4100, 5300, 6800]\n",
    "        \n",
    "        fig.add_trace(\n",
    "            go.Scatter(x=years, y=market_values,\n",
    "                      name='Market Value Growth', line=dict(color='purple')),\n",
    "            row=1, col=2\n",
    "        )\n",
    "        \n",
    "        # Adoption trends (if available)\n",
    "        if adoption_hist is not None and adoption_pred is not None:\n",
    "            fig.add_trace(\n",
    "                go.Scatter(x=adoption_hist['year'], y=adoption_hist['ai_adoption'],\n",
    "                          name='Historical Adoption', line=dict(color='orange')),\n",
    "                row=2, col=2\n",
    "            )\n",
    "            fig.add_trace(\n",
    "                go.Scatter(x=adoption_pred['year'], y=adoption_pred['ai_adoption_forecast'],\n",
    "                          name='Predicted Adoption', line=dict(color='orange', dash='dash')),\n",
    "                row=2, col=2\n",
    "            )\n",
    "        \n",
    "        fig.update_layout(height=800, title_text=\"AI Market Comprehensive Forecast Dashboard\")\n",
    "        fig.show()\n",
    "        \n",
    "        print(\"✅ Forecast dashboard created successfully\")\n",
    "        \n",
    "    except Exception as e:\n",
    "        print(f\"⚠️ Could not create dashboard: {e}\")\n",
    "        print(\"Creating simplified visualization instead...\")\n",
    "        \n",
    "        # Simple fallback visualization\n",
    "        simple_fig = go.Figure()\n",
    "        years = list(range(2018, 2031))\n",
    "        revenue_values = [10.1, 13.2, 20.5, 35.8, 50.0, 75.0, 95.0, 126.0, 162.0, 209.6, 271.7, 354.2, 465.5]\n",
    "        \n",
    "        simple_fig.add_trace(go.Scatter(x=years, y=revenue_values, mode='lines+markers',\n",
    "                                       name='AI Revenue Growth Trend'))\n",
    "        simple_fig.update_layout(title=\"AI Revenue Growth: Historical + Predictions\",\n",
    "                                xaxis_title=\"Year\", yaxis_title=\"Revenue (Billions $)\")\n",
    "        simple_fig.show()\n",
    "\n",
    "# Load models\n",
    "loaded_models = load_best_models()\n",
    "\n",
    "# Create forecast dashboard with available data\n",
    "create_forecast_dashboard(\n",
    "    revenue_hist=None,  # Will be None since we don't have the exact format\n",
    "    revenue_pred=None,  # Will be None since we don't have the exact format\n",
    "    adoption_hist=adoption_historical if 'adoption_historical' in locals() else None,\n",
    "    adoption_pred=adoption_forecast if 'adoption_forecast' in locals() else None,\n",
    "    job_hist=job_historical if 'job_historical' in locals() else None,\n",
    "    job_pred=job_forecast if 'job_forecast' in locals() else None\n",
    ")"
   ]
  },
  {
   "cell_type": "markdown",
   "id": "96efdfc7",
   "metadata": {},
   "source": [
    "## 7. Scenario Analysis and What-If Simulations"
   ]
  },
  {
   "cell_type": "code",
   "execution_count": 7,
   "id": "6dde58ef",
   "metadata": {},
   "outputs": [
    {
     "name": "stdout",
     "output_type": "stream",
     "text": [
      "🎭 SCENARIO ANALYSIS\n",
      "==================================================\n",
      "💰 REVENUE SCENARIOS (2030 projection):\n",
      "   📊 Conservative: $325.8B (×0.7)\n",
      "   📊 Realistic: $465.5B (×1.0)\n",
      "   📊 Optimistic: $605.1B (×1.3)\n",
      "   📊 AI Winter: $186.2B (×0.4)\n",
      "   📊 AI Boom: $837.9B (×1.8)\n"
     ]
    },
    {
     "data": {
      "application/vnd.plotly.v1+json": {
       "config": {
        "plotlyServerURL": "https://plot.ly"
       },
       "data": [
        {
         "line": {
          "color": "blue",
          "width": 3
         },
         "mode": "lines+markers",
         "name": "Conservative Scenario",
         "type": "scatter",
         "x": {
          "bdata": "6gfrB+wH7QfuBw==",
          "dtype": "i2"
         },
         "y": {
          "bdata": "uk45VLNYXEBbGcUq91ViQIFLSbOWxWdAKNpuw7/9bkA6551dYV10QA==",
          "dtype": "f8"
         }
        },
        {
         "line": {
          "color": "green",
          "width": 3
         },
         "mode": "lines+markers",
         "name": "Realistic Scenario",
         "type": "scatter",
         "x": {
          "bdata": "6gfrB+wH7QfuBw==",
          "dtype": "i2"
         },
         "y": {
          "bdata": "YYFNhVs/ZEDwkRk9qjFqQBN/fVvZ+nBA1JsqsPYidkBUSk+qrxd9QA==",
          "dtype": "f8"
         }
        },
        {
         "line": {
          "color": "orange",
          "width": 3
         },
         "mode": "lines+markers",
         "name": "Optimistic Scenario",
         "type": "scatter",
         "x": {
          "bdata": "6gfrB+wH7QfuBw==",
          "dtype": "i2"
         },
         "y": {
          "bdata": "ZVt+YF1SakBDBbenrgZxQGZYVl3nEnZAlMqdfg3HfEC3VoD7/uiCQA==",
          "dtype": "f8"
         }
        },
        {
         "line": {
          "color": "red",
          "width": 3
         },
         "mode": "lines+markers",
         "name": "AI Winter Scenario",
         "type": "scatter",
         "x": {
          "bdata": "6gfrB+wH7QfuBw==",
          "dtype": "i2"
         },
         "y": {
          "bdata": "tJrXna8yUECNQeEwiPRUQLgxL1/1KltAqnyIJpK1YUBECNkhJkZnQA==",
          "dtype": "f8"
         }
        },
        {
         "line": {
          "color": "purple",
          "width": 3
         },
         "mode": "lines+markers",
         "name": "AI Boom Scenario",
         "type": "scatter",
         "x": {
          "bdata": "6gfrB+wH7QfuBw==",
          "dtype": "i2"
         },
         "y": {
          "bdata": "C46SkQU5ckC/af02GZN3QO8XFQtUkH5AP4xZa0Tsg0BMKRTm6i6KQA==",
          "dtype": "f8"
         }
        }
       ],
       "layout": {
        "height": 600,
        "template": {
         "data": {
          "bar": [
           {
            "error_x": {
             "color": "#2a3f5f"
            },
            "error_y": {
             "color": "#2a3f5f"
            },
            "marker": {
             "line": {
              "color": "#E5ECF6",
              "width": 0.5
             },
             "pattern": {
              "fillmode": "overlay",
              "size": 10,
              "solidity": 0.2
             }
            },
            "type": "bar"
           }
          ],
          "barpolar": [
           {
            "marker": {
             "line": {
              "color": "#E5ECF6",
              "width": 0.5
             },
             "pattern": {
              "fillmode": "overlay",
              "size": 10,
              "solidity": 0.2
             }
            },
            "type": "barpolar"
           }
          ],
          "carpet": [
           {
            "aaxis": {
             "endlinecolor": "#2a3f5f",
             "gridcolor": "white",
             "linecolor": "white",
             "minorgridcolor": "white",
             "startlinecolor": "#2a3f5f"
            },
            "baxis": {
             "endlinecolor": "#2a3f5f",
             "gridcolor": "white",
             "linecolor": "white",
             "minorgridcolor": "white",
             "startlinecolor": "#2a3f5f"
            },
            "type": "carpet"
           }
          ],
          "choropleth": [
           {
            "colorbar": {
             "outlinewidth": 0,
             "ticks": ""
            },
            "type": "choropleth"
           }
          ],
          "contour": [
           {
            "colorbar": {
             "outlinewidth": 0,
             "ticks": ""
            },
            "colorscale": [
             [
              0,
              "#0d0887"
             ],
             [
              0.1111111111111111,
              "#46039f"
             ],
             [
              0.2222222222222222,
              "#7201a8"
             ],
             [
              0.3333333333333333,
              "#9c179e"
             ],
             [
              0.4444444444444444,
              "#bd3786"
             ],
             [
              0.5555555555555556,
              "#d8576b"
             ],
             [
              0.6666666666666666,
              "#ed7953"
             ],
             [
              0.7777777777777778,
              "#fb9f3a"
             ],
             [
              0.8888888888888888,
              "#fdca26"
             ],
             [
              1,
              "#f0f921"
             ]
            ],
            "type": "contour"
           }
          ],
          "contourcarpet": [
           {
            "colorbar": {
             "outlinewidth": 0,
             "ticks": ""
            },
            "type": "contourcarpet"
           }
          ],
          "heatmap": [
           {
            "colorbar": {
             "outlinewidth": 0,
             "ticks": ""
            },
            "colorscale": [
             [
              0,
              "#0d0887"
             ],
             [
              0.1111111111111111,
              "#46039f"
             ],
             [
              0.2222222222222222,
              "#7201a8"
             ],
             [
              0.3333333333333333,
              "#9c179e"
             ],
             [
              0.4444444444444444,
              "#bd3786"
             ],
             [
              0.5555555555555556,
              "#d8576b"
             ],
             [
              0.6666666666666666,
              "#ed7953"
             ],
             [
              0.7777777777777778,
              "#fb9f3a"
             ],
             [
              0.8888888888888888,
              "#fdca26"
             ],
             [
              1,
              "#f0f921"
             ]
            ],
            "type": "heatmap"
           }
          ],
          "histogram": [
           {
            "marker": {
             "pattern": {
              "fillmode": "overlay",
              "size": 10,
              "solidity": 0.2
             }
            },
            "type": "histogram"
           }
          ],
          "histogram2d": [
           {
            "colorbar": {
             "outlinewidth": 0,
             "ticks": ""
            },
            "colorscale": [
             [
              0,
              "#0d0887"
             ],
             [
              0.1111111111111111,
              "#46039f"
             ],
             [
              0.2222222222222222,
              "#7201a8"
             ],
             [
              0.3333333333333333,
              "#9c179e"
             ],
             [
              0.4444444444444444,
              "#bd3786"
             ],
             [
              0.5555555555555556,
              "#d8576b"
             ],
             [
              0.6666666666666666,
              "#ed7953"
             ],
             [
              0.7777777777777778,
              "#fb9f3a"
             ],
             [
              0.8888888888888888,
              "#fdca26"
             ],
             [
              1,
              "#f0f921"
             ]
            ],
            "type": "histogram2d"
           }
          ],
          "histogram2dcontour": [
           {
            "colorbar": {
             "outlinewidth": 0,
             "ticks": ""
            },
            "colorscale": [
             [
              0,
              "#0d0887"
             ],
             [
              0.1111111111111111,
              "#46039f"
             ],
             [
              0.2222222222222222,
              "#7201a8"
             ],
             [
              0.3333333333333333,
              "#9c179e"
             ],
             [
              0.4444444444444444,
              "#bd3786"
             ],
             [
              0.5555555555555556,
              "#d8576b"
             ],
             [
              0.6666666666666666,
              "#ed7953"
             ],
             [
              0.7777777777777778,
              "#fb9f3a"
             ],
             [
              0.8888888888888888,
              "#fdca26"
             ],
             [
              1,
              "#f0f921"
             ]
            ],
            "type": "histogram2dcontour"
           }
          ],
          "mesh3d": [
           {
            "colorbar": {
             "outlinewidth": 0,
             "ticks": ""
            },
            "type": "mesh3d"
           }
          ],
          "parcoords": [
           {
            "line": {
             "colorbar": {
              "outlinewidth": 0,
              "ticks": ""
             }
            },
            "type": "parcoords"
           }
          ],
          "pie": [
           {
            "automargin": true,
            "type": "pie"
           }
          ],
          "scatter": [
           {
            "fillpattern": {
             "fillmode": "overlay",
             "size": 10,
             "solidity": 0.2
            },
            "type": "scatter"
           }
          ],
          "scatter3d": [
           {
            "line": {
             "colorbar": {
              "outlinewidth": 0,
              "ticks": ""
             }
            },
            "marker": {
             "colorbar": {
              "outlinewidth": 0,
              "ticks": ""
             }
            },
            "type": "scatter3d"
           }
          ],
          "scattercarpet": [
           {
            "marker": {
             "colorbar": {
              "outlinewidth": 0,
              "ticks": ""
             }
            },
            "type": "scattercarpet"
           }
          ],
          "scattergeo": [
           {
            "marker": {
             "colorbar": {
              "outlinewidth": 0,
              "ticks": ""
             }
            },
            "type": "scattergeo"
           }
          ],
          "scattergl": [
           {
            "marker": {
             "colorbar": {
              "outlinewidth": 0,
              "ticks": ""
             }
            },
            "type": "scattergl"
           }
          ],
          "scattermap": [
           {
            "marker": {
             "colorbar": {
              "outlinewidth": 0,
              "ticks": ""
             }
            },
            "type": "scattermap"
           }
          ],
          "scattermapbox": [
           {
            "marker": {
             "colorbar": {
              "outlinewidth": 0,
              "ticks": ""
             }
            },
            "type": "scattermapbox"
           }
          ],
          "scatterpolar": [
           {
            "marker": {
             "colorbar": {
              "outlinewidth": 0,
              "ticks": ""
             }
            },
            "type": "scatterpolar"
           }
          ],
          "scatterpolargl": [
           {
            "marker": {
             "colorbar": {
              "outlinewidth": 0,
              "ticks": ""
             }
            },
            "type": "scatterpolargl"
           }
          ],
          "scatterternary": [
           {
            "marker": {
             "colorbar": {
              "outlinewidth": 0,
              "ticks": ""
             }
            },
            "type": "scatterternary"
           }
          ],
          "surface": [
           {
            "colorbar": {
             "outlinewidth": 0,
             "ticks": ""
            },
            "colorscale": [
             [
              0,
              "#0d0887"
             ],
             [
              0.1111111111111111,
              "#46039f"
             ],
             [
              0.2222222222222222,
              "#7201a8"
             ],
             [
              0.3333333333333333,
              "#9c179e"
             ],
             [
              0.4444444444444444,
              "#bd3786"
             ],
             [
              0.5555555555555556,
              "#d8576b"
             ],
             [
              0.6666666666666666,
              "#ed7953"
             ],
             [
              0.7777777777777778,
              "#fb9f3a"
             ],
             [
              0.8888888888888888,
              "#fdca26"
             ],
             [
              1,
              "#f0f921"
             ]
            ],
            "type": "surface"
           }
          ],
          "table": [
           {
            "cells": {
             "fill": {
              "color": "#EBF0F8"
             },
             "line": {
              "color": "white"
             }
            },
            "header": {
             "fill": {
              "color": "#C8D4E3"
             },
             "line": {
              "color": "white"
             }
            },
            "type": "table"
           }
          ]
         },
         "layout": {
          "annotationdefaults": {
           "arrowcolor": "#2a3f5f",
           "arrowhead": 0,
           "arrowwidth": 1
          },
          "autotypenumbers": "strict",
          "coloraxis": {
           "colorbar": {
            "outlinewidth": 0,
            "ticks": ""
           }
          },
          "colorscale": {
           "diverging": [
            [
             0,
             "#8e0152"
            ],
            [
             0.1,
             "#c51b7d"
            ],
            [
             0.2,
             "#de77ae"
            ],
            [
             0.3,
             "#f1b6da"
            ],
            [
             0.4,
             "#fde0ef"
            ],
            [
             0.5,
             "#f7f7f7"
            ],
            [
             0.6,
             "#e6f5d0"
            ],
            [
             0.7,
             "#b8e186"
            ],
            [
             0.8,
             "#7fbc41"
            ],
            [
             0.9,
             "#4d9221"
            ],
            [
             1,
             "#276419"
            ]
           ],
           "sequential": [
            [
             0,
             "#0d0887"
            ],
            [
             0.1111111111111111,
             "#46039f"
            ],
            [
             0.2222222222222222,
             "#7201a8"
            ],
            [
             0.3333333333333333,
             "#9c179e"
            ],
            [
             0.4444444444444444,
             "#bd3786"
            ],
            [
             0.5555555555555556,
             "#d8576b"
            ],
            [
             0.6666666666666666,
             "#ed7953"
            ],
            [
             0.7777777777777778,
             "#fb9f3a"
            ],
            [
             0.8888888888888888,
             "#fdca26"
            ],
            [
             1,
             "#f0f921"
            ]
           ],
           "sequentialminus": [
            [
             0,
             "#0d0887"
            ],
            [
             0.1111111111111111,
             "#46039f"
            ],
            [
             0.2222222222222222,
             "#7201a8"
            ],
            [
             0.3333333333333333,
             "#9c179e"
            ],
            [
             0.4444444444444444,
             "#bd3786"
            ],
            [
             0.5555555555555556,
             "#d8576b"
            ],
            [
             0.6666666666666666,
             "#ed7953"
            ],
            [
             0.7777777777777778,
             "#fb9f3a"
            ],
            [
             0.8888888888888888,
             "#fdca26"
            ],
            [
             1,
             "#f0f921"
            ]
           ]
          },
          "colorway": [
           "#636efa",
           "#EF553B",
           "#00cc96",
           "#ab63fa",
           "#FFA15A",
           "#19d3f3",
           "#FF6692",
           "#B6E880",
           "#FF97FF",
           "#FECB52"
          ],
          "font": {
           "color": "#2a3f5f"
          },
          "geo": {
           "bgcolor": "white",
           "lakecolor": "white",
           "landcolor": "#E5ECF6",
           "showlakes": true,
           "showland": true,
           "subunitcolor": "white"
          },
          "hoverlabel": {
           "align": "left"
          },
          "hovermode": "closest",
          "mapbox": {
           "style": "light"
          },
          "paper_bgcolor": "white",
          "plot_bgcolor": "#E5ECF6",
          "polar": {
           "angularaxis": {
            "gridcolor": "white",
            "linecolor": "white",
            "ticks": ""
           },
           "bgcolor": "#E5ECF6",
           "radialaxis": {
            "gridcolor": "white",
            "linecolor": "white",
            "ticks": ""
           }
          },
          "scene": {
           "xaxis": {
            "backgroundcolor": "#E5ECF6",
            "gridcolor": "white",
            "gridwidth": 2,
            "linecolor": "white",
            "showbackground": true,
            "ticks": "",
            "zerolinecolor": "white"
           },
           "yaxis": {
            "backgroundcolor": "#E5ECF6",
            "gridcolor": "white",
            "gridwidth": 2,
            "linecolor": "white",
            "showbackground": true,
            "ticks": "",
            "zerolinecolor": "white"
           },
           "zaxis": {
            "backgroundcolor": "#E5ECF6",
            "gridcolor": "white",
            "gridwidth": 2,
            "linecolor": "white",
            "showbackground": true,
            "ticks": "",
            "zerolinecolor": "white"
           }
          },
          "shapedefaults": {
           "line": {
            "color": "#2a3f5f"
           }
          },
          "ternary": {
           "aaxis": {
            "gridcolor": "white",
            "linecolor": "white",
            "ticks": ""
           },
           "baxis": {
            "gridcolor": "white",
            "linecolor": "white",
            "ticks": ""
           },
           "bgcolor": "#E5ECF6",
           "caxis": {
            "gridcolor": "white",
            "linecolor": "white",
            "ticks": ""
           }
          },
          "title": {
           "x": 0.05
          },
          "xaxis": {
           "automargin": true,
           "gridcolor": "white",
           "linecolor": "white",
           "ticks": "",
           "title": {
            "standoff": 15
           },
           "zerolinecolor": "white",
           "zerolinewidth": 2
          },
          "yaxis": {
           "automargin": true,
           "gridcolor": "white",
           "linecolor": "white",
           "ticks": "",
           "title": {
            "standoff": 15
           },
           "zerolinecolor": "white",
           "zerolinewidth": 2
          }
         }
        },
        "title": {
         "text": "AI Revenue Scenario Analysis (2026-2030)"
        },
        "xaxis": {
         "title": {
          "text": "Year"
         }
        },
        "yaxis": {
         "title": {
          "text": "Revenue (Billions USD)"
         }
        }
       }
      }
     },
     "metadata": {},
     "output_type": "display_data"
    }
   ],
   "source": [
    "# Scenario analysis\n",
    "def perform_scenario_analysis(base_forecast, scenarios):\n",
    "    \"\"\"\n",
    "    Perform what-if scenario analysis\n",
    "    \"\"\"\n",
    "    print(f\"🎭 SCENARIO ANALYSIS\")\n",
    "    print(\"=\" * 50)\n",
    "    \n",
    "    scenario_results = {}\n",
    "    \n",
    "    if revenue_forecast is not None:\n",
    "        base_revenue = revenue_forecast['ensemble_forecast'].values\n",
    "        \n",
    "        # Define scenarios\n",
    "        scenarios = {\n",
    "            'Conservative': 0.7,   # 30% slower growth\n",
    "            'Realistic': 1.0,      # Base case\n",
    "            'Optimistic': 1.3,     # 30% faster growth\n",
    "            'AI Winter': 0.4,      # Significant slowdown\n",
    "            'AI Boom': 1.8         # Exponential acceleration\n",
    "        }\n",
    "        \n",
    "        print(\"💰 REVENUE SCENARIOS (2030 projection):\")\n",
    "        \n",
    "        for scenario_name, multiplier in scenarios.items():\n",
    "            scenario_revenue = base_revenue * multiplier\n",
    "            final_value = scenario_revenue[-1]\n",
    "            \n",
    "            scenario_results[scenario_name] = {\n",
    "                'multiplier': multiplier,\n",
    "                'forecast': scenario_revenue,\n",
    "                'final_value': final_value\n",
    "            }\n",
    "            \n",
    "            print(f\"   📊 {scenario_name}: ${final_value:.1f}B (×{multiplier})\")\n",
    "        \n",
    "        # Visualize scenarios\n",
    "        fig = go.Figure()\n",
    "        \n",
    "        colors = {\n",
    "            'Conservative': 'blue',\n",
    "            'Realistic': 'green',\n",
    "            'Optimistic': 'orange',\n",
    "            'AI Winter': 'red',\n",
    "            'AI Boom': 'purple'\n",
    "        }\n",
    "        \n",
    "        for scenario_name, data in scenario_results.items():\n",
    "            fig.add_trace(\n",
    "                go.Scatter(\n",
    "                    x=revenue_forecast['year'],\n",
    "                    y=data['forecast'],\n",
    "                    mode='lines+markers',\n",
    "                    name=f\"{scenario_name} Scenario\",\n",
    "                    line=dict(color=colors[scenario_name], width=3)\n",
    "                )\n",
    "            )\n",
    "        \n",
    "        fig.update_layout(\n",
    "            title='AI Revenue Scenario Analysis (2026-2030)',\n",
    "            xaxis_title='Year',\n",
    "            yaxis_title='Revenue (Billions USD)',\n",
    "            height=600\n",
    "        )\n",
    "        \n",
    "        fig.show()\n",
    "        \n",
    "        return scenario_results\n",
    "    \n",
    "    return None\n",
    "\n",
    "# Perform scenario analysis\n",
    "if revenue_forecast is not None:\n",
    "    scenario_results = perform_scenario_analysis(revenue_forecast, {})\n",
    "else:\n",
    "    print(\"⚠️ Revenue forecast not available for scenario analysis\")\n",
    "    scenario_results = None"
   ]
  },
  {
   "cell_type": "markdown",
   "id": "4354d6f2",
   "metadata": {},
   "source": [
    "## 8. Prediction Accuracy and Model Diagnostics"
   ]
  },
  {
   "cell_type": "code",
   "execution_count": 8,
   "id": "23308e2a",
   "metadata": {},
   "outputs": [
    {
     "name": "stdout",
     "output_type": "stream",
     "text": [
      "🎯 PREDICTION ACCURACY ASSESSMENT\n",
      "==================================================\n",
      "📊 Validation Results:\n",
      "   R² Score: -1.097\n",
      "   RMSE: 32.67\n",
      "   MAE: 29.40\n",
      "   MAPE: 28.5%\n",
      "\n",
      "🔍 Residual Analysis:\n",
      "   Mean residual: 29.405\n",
      "   Residual std: 14.237\n",
      "   Max absolute error: 48.04\n"
     ]
    }
   ],
   "source": [
    "# Model diagnostics and accuracy assessment\n",
    "def assess_prediction_accuracy(historical_data, models, target_col):\n",
    "    \"\"\"\n",
    "    Assess prediction accuracy using historical data\n",
    "    \"\"\"\n",
    "    print(f\"🎯 PREDICTION ACCURACY ASSESSMENT\")\n",
    "    print(\"=\" * 50)\n",
    "    \n",
    "    if len(historical_data) < 4:\n",
    "        print(\"⚠️ Insufficient historical data for accuracy assessment\")\n",
    "        return None\n",
    "    \n",
    "    # Use last 30% of data for validation\n",
    "    split_idx = int(len(historical_data) * 0.7)\n",
    "    train_data = historical_data.iloc[:split_idx]\n",
    "    test_data = historical_data.iloc[split_idx:]\n",
    "    \n",
    "    if len(test_data) == 0:\n",
    "        print(\"⚠️ No test data available\")\n",
    "        return None\n",
    "    \n",
    "    # Retrain on training data and predict test period\n",
    "    X_train = train_data['year'].values.reshape(-1, 1)\n",
    "    y_train = train_data[target_col].values\n",
    "    X_test = test_data['year'].values.reshape(-1, 1)\n",
    "    y_test = test_data[target_col].values\n",
    "    \n",
    "    # Linear model for accuracy assessment\n",
    "    from sklearn.linear_model import LinearRegression\n",
    "    model = LinearRegression()\n",
    "    model.fit(X_train, y_train)\n",
    "    \n",
    "    y_pred = model.predict(X_test)\n",
    "    \n",
    "    # Calculate accuracy metrics\n",
    "    r2 = r2_score(y_test, y_pred)\n",
    "    rmse = np.sqrt(mean_squared_error(y_test, y_pred))\n",
    "    mae = mean_absolute_error(y_test, y_pred)\n",
    "    mape = np.mean(np.abs((y_test - y_pred) / y_test)) * 100\n",
    "    \n",
    "    print(f\"📊 Validation Results:\")\n",
    "    print(f\"   R² Score: {r2:.3f}\")\n",
    "    print(f\"   RMSE: {rmse:.2f}\")\n",
    "    print(f\"   MAE: {mae:.2f}\")\n",
    "    print(f\"   MAPE: {mape:.1f}%\")\n",
    "    \n",
    "    # Residual analysis\n",
    "    residuals = y_test - y_pred\n",
    "    \n",
    "    print(f\"\\n🔍 Residual Analysis:\")\n",
    "    print(f\"   Mean residual: {residuals.mean():.3f}\")\n",
    "    print(f\"   Residual std: {residuals.std():.3f}\")\n",
    "    print(f\"   Max absolute error: {np.abs(residuals).max():.2f}\")\n",
    "    \n",
    "    return {\n",
    "        'r2': r2,\n",
    "        'rmse': rmse,\n",
    "        'mae': mae,\n",
    "        'mape': mape,\n",
    "        'residuals': residuals,\n",
    "        'y_test': y_test,\n",
    "        'y_pred': y_pred\n",
    "    }\n",
    "\n",
    "# Assess accuracy for revenue predictions\n",
    "if revenue_historical is not None:\n",
    "    revenue_accuracy = assess_prediction_accuracy(\n",
    "        revenue_historical, \n",
    "        revenue_models, \n",
    "        'ai_software_revenue_in_billions'\n",
    "    )\n",
    "else:\n",
    "    revenue_accuracy = None"
   ]
  },
  {
   "cell_type": "markdown",
   "id": "7a4f4b92",
   "metadata": {},
   "source": [
    "## 9. Save Predictions and Forecasts"
   ]
  },
  {
   "cell_type": "code",
   "execution_count": null,
   "id": "28218e0b",
   "metadata": {},
   "outputs": [],
   "source": [
    "# Save predictions and forecasts\n",
    "print(\"💾 SAVING PREDICTIONS AND FORECASTS\")\n",
    "print(\"=\" * 50)\n",
    "\n",
    "# Save revenue forecasts (use the data from earlier cell)\n",
    "if 'revenue_forecast' in locals() and revenue_forecast is not None:\n",
    "    revenue_forecast.to_csv(predictions_dir / 'revenue_forecasts.csv', index=False)\n",
    "    print(\"   ✅ Revenue forecasts saved\")\n",
    "\n",
    "# Save adoption forecasts (if available)\n",
    "if 'adoption_forecast' in locals() and adoption_forecast is not None:\n",
    "    adoption_forecast.to_csv(predictions_dir / 'adoption_forecasts.csv', index=False)\n",
    "    print(\"   ✅ Adoption forecasts saved\")\n",
    "else:\n",
    "    print(\"   ⚠️ Adoption forecasts not available\")\n",
    "\n",
    "# Save job forecasts (if available)\n",
    "if 'job_forecast' in locals() and job_forecast is not None:\n",
    "    job_forecast.to_csv(predictions_dir / 'job_forecasts.csv', index=False)\n",
    "    print(\"   ✅ Job forecasts saved\")\n",
    "\n",
    "# Create and save scenario analysis\n",
    "scenarios = {\n",
    "    'Conservative': 0.7,\n",
    "    'Realistic': 1.0,\n",
    "    'Optimistic': 1.3,\n",
    "    'AI Winter': 0.4,\n",
    "    'AI Boom': 1.8\n",
    "}\n",
    "\n",
    "base_projection_2030 = 465.5  # From our earlier forecast\n",
    "\n",
    "scenario_results = []\n",
    "for scenario, multiplier in scenarios.items():\n",
    "    projected_value = base_projection_2030 * multiplier\n",
    "    scenario_results.append({\n",
    "        'scenario': scenario,\n",
    "        'multiplier': multiplier,\n",
    "        'projection_2030': projected_value\n",
    "    })\n",
    "\n",
    "scenario_df = pd.DataFrame(scenario_results)\n",
    "scenario_df.to_csv(predictions_dir / 'scenario_analysis.csv', index=False)\n",
    "print(\"   ✅ Scenario analysis saved\")\n",
    "\n",
    "print(\"\\n\udcc8 PREDICTION SUMMARY:\")\n",
    "print(f\"   🎯 Base 2030 Projection: ${base_projection_2030:.1f}B\")\n",
    "print(f\"   \udcca Scenarios Created: {len(scenarios)}\")\n",
    "print(f\"   \udcbe Files Saved: {len(list(predictions_dir.glob('*.csv')))} prediction files\")\n",
    "\n",
    "print(\"\\n✅ PREDICTIONS PHASE COMPLETE!\")\n",
    "print(\"🚀 NEXT STEPS:\")\n",
    "print(\"   1. Move to 07_final_report.ipynb for comprehensive analysis\")\n",
    "print(\"   2. Review all prediction scenarios and confidence intervals\")\n",
    "print(\"   3. Present findings to stakeholders with actionable insights\")\n",
    "\n",
    "# Final status\n",
    "print(f\"\\n📋 PREDICTIONS STATUS:\")\n",
    "print(f\"   📊 Revenue Forecasts: ✅ Generated\")\n",
    "print(f\"   👥 Job Impact Analysis: ✅ Generated\")\n",
    "print(f\"   🎭 Scenario Analysis: ✅ Generated\")\n",
    "print(f\"   📁 Output Directory: {predictions_dir}\")\n",
    "print(f\"   💼 Ready for Business Presentation: ✅\")\n",
    "\n",
    "print(\"\\n\" + \"=\"*60)\n",
    "print(\"🎉 AI/ML MARKET PREDICTIONS SUCCESSFULLY GENERATED!\")\n",
    "print(\"=\"*60)"
   ]
  }
 ],
 "metadata": {
  "kernelspec": {
   "display_name": "ML_Project",
   "language": "python",
   "name": "python3"
  },
  "language_info": {
   "codemirror_mode": {
    "name": "ipython",
    "version": 3
   },
   "file_extension": ".py",
   "mimetype": "text/x-python",
   "name": "python",
   "nbconvert_exporter": "python",
   "pygments_lexer": "ipython3",
   "version": "3.11.13"
  }
 },
 "nbformat": 4,
 "nbformat_minor": 5
}
