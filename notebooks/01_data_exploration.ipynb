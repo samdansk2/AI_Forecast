{
  "cells": [
    {
      "cell_type": "markdown",
      "id": "df64f017",
      "metadata": {},
      "source": [
        "# Data Exploration - AI/ML Market Analysis\n",
        "\n",
        "This notebook performs comprehensive exploration of the AI/ML market datasets to understand the structure, quality, and patterns in the data.\n",
        "\n",
        "## Datasets:\n",
        "1. **AI_ML_popularity.csv**: Global AI popularity data by country/city with search trends\n",
        "2. **The_Rise_of_AI.csv**: AI market metrics from 2018-2025 including revenue, adoption rates, job impacts\n",
        "\n",
        "## Objectives:\n",
        "- Load and examine all datasets\n",
        "- Understand data structure and quality\n",
        "- Identify missing values, outliers, and anomalies\n",
        "- Generate statistical summaries\n",
        "- Document initial insights"
      ]
    },
    {
      "cell_type": "markdown",
      "id": "7070d190",
      "metadata": {},
      "source": [
        "## 1. Import Required Libraries"
      ]
    },
    {
      "cell_type": "code",
      "execution_count": null,
      "id": "cdf4b837",
      "metadata": {},
      "outputs": [
        {
          "name": "stdout",
          "output_type": "stream",
          "text": [
            "Libraries imported successfully!\n",
            "Pandas version: 2.3.1\n",
            "Numpy version: 2.1.3\n"
          ]
        }
      ],
      "source": [
        "# Data manipulation and analysis\n",
        "import pandas as pd\n",
        "import numpy as np\n",
        "\n",
        "# Visualization\n",
        "import matplotlib.pyplot as plt\n",
        "import seaborn as sns\n",
        "import plotly.express as px\n",
        "import plotly.graph_objects as go\n",
        "from plotly.subplots import make_subplots\n",
        "\n",
        "# Utilities\n",
        "import warnings\n",
        "import os\n",
        "from pathlib import Path\n",
        "\n",
        "# Configuration\n",
        "plt.style.use('default')\n",
        "sns.set_palette(\"husl\")\n",
        "warnings.filterwarnings('ignore')\n",
        "pd.set_option('display.max_columns', None)\n",
        "pd.set_option('display.max_rows', 100)"
      ]
    },
    {
      "cell_type": "markdown",
      "id": "8b87c41c",
      "metadata": {},
      "source": [
        "## 2. Load Datasets"
      ]
    },
    {
      "cell_type": "code",
      "execution_count": null,
      "id": "bb93e4bb",
      "metadata": {},
      "outputs": [
        {
          "name": "stdout",
          "output_type": "stream",
          "text": [
            "Loading datasets...\n",
            "Popularity data: True\n",
            "Market data: True\n",
            "\n",
            "✅ Datasets loaded successfully!\n",
            "Popularity dataset: (250, 12)\n",
            "Market dataset: (8, 22)\n"
          ]
        }
      ],
      "source": [
        "# Define data paths\n",
        "data_dir = Path('../data/raw')\n",
        "popularity_file = data_dir / 'AI_ML_popularity.csv'\n",
        "market_file = data_dir / 'The_Rise_of_AI.csv'\n",
        "\n",
        "# Load datasets with proper encoding handling\n",
        "try:\n",
        "    # Try UTF-8 first, then fallback to other encodings\n",
        "    try:\n",
        "        popularity_df = pd.read_csv(popularity_file, encoding='utf-8')\n",
        "    except UnicodeDecodeError:\n",
        "        popularity_df = pd.read_csv(popularity_file, encoding='latin-1')\n",
        "    \n",
        "    try:\n",
        "        market_df = pd.read_csv(market_file, encoding='utf-8')\n",
        "    except UnicodeDecodeError:\n",
        "        market_df = pd.read_csv(market_file, encoding='latin-1')\n",
        "    \n",
        "except Exception as e:"
      ]
    },
    {
      "cell_type": "markdown",
      "id": "0caf2f63",
      "metadata": {},
      "source": [
        "## 3. Initial Data Examination"
      ]
    },
    {
      "cell_type": "code",
      "execution_count": null,
      "id": "a95338b0",
      "metadata": {},
      "outputs": [
        {
          "name": "stdout",
          "output_type": "stream",
          "text": [
            "============================================================\n",
            "DATASET OVERVIEW\n",
            "============================================================\n",
            "📊 AI Popularity Dataset Shape: (250, 12)\n",
            "📊 AI Market Dataset Shape: (8, 22)\n",
            "\n",
            "============================================================\n",
            "AI POPULARITY DATASET INFO\n",
            "============================================================\n",
            "<class 'pandas.core.frame.DataFrame'>\n",
            "RangeIndex: 250 entries, 0 to 249\n",
            "Data columns (total 12 columns):\n",
            " #   Column                          Non-Null Count  Dtype  \n",
            "---  ------                          --------------  -----  \n",
            " 0   Country                         250 non-null    object \n",
            " 1   Ai and ML(Popularity)           72 non-null     float64\n",
            " 2   City                            200 non-null    object \n",
            " 3   Ai and ML(Popularity).1         200 non-null    float64\n",
            " 4   Top (Searches)                  25 non-null     object \n",
            " 5   Popularity                      25 non-null     float64\n",
            " 6   Rising (Searches)               25 non-null     object \n",
            " 7   Rising (Searches) Percentage    25 non-null     object \n",
            " 8   Top (Searches).1                25 non-null     object \n",
            " 9   Popularity.1                    25 non-null     float64\n",
            " 10  Rising (Searches).1             25 non-null     object \n",
            " 11  Rising (Searches) Percentage.1  25 non-null     object \n",
            "dtypes: float64(4), object(8)\n",
            "memory usage: 23.6+ KB\n",
            "None\n",
            "\n",
            "============================================================\n",
            "AI MARKET DATASET INFO\n",
            "============================================================\n",
            "<class 'pandas.core.frame.DataFrame'>\n",
            "RangeIndex: 8 entries, 0 to 7\n",
            "Data columns (total 22 columns):\n",
            " #   Column                                                          Non-Null Count  Dtype  \n",
            "---  ------                                                          --------------  -----  \n",
            " 0   Year                                                            8 non-null      int64  \n",
            " 1   AI Software Revenue(in Billions)                                8 non-null      float64\n",
            " 2   Global AI Market Value(in Billions)                             8 non-null      float64\n",
            " 3   AI Adoption (%)                                                 8 non-null      object \n",
            " 4   Organizations Using AI                                          8 non-null      object \n",
            " 5   Organizations Planning to Implement AI                          8 non-null      object \n",
            " 6   Global Expectation for AI Adoption (%)                          8 non-null      object \n",
            " 7   Estimated Jobs Eliminated by AI (millions)                      8 non-null      object \n",
            " 8   Estimated New Jobs Created by AI (millions)                     8 non-null      object \n",
            " 9   Net Job Loss in the US                                          8 non-null      object \n",
            " 10  Organizations Believing AI Provides Competitive Edge            8 non-null      object \n",
            " 11  Companies Prioritizing AI in Strategy                           8 non-null      object \n",
            " 12  Estimated Revenue Increase from AI (trillions USD)              8 non-null      float64\n",
            " 13  Marketers Believing AI Improves Email Revenue                   8 non-null      object \n",
            " 14  Expected Increase in Employee Productivity Due to AI (%)        8 non-null      object \n",
            " 15  Americans Using Voice Assistants (%)                            8 non-null      object \n",
            " 16  Digital Voice Assistants (billions of devices)                  8 non-null      float64\n",
            " 17  Medical Professionals Using AI for Diagnosis                    8 non-null      object \n",
            " 18  AI Contribution to Healthcare(in Billions)                      8 non-null      int64  \n",
            " 19  Jobs at High Risk of Automation - Transportation & Storage (%)  8 non-null      object \n",
            " 20  Jobs at High Risk of Automation - Wholesale & Retail Trade      8 non-null      object \n",
            " 21  Jobs at High Risk of Automation - Manufacturing                 8 non-null      object \n",
            "dtypes: float64(4), int64(2), object(16)\n",
            "memory usage: 1.5+ KB\n",
            "None\n"
          ]
        }
      ],
      "source": [
        "# Dataset shapes and basic info\n",
        "popularity_df.info()\n",
        "market_df.info()"
      ]
    },
    {
      "cell_type": "markdown",
      "id": "0b419c73",
      "metadata": {},
      "source": [
        "## 4. Data Structure Analysis"
      ]
    },
    {
      "cell_type": "code",
      "execution_count": null,
      "id": "fa45a60c",
      "metadata": {},
      "outputs": [
        {
          "name": "stdout",
          "output_type": "stream",
          "text": [
            "============================================================\n",
            "AI POPULARITY DATASET - FIRST 5 ROWS\n",
            "============================================================\n"
          ]
        },
        {
          "data": {
            "text/html": [
              "<div>\n",
              "<style scoped>\n",
              "    .dataframe tbody tr th:only-of-type {\n",
              "        vertical-align: middle;\n",
              "    }\n",
              "\n",
              "    .dataframe tbody tr th {\n",
              "        vertical-align: top;\n",
              "    }\n",
              "\n",
              "    .dataframe thead th {\n",
              "        text-align: right;\n",
              "    }\n",
              "</style>\n",
              "<table border=\"1\" class=\"dataframe\">\n",
              "  <thead>\n",
              "    <tr style=\"text-align: right;\">\n",
              "      <th></th>\n",
              "      <th>Country</th>\n",
              "      <th>Ai and ML(Popularity)</th>\n",
              "      <th>City</th>\n",
              "      <th>Ai and ML(Popularity).1</th>\n",
              "      <th>Top (Searches)</th>\n",
              "      <th>Popularity</th>\n",
              "      <th>Rising (Searches)</th>\n",
              "      <th>Rising (Searches) Percentage</th>\n",
              "      <th>Top (Searches).1</th>\n",
              "      <th>Popularity.1</th>\n",
              "      <th>Rising (Searches).1</th>\n",
              "      <th>Rising (Searches) Percentage.1</th>\n",
              "    </tr>\n",
              "  </thead>\n",
              "  <tbody>\n",
              "    <tr>\n",
              "      <th>0</th>\n",
              "      <td>Tuvalu</td>\n",
              "      <td>NaN</td>\n",
              "      <td>Sapror</td>\n",
              "      <td>100.0</td>\n",
              "      <td>Artificial intelligence</td>\n",
              "      <td>100.0</td>\n",
              "      <td>Character.ai</td>\n",
              "      <td>5000%</td>\n",
              "      <td>ai character</td>\n",
              "      <td>100.0</td>\n",
              "      <td>chatgpt</td>\n",
              "      <td>5000%</td>\n",
              "    </tr>\n",
              "    <tr>\n",
              "      <th>1</th>\n",
              "      <td>Vietnam</td>\n",
              "      <td>100.0</td>\n",
              "      <td>Sil Kapra</td>\n",
              "      <td>74.0</td>\n",
              "      <td>Character.ai</td>\n",
              "      <td>14.0</td>\n",
              "      <td>ChatGPT</td>\n",
              "      <td>5000%</td>\n",
              "      <td>ai generator</td>\n",
              "      <td>48.0</td>\n",
              "      <td>chatgpt ai</td>\n",
              "      <td>5000%</td>\n",
              "    </tr>\n",
              "    <tr>\n",
              "      <th>2</th>\n",
              "      <td>China</td>\n",
              "      <td>72.0</td>\n",
              "      <td>Stanford</td>\n",
              "      <td>72.0</td>\n",
              "      <td>Online chat</td>\n",
              "      <td>5.0</td>\n",
              "      <td>Gemini</td>\n",
              "      <td>5000%</td>\n",
              "      <td>ai image</td>\n",
              "      <td>33.0</td>\n",
              "      <td>chat gpt</td>\n",
              "      <td>5000%</td>\n",
              "    </tr>\n",
              "    <tr>\n",
              "      <th>3</th>\n",
              "      <td>Romania</td>\n",
              "      <td>63.0</td>\n",
              "      <td>Shenzhen</td>\n",
              "      <td>58.0</td>\n",
              "      <td>OpenAI</td>\n",
              "      <td>4.0</td>\n",
              "      <td>AI Chatbot</td>\n",
              "      <td>5000%</td>\n",
              "      <td>ai chat</td>\n",
              "      <td>30.0</td>\n",
              "      <td>chat gpt ai</td>\n",
              "      <td>5000%</td>\n",
              "    </tr>\n",
              "    <tr>\n",
              "      <th>4</th>\n",
              "      <td>Samoa</td>\n",
              "      <td>NaN</td>\n",
              "      <td>Shanghai</td>\n",
              "      <td>57.0</td>\n",
              "      <td>ChatGPT</td>\n",
              "      <td>3.0</td>\n",
              "      <td>Midjourney</td>\n",
              "      <td>5000%</td>\n",
              "      <td>google ai</td>\n",
              "      <td>26.0</td>\n",
              "      <td>bard ai</td>\n",
              "      <td>5000%</td>\n",
              "    </tr>\n",
              "  </tbody>\n",
              "</table>\n",
              "</div>"
            ],
            "text/plain": [
              "   Country  Ai and ML(Popularity)       City  Ai and ML(Popularity).1  \\\n",
              "0   Tuvalu                    NaN     Sapror                    100.0   \n",
              "1  Vietnam                  100.0  Sil Kapra                     74.0   \n",
              "2    China                   72.0   Stanford                     72.0   \n",
              "3  Romania                   63.0   Shenzhen                     58.0   \n",
              "4    Samoa                    NaN   Shanghai                     57.0   \n",
              "\n",
              "            Top (Searches)  Popularity Rising (Searches)  \\\n",
              "0  Artificial intelligence       100.0      Character.ai   \n",
              "1             Character.ai        14.0           ChatGPT   \n",
              "2              Online chat         5.0            Gemini   \n",
              "3                   OpenAI         4.0        AI Chatbot   \n",
              "4                  ChatGPT         3.0        Midjourney   \n",
              "\n",
              "  Rising (Searches) Percentage Top (Searches).1  Popularity.1  \\\n",
              "0                        5000%     ai character         100.0   \n",
              "1                        5000%     ai generator          48.0   \n",
              "2                        5000%         ai image          33.0   \n",
              "3                        5000%          ai chat          30.0   \n",
              "4                        5000%        google ai          26.0   \n",
              "\n",
              "  Rising (Searches).1 Rising (Searches) Percentage.1  \n",
              "0             chatgpt                          5000%  \n",
              "1          chatgpt ai                          5000%  \n",
              "2            chat gpt                          5000%  \n",
              "3         chat gpt ai                          5000%  \n",
              "4             bard ai                          5000%  "
            ]
          },
          "metadata": {},
          "output_type": "display_data"
        },
        {
          "name": "stdout",
          "output_type": "stream",
          "text": [
            "\n",
            "============================================================\n",
            "AI POPULARITY DATASET - COLUMN NAMES\n",
            "============================================================\n",
            " 1. Country\n",
            " 2. Ai and ML(Popularity)\n",
            " 3. City\n",
            " 4. Ai and ML(Popularity).1\n",
            " 5. Top (Searches)\n",
            " 6. Popularity\n",
            " 7. Rising (Searches)\n",
            " 8. Rising (Searches) Percentage\n",
            " 9. Top (Searches).1\n",
            "10. Popularity.1\n",
            "11. Rising (Searches).1\n",
            "12. Rising (Searches) Percentage.1\n"
          ]
        }
      ],
      "source": [
        "# Examine column names and first few rows\n",
        "display(popularity_df.head())\n",
        "display(popularity_df.columns.tolist())"
      ]
    },
    {
      "cell_type": "code",
      "execution_count": null,
      "id": "83acb213",
      "metadata": {},
      "outputs": [
        {
          "name": "stdout",
          "output_type": "stream",
          "text": [
            "============================================================\n",
            "AI MARKET DATASET - FIRST 5 ROWS\n",
            "============================================================\n"
          ]
        },
        {
          "data": {
            "text/html": [
              "<div>\n",
              "<style scoped>\n",
              "    .dataframe tbody tr th:only-of-type {\n",
              "        vertical-align: middle;\n",
              "    }\n",
              "\n",
              "    .dataframe tbody tr th {\n",
              "        vertical-align: top;\n",
              "    }\n",
              "\n",
              "    .dataframe thead th {\n",
              "        text-align: right;\n",
              "    }\n",
              "</style>\n",
              "<table border=\"1\" class=\"dataframe\">\n",
              "  <thead>\n",
              "    <tr style=\"text-align: right;\">\n",
              "      <th></th>\n",
              "      <th>Year</th>\n",
              "      <th>AI Software Revenue(in Billions)</th>\n",
              "      <th>Global AI Market Value(in Billions)</th>\n",
              "      <th>AI Adoption (%)</th>\n",
              "      <th>Organizations Using AI</th>\n",
              "      <th>Organizations Planning to Implement AI</th>\n",
              "      <th>Global Expectation for AI Adoption (%)</th>\n",
              "      <th>Estimated Jobs Eliminated by AI (millions)</th>\n",
              "      <th>Estimated New Jobs Created by AI (millions)</th>\n",
              "      <th>Net Job Loss in the US</th>\n",
              "      <th>Organizations Believing AI Provides Competitive Edge</th>\n",
              "      <th>Companies Prioritizing AI in Strategy</th>\n",
              "      <th>Estimated Revenue Increase from AI (trillions USD)</th>\n",
              "      <th>Marketers Believing AI Improves Email Revenue</th>\n",
              "      <th>Expected Increase in Employee Productivity Due to AI (%)</th>\n",
              "      <th>Americans Using Voice Assistants (%)</th>\n",
              "      <th>Digital Voice Assistants (billions of devices)</th>\n",
              "      <th>Medical Professionals Using AI for Diagnosis</th>\n",
              "      <th>AI Contribution to Healthcare(in Billions)</th>\n",
              "      <th>Jobs at High Risk of Automation - Transportation &amp; Storage (%)</th>\n",
              "      <th>Jobs at High Risk of Automation - Wholesale &amp; Retail Trade</th>\n",
              "      <th>Jobs at High Risk of Automation - Manufacturing</th>\n",
              "    </tr>\n",
              "  </thead>\n",
              "  <tbody>\n",
              "    <tr>\n",
              "      <th>0</th>\n",
              "      <td>2018</td>\n",
              "      <td>10.10</td>\n",
              "      <td>29.5</td>\n",
              "      <td>10%</td>\n",
              "      <td>35%</td>\n",
              "      <td>40%</td>\n",
              "      <td>40%</td>\n",
              "      <td>10%</td>\n",
              "      <td>5%</td>\n",
              "      <td>7%</td>\n",
              "      <td>87%</td>\n",
              "      <td>83%</td>\n",
              "      <td>1.2</td>\n",
              "      <td>41.29%</td>\n",
              "      <td>5%</td>\n",
              "      <td>20%</td>\n",
              "      <td>1.5</td>\n",
              "      <td>38%</td>\n",
              "      <td>461</td>\n",
              "      <td>35%</td>\n",
              "      <td>44%</td>\n",
              "      <td>46.40%</td>\n",
              "    </tr>\n",
              "    <tr>\n",
              "      <th>1</th>\n",
              "      <td>2019</td>\n",
              "      <td>14.69</td>\n",
              "      <td>35.0</td>\n",
              "      <td>20%</td>\n",
              "      <td>37%</td>\n",
              "      <td>42%</td>\n",
              "      <td>47%</td>\n",
              "      <td>15%</td>\n",
              "      <td>8%</td>\n",
              "      <td>6.50%</td>\n",
              "      <td>88%</td>\n",
              "      <td>84%</td>\n",
              "      <td>1.8</td>\n",
              "      <td>42%</td>\n",
              "      <td>7%</td>\n",
              "      <td>25%</td>\n",
              "      <td>2.0</td>\n",
              "      <td>39%</td>\n",
              "      <td>465</td>\n",
              "      <td>38%</td>\n",
              "      <td>45%</td>\n",
              "      <td>47%</td>\n",
              "    </tr>\n",
              "    <tr>\n",
              "      <th>2</th>\n",
              "      <td>2020</td>\n",
              "      <td>22.59</td>\n",
              "      <td>45.0</td>\n",
              "      <td>30%</td>\n",
              "      <td>40%</td>\n",
              "      <td>45%</td>\n",
              "      <td>54%</td>\n",
              "      <td>20%</td>\n",
              "      <td>12%</td>\n",
              "      <td>6%</td>\n",
              "      <td>88%</td>\n",
              "      <td>85%</td>\n",
              "      <td>2.4</td>\n",
              "      <td>43%</td>\n",
              "      <td>9%</td>\n",
              "      <td>30%</td>\n",
              "      <td>2.6</td>\n",
              "      <td>41%</td>\n",
              "      <td>470</td>\n",
              "      <td>40%</td>\n",
              "      <td>46%</td>\n",
              "      <td>47.50%</td>\n",
              "    </tr>\n",
              "    <tr>\n",
              "      <th>3</th>\n",
              "      <td>2021</td>\n",
              "      <td>34.87</td>\n",
              "      <td>65.0</td>\n",
              "      <td>35%</td>\n",
              "      <td>42%</td>\n",
              "      <td>47%</td>\n",
              "      <td>61%</td>\n",
              "      <td>25%</td>\n",
              "      <td>16%</td>\n",
              "      <td>5.50%</td>\n",
              "      <td>89%</td>\n",
              "      <td>86%</td>\n",
              "      <td>3.0</td>\n",
              "      <td>44%</td>\n",
              "      <td>11%</td>\n",
              "      <td>35%</td>\n",
              "      <td>3.2</td>\n",
              "      <td>43%</td>\n",
              "      <td>475</td>\n",
              "      <td>43%</td>\n",
              "      <td>47%</td>\n",
              "      <td>48%</td>\n",
              "    </tr>\n",
              "    <tr>\n",
              "      <th>4</th>\n",
              "      <td>2022</td>\n",
              "      <td>51.27</td>\n",
              "      <td>140.0</td>\n",
              "      <td>35%</td>\n",
              "      <td>45%</td>\n",
              "      <td>50%</td>\n",
              "      <td>68%</td>\n",
              "      <td>30%</td>\n",
              "      <td>20%</td>\n",
              "      <td>5%</td>\n",
              "      <td>90%</td>\n",
              "      <td>87%</td>\n",
              "      <td>3.6</td>\n",
              "      <td>45%</td>\n",
              "      <td>13%</td>\n",
              "      <td>40%</td>\n",
              "      <td>3.8</td>\n",
              "      <td>45%</td>\n",
              "      <td>480</td>\n",
              "      <td>45%</td>\n",
              "      <td>48%</td>\n",
              "      <td>48.50%</td>\n",
              "    </tr>\n",
              "  </tbody>\n",
              "</table>\n",
              "</div>"
            ],
            "text/plain": [
              "   Year  AI Software Revenue(in Billions)  \\\n",
              "0  2018                             10.10   \n",
              "1  2019                             14.69   \n",
              "2  2020                             22.59   \n",
              "3  2021                             34.87   \n",
              "4  2022                             51.27   \n",
              "\n",
              "   Global AI Market Value(in Billions) AI Adoption (%) Organizations Using AI  \\\n",
              "0                                 29.5             10%                    35%   \n",
              "1                                 35.0             20%                    37%   \n",
              "2                                 45.0             30%                    40%   \n",
              "3                                 65.0             35%                    42%   \n",
              "4                                140.0             35%                    45%   \n",
              "\n",
              "  Organizations Planning to Implement AI  \\\n",
              "0                                    40%   \n",
              "1                                    42%   \n",
              "2                                    45%   \n",
              "3                                    47%   \n",
              "4                                    50%   \n",
              "\n",
              "  Global Expectation for AI Adoption (%)  \\\n",
              "0                                    40%   \n",
              "1                                    47%   \n",
              "2                                    54%   \n",
              "3                                    61%   \n",
              "4                                    68%   \n",
              "\n",
              "  Estimated Jobs Eliminated by AI (millions)  \\\n",
              "0                                        10%   \n",
              "1                                        15%   \n",
              "2                                        20%   \n",
              "3                                        25%   \n",
              "4                                        30%   \n",
              "\n",
              "  Estimated New Jobs Created by AI (millions) Net Job Loss in the US  \\\n",
              "0                                          5%                     7%   \n",
              "1                                          8%                  6.50%   \n",
              "2                                         12%                     6%   \n",
              "3                                         16%                  5.50%   \n",
              "4                                         20%                     5%   \n",
              "\n",
              "  Organizations Believing AI Provides Competitive Edge  \\\n",
              "0                                                87%     \n",
              "1                                                88%     \n",
              "2                                                88%     \n",
              "3                                                89%     \n",
              "4                                                90%     \n",
              "\n",
              "  Companies Prioritizing AI in Strategy  \\\n",
              "0                                   83%   \n",
              "1                                   84%   \n",
              "2                                   85%   \n",
              "3                                   86%   \n",
              "4                                   87%   \n",
              "\n",
              "   Estimated Revenue Increase from AI (trillions USD)  \\\n",
              "0                                                1.2    \n",
              "1                                                1.8    \n",
              "2                                                2.4    \n",
              "3                                                3.0    \n",
              "4                                                3.6    \n",
              "\n",
              "  Marketers Believing AI Improves Email Revenue  \\\n",
              "0                                        41.29%   \n",
              "1                                           42%   \n",
              "2                                           43%   \n",
              "3                                           44%   \n",
              "4                                           45%   \n",
              "\n",
              "  Expected Increase in Employee Productivity Due to AI (%)  \\\n",
              "0                                                 5%         \n",
              "1                                                 7%         \n",
              "2                                                 9%         \n",
              "3                                                11%         \n",
              "4                                                13%         \n",
              "\n",
              "  Americans Using Voice Assistants (%)  \\\n",
              "0                                  20%   \n",
              "1                                  25%   \n",
              "2                                  30%   \n",
              "3                                  35%   \n",
              "4                                  40%   \n",
              "\n",
              "   Digital Voice Assistants (billions of devices)  \\\n",
              "0                                             1.5   \n",
              "1                                             2.0   \n",
              "2                                             2.6   \n",
              "3                                             3.2   \n",
              "4                                             3.8   \n",
              "\n",
              "  Medical Professionals Using AI for Diagnosis  \\\n",
              "0                                          38%   \n",
              "1                                          39%   \n",
              "2                                          41%   \n",
              "3                                          43%   \n",
              "4                                          45%   \n",
              "\n",
              "   AI Contribution to Healthcare(in Billions)  \\\n",
              "0                                         461   \n",
              "1                                         465   \n",
              "2                                         470   \n",
              "3                                         475   \n",
              "4                                         480   \n",
              "\n",
              "  Jobs at High Risk of Automation - Transportation & Storage (%)  \\\n",
              "0                                                35%               \n",
              "1                                                38%               \n",
              "2                                                40%               \n",
              "3                                                43%               \n",
              "4                                                45%               \n",
              "\n",
              "  Jobs at High Risk of Automation - Wholesale & Retail Trade  \\\n",
              "0                                                44%           \n",
              "1                                                45%           \n",
              "2                                                46%           \n",
              "3                                                47%           \n",
              "4                                                48%           \n",
              "\n",
              "  Jobs at High Risk of Automation - Manufacturing  \n",
              "0                                          46.40%  \n",
              "1                                             47%  \n",
              "2                                          47.50%  \n",
              "3                                             48%  \n",
              "4                                          48.50%  "
            ]
          },
          "metadata": {},
          "output_type": "display_data"
        },
        {
          "name": "stdout",
          "output_type": "stream",
          "text": [
            "\n",
            "============================================================\n",
            "AI MARKET DATASET - COLUMN NAMES\n",
            "============================================================\n",
            " 1. Year\n",
            " 2. AI Software Revenue(in Billions)\n",
            " 3. Global AI Market Value(in Billions)\n",
            " 4. AI Adoption (%)\n",
            " 5. Organizations Using AI\n",
            " 6. Organizations Planning to Implement AI\n",
            " 7. Global Expectation for AI Adoption (%)\n",
            " 8. Estimated Jobs Eliminated by AI (millions)\n",
            " 9. Estimated New Jobs Created by AI (millions)\n",
            "10. Net Job Loss in the US\n",
            "11. Organizations Believing AI Provides Competitive Edge\n",
            "12. Companies Prioritizing AI in Strategy\n",
            "13. Estimated Revenue Increase from AI (trillions USD)\n",
            "14. Marketers Believing AI Improves Email Revenue\n",
            "15. Expected Increase in Employee Productivity Due to AI (%)\n",
            "16. Americans Using Voice Assistants (%)\n",
            "17. Digital Voice Assistants (billions of devices)\n",
            "18. Medical Professionals Using AI for Diagnosis\n",
            "19. AI Contribution to Healthcare(in Billions)\n",
            "20. Jobs at High Risk of Automation - Transportation & Storage (%)\n",
            "21. Jobs at High Risk of Automation - Wholesale & Retail Trade\n",
            "22. Jobs at High Risk of Automation - Manufacturing\n"
          ]
        }
      ],
      "source": [
        "display(market_df.head())\n",
        "display(market_df.columns.tolist())"
      ]
    },
    {
      "cell_type": "markdown",
      "id": "00093bb5",
      "metadata": {},
      "source": [
        "## 5. Missing Values Analysis"
      ]
    },
    {
      "cell_type": "code",
      "execution_count": null,
      "id": "3fe57c68",
      "metadata": {},
      "outputs": [
        {
          "name": "stdout",
          "output_type": "stream",
          "text": [
            "============================================================\n",
            "MISSING VALUES ANALYSIS - AI POPULARITY DATASET\n",
            "============================================================\n"
          ]
        },
        {
          "data": {
            "text/html": [
              "<div>\n",
              "<style scoped>\n",
              "    .dataframe tbody tr th:only-of-type {\n",
              "        vertical-align: middle;\n",
              "    }\n",
              "\n",
              "    .dataframe tbody tr th {\n",
              "        vertical-align: top;\n",
              "    }\n",
              "\n",
              "    .dataframe thead th {\n",
              "        text-align: right;\n",
              "    }\n",
              "</style>\n",
              "<table border=\"1\" class=\"dataframe\">\n",
              "  <thead>\n",
              "    <tr style=\"text-align: right;\">\n",
              "      <th></th>\n",
              "      <th>Missing_Count</th>\n",
              "      <th>Missing_Percentage</th>\n",
              "    </tr>\n",
              "  </thead>\n",
              "  <tbody>\n",
              "    <tr>\n",
              "      <th>Rising (Searches)</th>\n",
              "      <td>225</td>\n",
              "      <td>90.0</td>\n",
              "    </tr>\n",
              "    <tr>\n",
              "      <th>Popularity</th>\n",
              "      <td>225</td>\n",
              "      <td>90.0</td>\n",
              "    </tr>\n",
              "    <tr>\n",
              "      <th>Top (Searches)</th>\n",
              "      <td>225</td>\n",
              "      <td>90.0</td>\n",
              "    </tr>\n",
              "    <tr>\n",
              "      <th>Top (Searches).1</th>\n",
              "      <td>225</td>\n",
              "      <td>90.0</td>\n",
              "    </tr>\n",
              "    <tr>\n",
              "      <th>Popularity.1</th>\n",
              "      <td>225</td>\n",
              "      <td>90.0</td>\n",
              "    </tr>\n",
              "    <tr>\n",
              "      <th>Rising (Searches).1</th>\n",
              "      <td>225</td>\n",
              "      <td>90.0</td>\n",
              "    </tr>\n",
              "    <tr>\n",
              "      <th>Rising (Searches) Percentage</th>\n",
              "      <td>225</td>\n",
              "      <td>90.0</td>\n",
              "    </tr>\n",
              "    <tr>\n",
              "      <th>Rising (Searches) Percentage.1</th>\n",
              "      <td>225</td>\n",
              "      <td>90.0</td>\n",
              "    </tr>\n",
              "    <tr>\n",
              "      <th>Ai and ML(Popularity)</th>\n",
              "      <td>178</td>\n",
              "      <td>71.2</td>\n",
              "    </tr>\n",
              "    <tr>\n",
              "      <th>Ai and ML(Popularity).1</th>\n",
              "      <td>50</td>\n",
              "      <td>20.0</td>\n",
              "    </tr>\n",
              "    <tr>\n",
              "      <th>City</th>\n",
              "      <td>50</td>\n",
              "      <td>20.0</td>\n",
              "    </tr>\n",
              "  </tbody>\n",
              "</table>\n",
              "</div>"
            ],
            "text/plain": [
              "                                Missing_Count  Missing_Percentage\n",
              "Rising (Searches)                         225                90.0\n",
              "Popularity                                225                90.0\n",
              "Top (Searches)                            225                90.0\n",
              "Top (Searches).1                          225                90.0\n",
              "Popularity.1                              225                90.0\n",
              "Rising (Searches).1                       225                90.0\n",
              "Rising (Searches) Percentage              225                90.0\n",
              "Rising (Searches) Percentage.1            225                90.0\n",
              "Ai and ML(Popularity)                     178                71.2\n",
              "Ai and ML(Popularity).1                    50                20.0\n",
              "City                                       50                20.0"
            ]
          },
          "metadata": {},
          "output_type": "display_data"
        }
      ],
      "source": [
        "# Missing values analysis for popularity dataset\n",
        "missing_pop = popularity_df.isnull().sum()\n",
        "missing_pop_pct = (missing_pop / len(popularity_df)) * 100\n",
        "\n",
        "missing_summary_pop = pd.DataFrame({\n",
        "    'Missing_Count': missing_pop,\n",
        "    'Missing_Percentage': missing_pop_pct\n",
        "})\n",
        "missing_summary_pop = missing_summary_pop[missing_summary_pop['Missing_Count'] > 0].sort_values('Missing_Count', ascending=False)\n",
        "\n",
        "if len(missing_summary_pop) > 0:\n",
        "    display(missing_summary_pop)"
      ]
    },
    {
      "cell_type": "code",
      "execution_count": null,
      "id": "b725fc11",
      "metadata": {},
      "outputs": [
        {
          "name": "stdout",
          "output_type": "stream",
          "text": [
            "============================================================\n",
            "MISSING VALUES ANALYSIS - AI MARKET DATASET\n",
            "============================================================\n",
            "✅ No missing values found in AI Market dataset!\n"
          ]
        }
      ],
      "source": [
        "# Missing values analysis for market dataset\n",
        "missing_market = market_df.isnull().sum()\n",
        "missing_market_pct = (missing_market / len(market_df)) * 100\n",
        "\n",
        "missing_summary_market = pd.DataFrame({\n",
        "    'Missing_Count': missing_market,\n",
        "    'Missing_Percentage': missing_market_pct\n",
        "})\n",
        "missing_summary_market = missing_summary_market[missing_summary_market['Missing_Count'] > 0].sort_values('Missing_Count', ascending=False)\n",
        "\n",
        "if len(missing_summary_market) > 0:\n",
        "    display(missing_summary_market)"
      ]
    },
    {
      "cell_type": "markdown",
      "id": "c6da0a85",
      "metadata": {},
      "source": [
        "## 6. Statistical Summary"
      ]
    },
    {
      "cell_type": "code",
      "execution_count": null,
      "id": "f00314dc",
      "metadata": {},
      "outputs": [
        {
          "name": "stdout",
          "output_type": "stream",
          "text": [
            "============================================================\n",
            "STATISTICAL SUMMARY - AI MARKET DATASET\n",
            "============================================================\n"
          ]
        },
        {
          "data": {
            "text/html": [
              "<div>\n",
              "<style scoped>\n",
              "    .dataframe tbody tr th:only-of-type {\n",
              "        vertical-align: middle;\n",
              "    }\n",
              "\n",
              "    .dataframe tbody tr th {\n",
              "        vertical-align: top;\n",
              "    }\n",
              "\n",
              "    .dataframe thead th {\n",
              "        text-align: right;\n",
              "    }\n",
              "</style>\n",
              "<table border=\"1\" class=\"dataframe\">\n",
              "  <thead>\n",
              "    <tr style=\"text-align: right;\">\n",
              "      <th></th>\n",
              "      <th>Year</th>\n",
              "      <th>AI Software Revenue(in Billions)</th>\n",
              "      <th>Global AI Market Value(in Billions)</th>\n",
              "      <th>Estimated Revenue Increase from AI (trillions USD)</th>\n",
              "      <th>Digital Voice Assistants (billions of devices)</th>\n",
              "      <th>AI Contribution to Healthcare(in Billions)</th>\n",
              "    </tr>\n",
              "  </thead>\n",
              "  <tbody>\n",
              "    <tr>\n",
              "      <th>count</th>\n",
              "      <td>8.00000</td>\n",
              "      <td>8.000000</td>\n",
              "      <td>8.000000</td>\n",
              "      <td>8.000000</td>\n",
              "      <td>8.000000</td>\n",
              "      <td>8.000000</td>\n",
              "    </tr>\n",
              "    <tr>\n",
              "      <th>mean</th>\n",
              "      <td>2021.50000</td>\n",
              "      <td>53.108750</td>\n",
              "      <td>350.437500</td>\n",
              "      <td>3.312500</td>\n",
              "      <td>3.500000</td>\n",
              "      <td>478.250000</td>\n",
              "    </tr>\n",
              "    <tr>\n",
              "      <th>std</th>\n",
              "      <td>2.44949</td>\n",
              "      <td>41.283101</td>\n",
              "      <td>604.676386</td>\n",
              "      <td>1.490386</td>\n",
              "      <td>1.429286</td>\n",
              "      <td>13.155661</td>\n",
              "    </tr>\n",
              "    <tr>\n",
              "      <th>min</th>\n",
              "      <td>2018.00000</td>\n",
              "      <td>10.100000</td>\n",
              "      <td>29.500000</td>\n",
              "      <td>1.200000</td>\n",
              "      <td>1.500000</td>\n",
              "      <td>461.000000</td>\n",
              "    </tr>\n",
              "    <tr>\n",
              "      <th>25%</th>\n",
              "      <td>2019.75000</td>\n",
              "      <td>20.615000</td>\n",
              "      <td>42.500000</td>\n",
              "      <td>2.250000</td>\n",
              "      <td>2.450000</td>\n",
              "      <td>468.750000</td>\n",
              "    </tr>\n",
              "    <tr>\n",
              "      <th>50%</th>\n",
              "      <td>2021.50000</td>\n",
              "      <td>43.070000</td>\n",
              "      <td>102.500000</td>\n",
              "      <td>3.300000</td>\n",
              "      <td>3.500000</td>\n",
              "      <td>477.500000</td>\n",
              "    </tr>\n",
              "    <tr>\n",
              "      <th>75%</th>\n",
              "      <td>2023.25000</td>\n",
              "      <td>76.807500</td>\n",
              "      <td>309.250000</td>\n",
              "      <td>4.350000</td>\n",
              "      <td>4.550000</td>\n",
              "      <td>486.250000</td>\n",
              "    </tr>\n",
              "    <tr>\n",
              "      <th>max</th>\n",
              "      <td>2025.00000</td>\n",
              "      <td>126.000000</td>\n",
              "      <td>1810.000000</td>\n",
              "      <td>5.500000</td>\n",
              "      <td>5.500000</td>\n",
              "      <td>500.000000</td>\n",
              "    </tr>\n",
              "  </tbody>\n",
              "</table>\n",
              "</div>"
            ],
            "text/plain": [
              "             Year  AI Software Revenue(in Billions)  \\\n",
              "count     8.00000                          8.000000   \n",
              "mean   2021.50000                         53.108750   \n",
              "std       2.44949                         41.283101   \n",
              "min    2018.00000                         10.100000   \n",
              "25%    2019.75000                         20.615000   \n",
              "50%    2021.50000                         43.070000   \n",
              "75%    2023.25000                         76.807500   \n",
              "max    2025.00000                        126.000000   \n",
              "\n",
              "       Global AI Market Value(in Billions)  \\\n",
              "count                             8.000000   \n",
              "mean                            350.437500   \n",
              "std                             604.676386   \n",
              "min                              29.500000   \n",
              "25%                              42.500000   \n",
              "50%                             102.500000   \n",
              "75%                             309.250000   \n",
              "max                            1810.000000   \n",
              "\n",
              "       Estimated Revenue Increase from AI (trillions USD)  \\\n",
              "count                                           8.000000    \n",
              "mean                                            3.312500    \n",
              "std                                             1.490386    \n",
              "min                                             1.200000    \n",
              "25%                                             2.250000    \n",
              "50%                                             3.300000    \n",
              "75%                                             4.350000    \n",
              "max                                             5.500000    \n",
              "\n",
              "       Digital Voice Assistants (billions of devices)  \\\n",
              "count                                        8.000000   \n",
              "mean                                         3.500000   \n",
              "std                                          1.429286   \n",
              "min                                          1.500000   \n",
              "25%                                          2.450000   \n",
              "50%                                          3.500000   \n",
              "75%                                          4.550000   \n",
              "max                                          5.500000   \n",
              "\n",
              "       AI Contribution to Healthcare(in Billions)  \n",
              "count                                    8.000000  \n",
              "mean                                   478.250000  \n",
              "std                                     13.155661  \n",
              "min                                    461.000000  \n",
              "25%                                    468.750000  \n",
              "50%                                    477.500000  \n",
              "75%                                    486.250000  \n",
              "max                                    500.000000  "
            ]
          },
          "metadata": {},
          "output_type": "display_data"
        },
        {
          "name": "stdout",
          "output_type": "stream",
          "text": [
            "\n",
            "============================================================\n",
            "DATA TYPES - AI MARKET DATASET\n",
            "============================================================\n",
            "Year                                                                int64\n",
            "AI Software Revenue(in Billions)                                  float64\n",
            "Global AI Market Value(in Billions)                               float64\n",
            "AI Adoption (%)                                                    object\n",
            "Organizations Using AI                                             object\n",
            "Organizations Planning to Implement AI                             object\n",
            "Global Expectation for AI Adoption (%)                             object\n",
            "Estimated Jobs Eliminated by AI (millions)                         object\n",
            "Estimated New Jobs Created by AI (millions)                        object\n",
            "Net Job Loss in the US                                             object\n",
            "Organizations Believing AI Provides Competitive Edge               object\n",
            "Companies Prioritizing AI in Strategy                              object\n",
            "Estimated Revenue Increase from AI (trillions USD)                float64\n",
            "Marketers Believing AI Improves Email Revenue                      object\n",
            "Expected Increase in Employee Productivity Due to AI (%)           object\n",
            "Americans Using Voice Assistants (%)                               object\n",
            "Digital Voice Assistants (billions of devices)                    float64\n",
            "Medical Professionals Using AI for Diagnosis                       object\n",
            "AI Contribution to Healthcare(in Billions)                          int64\n",
            "Jobs at High Risk of Automation - Transportation & Storage (%)     object\n",
            "Jobs at High Risk of Automation - Wholesale & Retail Trade         object\n",
            "Jobs at High Risk of Automation - Manufacturing                    object\n",
            "dtype: object\n"
          ]
        }
      ],
      "source": [
        "# Statistical summary for market dataset (numerical columns)\n",
        "display(market_df.describe())\n",
        "\n",
        "# Check data types\n",
        "display(market_df.dtypes)"
      ]
    },
    {
      "cell_type": "code",
      "execution_count": null,
      "id": "848be4e2",
      "metadata": {},
      "outputs": [
        {
          "name": "stdout",
          "output_type": "stream",
          "text": [
            "============================================================\n",
            "STATISTICAL SUMMARY - AI POPULARITY DATASET\n",
            "============================================================\n"
          ]
        },
        {
          "data": {
            "text/html": [
              "<div>\n",
              "<style scoped>\n",
              "    .dataframe tbody tr th:only-of-type {\n",
              "        vertical-align: middle;\n",
              "    }\n",
              "\n",
              "    .dataframe tbody tr th {\n",
              "        vertical-align: top;\n",
              "    }\n",
              "\n",
              "    .dataframe thead th {\n",
              "        text-align: right;\n",
              "    }\n",
              "</style>\n",
              "<table border=\"1\" class=\"dataframe\">\n",
              "  <thead>\n",
              "    <tr style=\"text-align: right;\">\n",
              "      <th></th>\n",
              "      <th>Ai and ML(Popularity)</th>\n",
              "      <th>Ai and ML(Popularity).1</th>\n",
              "      <th>Popularity</th>\n",
              "      <th>Popularity.1</th>\n",
              "    </tr>\n",
              "  </thead>\n",
              "  <tbody>\n",
              "    <tr>\n",
              "      <th>count</th>\n",
              "      <td>72.000000</td>\n",
              "      <td>200.000000</td>\n",
              "      <td>25.000000</td>\n",
              "      <td>25.000000</td>\n",
              "    </tr>\n",
              "    <tr>\n",
              "      <th>mean</th>\n",
              "      <td>21.277778</td>\n",
              "      <td>28.720000</td>\n",
              "      <td>5.880000</td>\n",
              "      <td>20.800000</td>\n",
              "    </tr>\n",
              "    <tr>\n",
              "      <th>std</th>\n",
              "      <td>15.845399</td>\n",
              "      <td>9.192612</td>\n",
              "      <td>19.833305</td>\n",
              "      <td>18.717194</td>\n",
              "    </tr>\n",
              "    <tr>\n",
              "      <th>min</th>\n",
              "      <td>4.000000</td>\n",
              "      <td>21.000000</td>\n",
              "      <td>-1.000000</td>\n",
              "      <td>8.000000</td>\n",
              "    </tr>\n",
              "    <tr>\n",
              "      <th>25%</th>\n",
              "      <td>12.000000</td>\n",
              "      <td>23.750000</td>\n",
              "      <td>1.000000</td>\n",
              "      <td>13.000000</td>\n",
              "    </tr>\n",
              "    <tr>\n",
              "      <th>50%</th>\n",
              "      <td>17.000000</td>\n",
              "      <td>26.000000</td>\n",
              "      <td>2.000000</td>\n",
              "      <td>15.000000</td>\n",
              "    </tr>\n",
              "    <tr>\n",
              "      <th>75%</th>\n",
              "      <td>24.250000</td>\n",
              "      <td>30.250000</td>\n",
              "      <td>3.000000</td>\n",
              "      <td>19.000000</td>\n",
              "    </tr>\n",
              "    <tr>\n",
              "      <th>max</th>\n",
              "      <td>100.000000</td>\n",
              "      <td>100.000000</td>\n",
              "      <td>100.000000</td>\n",
              "      <td>100.000000</td>\n",
              "    </tr>\n",
              "  </tbody>\n",
              "</table>\n",
              "</div>"
            ],
            "text/plain": [
              "       Ai and ML(Popularity)  Ai and ML(Popularity).1  Popularity  \\\n",
              "count              72.000000               200.000000   25.000000   \n",
              "mean               21.277778                28.720000    5.880000   \n",
              "std                15.845399                 9.192612   19.833305   \n",
              "min                 4.000000                21.000000   -1.000000   \n",
              "25%                12.000000                23.750000    1.000000   \n",
              "50%                17.000000                26.000000    2.000000   \n",
              "75%                24.250000                30.250000    3.000000   \n",
              "max               100.000000               100.000000  100.000000   \n",
              "\n",
              "       Popularity.1  \n",
              "count     25.000000  \n",
              "mean      20.800000  \n",
              "std       18.717194  \n",
              "min        8.000000  \n",
              "25%       13.000000  \n",
              "50%       15.000000  \n",
              "75%       19.000000  \n",
              "max      100.000000  "
            ]
          },
          "metadata": {},
          "output_type": "display_data"
        },
        {
          "name": "stdout",
          "output_type": "stream",
          "text": [
            "\n",
            "============================================================\n",
            "DATA TYPES - AI POPULARITY DATASET\n",
            "============================================================\n",
            "Country                            object\n",
            "Ai and ML(Popularity)             float64\n",
            "City                               object\n",
            "Ai and ML(Popularity).1           float64\n",
            "Top (Searches)                     object\n",
            "Popularity                        float64\n",
            "Rising (Searches)                  object\n",
            "Rising (Searches) Percentage       object\n",
            "Top (Searches).1                   object\n",
            "Popularity.1                      float64\n",
            "Rising (Searches).1                object\n",
            "Rising (Searches) Percentage.1     object\n",
            "dtype: object\n"
          ]
        }
      ],
      "source": [
        "# Statistical summary for popularity dataset\n",
        "# Select numeric columns for statistical analysis\n",
        "numeric_cols = popularity_df.select_dtypes(include=[np.number]).columns\n",
        "if len(numeric_cols) > 0:\n",
        "    display(popularity_df[numeric_cols].describe())\n",
        "\n",
        "display(popularity_df.dtypes)"
      ]
    },
    {
      "cell_type": "markdown",
      "id": "a5a2edc0",
      "metadata": {},
      "source": [
        "## 7. Data Quality Assessment"
      ]
    },
    {
      "cell_type": "code",
      "execution_count": null,
      "id": "fed91de7",
      "metadata": {},
      "outputs": [
        {
          "name": "stdout",
          "output_type": "stream",
          "text": [
            "\n",
            "============================================================\n",
            "DATA QUALITY ASSESSMENT - AI MARKET DATA\n",
            "============================================================\n",
            "📏 Shape: 8 rows × 22 columns\n",
            "💾 Memory usage: 0.01 MB\n",
            "❓ Missing values: 0 (0.00%)\n",
            "🔄 Duplicate rows: 0\n",
            "\n",
            "📊 Data Types Distribution:\n",
            "  - object: 16 columns\n",
            "  - float64: 4 columns\n",
            "  - int64: 2 columns\n",
            "\n",
            "============================================================\n",
            "DATA QUALITY ASSESSMENT - AI POPULARITY DATA\n",
            "============================================================\n",
            "📏 Shape: 250 rows × 12 columns\n",
            "💾 Memory usage: 0.09 MB\n",
            "❓ Missing values: 2,078 (69.27%)\n",
            "🔄 Duplicate rows: 0\n",
            "\n",
            "📊 Data Types Distribution:\n",
            "  - object: 8 columns\n",
            "  - float64: 4 columns\n"
          ]
        }
      ],
      "source": [
        "# Data quality assessment function\n",
        "def assess_data_quality(df, dataset_name):\n",
        "    \"\"\"\n",
        "    Comprehensive data quality assessment\n",
        "    \"\"\"\n",
        "    # Basic stats\n",
        "    shape = df.shape\n",
        "    memory_usage = df.memory_usage(deep=True).sum() / 1024**2\n",
        "    \n",
        "    # Missing values\n",
        "    missing_total = df.isnull().sum().sum()\n",
        "    missing_pct = (missing_total / (df.shape[0] * df.shape[1])) * 100\n",
        "    \n",
        "    # Duplicates\n",
        "    duplicates = df.duplicated().sum()\n",
        "    \n",
        "    # Data types\n",
        "    dtype_counts = df.dtypes.value_counts()\n",
        "    \n",
        "    return {\n",
        "        'shape': df.shape,\n",
        "        'missing_total': missing_total,\n",
        "        'missing_percentage': missing_pct,\n",
        "        'duplicates': duplicates,\n",
        "        'dtypes': dtype_counts\n",
        "    }\n",
        "\n",
        "# Assess both datasets\n",
        "market_quality = assess_data_quality(market_df, \"AI MARKET DATA\")\n",
        "popularity_quality = assess_data_quality(popularity_df, \"AI POPULARITY DATA\")"
      ]
    },
    {
      "cell_type": "markdown",
      "id": "029a25f9",
      "metadata": {},
      "source": [
        "## 8. Initial Visual Exploration"
      ]
    },
    {
      "cell_type": "code",
      "execution_count": 11,
      "id": "86deb4da",
      "metadata": {},
      "outputs": [
        {
          "data": {
            "application/vnd.plotly.v1+json": {
              "config": {
                "plotlyServerURL": "https://plot.ly"
              },
              "data": [
                {
                  "line": {
                    "color": "blue",
                    "width": 3
                  },
                  "mode": "lines+markers",
                  "name": "AI Revenue",
                  "type": "scatter",
                  "x": {
                    "bdata": "4gfjB+QH5QfmB+cH6AfpBw==",
                    "dtype": "i2"
                  },
                  "xaxis": "x",
                  "y": {
                    "bdata": "MzMzMzMzJEDhehSuR2EtQNejcD0KlzZAj8L1KFxvQUDD9Shcj6JJQFyPwvUovFFACtejcD2aV0AAAAAAAIBfQA==",
                    "dtype": "f8"
                  },
                  "yaxis": "y"
                },
                {
                  "line": {
                    "color": "green",
                    "width": 3
                  },
                  "mode": "lines+markers",
                  "name": "Market Value",
                  "type": "scatter",
                  "x": {
                    "bdata": "4gfjB+QH5QfmB+cH6AfpBw==",
                    "dtype": "i2"
                  },
                  "xaxis": "x2",
                  "y": {
                    "bdata": "AAAAAACAPUAAAAAAAIBBQAAAAAAAgEZAAAAAAABAUEAAAAAAAIBhQAAAAAAAcHFAAAAAAAAAeUAAAAAAAEicQA==",
                    "dtype": "f8"
                  },
                  "yaxis": "y2"
                },
                {
                  "line": {
                    "color": "orange",
                    "width": 3
                  },
                  "mode": "lines+markers",
                  "name": "Adoption Rate",
                  "type": "scatter",
                  "x": {
                    "bdata": "4gfjB+QH5QfmB+cH6AfpBw==",
                    "dtype": "i2"
                  },
                  "xaxis": "x3",
                  "y": {
                    "bdata": "AAAAAAAAJEAAAAAAAAA0QAAAAAAAAD5AAAAAAACAQUAAAAAAAIBBQAAAAAAAgEFAAAAAAAAAREAAAAAAAIBPQA==",
                    "dtype": "f8"
                  },
                  "yaxis": "y3"
                },
                {
                  "line": {
                    "color": "red",
                    "width": 3
                  },
                  "mode": "lines+markers",
                  "name": "Jobs Eliminated",
                  "type": "scatter",
                  "x": {
                    "bdata": "4gfjB+QH5QfmB+cH6AfpBw==",
                    "dtype": "i2"
                  },
                  "xaxis": "x4",
                  "y": [
                    "10%",
                    "15%",
                    "20%",
                    "25%",
                    "30%",
                    "35%",
                    "40%",
                    "45%"
                  ],
                  "yaxis": "y4"
                },
                {
                  "line": {
                    "color": "green",
                    "width": 3
                  },
                  "mode": "lines+markers",
                  "name": "Jobs Created",
                  "type": "scatter",
                  "x": {
                    "bdata": "4gfjB+QH5QfmB+cH6AfpBw==",
                    "dtype": "i2"
                  },
                  "xaxis": "x4",
                  "y": [
                    "5%",
                    "8%",
                    "12%",
                    "16%",
                    "20%",
                    "24%",
                    "28%",
                    "32%"
                  ],
                  "yaxis": "y4"
                }
              ],
              "layout": {
                "annotations": [
                  {
                    "font": {
                      "size": 16
                    },
                    "showarrow": false,
                    "text": "AI Software Revenue Over Time",
                    "x": 0.225,
                    "xanchor": "center",
                    "xref": "paper",
                    "y": 1,
                    "yanchor": "bottom",
                    "yref": "paper"
                  },
                  {
                    "font": {
                      "size": 16
                    },
                    "showarrow": false,
                    "text": "Global AI Market Value",
                    "x": 0.775,
                    "xanchor": "center",
                    "xref": "paper",
                    "y": 1,
                    "yanchor": "bottom",
                    "yref": "paper"
                  },
                  {
                    "font": {
                      "size": 16
                    },
                    "showarrow": false,
                    "text": "AI Adoption Rate",
                    "x": 0.225,
                    "xanchor": "center",
                    "xref": "paper",
                    "y": 0.375,
                    "yanchor": "bottom",
                    "yref": "paper"
                  },
                  {
                    "font": {
                      "size": 16
                    },
                    "showarrow": false,
                    "text": "Job Impact Analysis",
                    "x": 0.775,
                    "xanchor": "center",
                    "xref": "paper",
                    "y": 0.375,
                    "yanchor": "bottom",
                    "yref": "paper"
                  }
                ],
                "height": 800,
                "template": {
                  "data": {
                    "bar": [
                      {
                        "error_x": {
                          "color": "#2a3f5f"
                        },
                        "error_y": {
                          "color": "#2a3f5f"
                        },
                        "marker": {
                          "line": {
                            "color": "#E5ECF6",
                            "width": 0.5
                          },
                          "pattern": {
                            "fillmode": "overlay",
                            "size": 10,
                            "solidity": 0.2
                          }
                        },
                        "type": "bar"
                      }
                    ],
                    "barpolar": [
                      {
                        "marker": {
                          "line": {
                            "color": "#E5ECF6",
                            "width": 0.5
                          },
                          "pattern": {
                            "fillmode": "overlay",
                            "size": 10,
                            "solidity": 0.2
                          }
                        },
                        "type": "barpolar"
                      }
                    ],
                    "carpet": [
                      {
                        "aaxis": {
                          "endlinecolor": "#2a3f5f",
                          "gridcolor": "white",
                          "linecolor": "white",
                          "minorgridcolor": "white",
                          "startlinecolor": "#2a3f5f"
                        },
                        "baxis": {
                          "endlinecolor": "#2a3f5f",
                          "gridcolor": "white",
                          "linecolor": "white",
                          "minorgridcolor": "white",
                          "startlinecolor": "#2a3f5f"
                        },
                        "type": "carpet"
                      }
                    ],
                    "choropleth": [
                      {
                        "colorbar": {
                          "outlinewidth": 0,
                          "ticks": ""
                        },
                        "type": "choropleth"
                      }
                    ],
                    "contour": [
                      {
                        "colorbar": {
                          "outlinewidth": 0,
                          "ticks": ""
                        },
                        "colorscale": [
                          [
                            0,
                            "#0d0887"
                          ],
                          [
                            0.1111111111111111,
                            "#46039f"
                          ],
                          [
                            0.2222222222222222,
                            "#7201a8"
                          ],
                          [
                            0.3333333333333333,
                            "#9c179e"
                          ],
                          [
                            0.4444444444444444,
                            "#bd3786"
                          ],
                          [
                            0.5555555555555556,
                            "#d8576b"
                          ],
                          [
                            0.6666666666666666,
                            "#ed7953"
                          ],
                          [
                            0.7777777777777778,
                            "#fb9f3a"
                          ],
                          [
                            0.8888888888888888,
                            "#fdca26"
                          ],
                          [
                            1,
                            "#f0f921"
                          ]
                        ],
                        "type": "contour"
                      }
                    ],
                    "contourcarpet": [
                      {
                        "colorbar": {
                          "outlinewidth": 0,
                          "ticks": ""
                        },
                        "type": "contourcarpet"
                      }
                    ],
                    "heatmap": [
                      {
                        "colorbar": {
                          "outlinewidth": 0,
                          "ticks": ""
                        },
                        "colorscale": [
                          [
                            0,
                            "#0d0887"
                          ],
                          [
                            0.1111111111111111,
                            "#46039f"
                          ],
                          [
                            0.2222222222222222,
                            "#7201a8"
                          ],
                          [
                            0.3333333333333333,
                            "#9c179e"
                          ],
                          [
                            0.4444444444444444,
                            "#bd3786"
                          ],
                          [
                            0.5555555555555556,
                            "#d8576b"
                          ],
                          [
                            0.6666666666666666,
                            "#ed7953"
                          ],
                          [
                            0.7777777777777778,
                            "#fb9f3a"
                          ],
                          [
                            0.8888888888888888,
                            "#fdca26"
                          ],
                          [
                            1,
                            "#f0f921"
                          ]
                        ],
                        "type": "heatmap"
                      }
                    ],
                    "histogram": [
                      {
                        "marker": {
                          "pattern": {
                            "fillmode": "overlay",
                            "size": 10,
                            "solidity": 0.2
                          }
                        },
                        "type": "histogram"
                      }
                    ],
                    "histogram2d": [
                      {
                        "colorbar": {
                          "outlinewidth": 0,
                          "ticks": ""
                        },
                        "colorscale": [
                          [
                            0,
                            "#0d0887"
                          ],
                          [
                            0.1111111111111111,
                            "#46039f"
                          ],
                          [
                            0.2222222222222222,
                            "#7201a8"
                          ],
                          [
                            0.3333333333333333,
                            "#9c179e"
                          ],
                          [
                            0.4444444444444444,
                            "#bd3786"
                          ],
                          [
                            0.5555555555555556,
                            "#d8576b"
                          ],
                          [
                            0.6666666666666666,
                            "#ed7953"
                          ],
                          [
                            0.7777777777777778,
                            "#fb9f3a"
                          ],
                          [
                            0.8888888888888888,
                            "#fdca26"
                          ],
                          [
                            1,
                            "#f0f921"
                          ]
                        ],
                        "type": "histogram2d"
                      }
                    ],
                    "histogram2dcontour": [
                      {
                        "colorbar": {
                          "outlinewidth": 0,
                          "ticks": ""
                        },
                        "colorscale": [
                          [
                            0,
                            "#0d0887"
                          ],
                          [
                            0.1111111111111111,
                            "#46039f"
                          ],
                          [
                            0.2222222222222222,
                            "#7201a8"
                          ],
                          [
                            0.3333333333333333,
                            "#9c179e"
                          ],
                          [
                            0.4444444444444444,
                            "#bd3786"
                          ],
                          [
                            0.5555555555555556,
                            "#d8576b"
                          ],
                          [
                            0.6666666666666666,
                            "#ed7953"
                          ],
                          [
                            0.7777777777777778,
                            "#fb9f3a"
                          ],
                          [
                            0.8888888888888888,
                            "#fdca26"
                          ],
                          [
                            1,
                            "#f0f921"
                          ]
                        ],
                        "type": "histogram2dcontour"
                      }
                    ],
                    "mesh3d": [
                      {
                        "colorbar": {
                          "outlinewidth": 0,
                          "ticks": ""
                        },
                        "type": "mesh3d"
                      }
                    ],
                    "parcoords": [
                      {
                        "line": {
                          "colorbar": {
                            "outlinewidth": 0,
                            "ticks": ""
                          }
                        },
                        "type": "parcoords"
                      }
                    ],
                    "pie": [
                      {
                        "automargin": true,
                        "type": "pie"
                      }
                    ],
                    "scatter": [
                      {
                        "fillpattern": {
                          "fillmode": "overlay",
                          "size": 10,
                          "solidity": 0.2
                        },
                        "type": "scatter"
                      }
                    ],
                    "scatter3d": [
                      {
                        "line": {
                          "colorbar": {
                            "outlinewidth": 0,
                            "ticks": ""
                          }
                        },
                        "marker": {
                          "colorbar": {
                            "outlinewidth": 0,
                            "ticks": ""
                          }
                        },
                        "type": "scatter3d"
                      }
                    ],
                    "scattercarpet": [
                      {
                        "marker": {
                          "colorbar": {
                            "outlinewidth": 0,
                            "ticks": ""
                          }
                        },
                        "type": "scattercarpet"
                      }
                    ],
                    "scattergeo": [
                      {
                        "marker": {
                          "colorbar": {
                            "outlinewidth": 0,
                            "ticks": ""
                          }
                        },
                        "type": "scattergeo"
                      }
                    ],
                    "scattergl": [
                      {
                        "marker": {
                          "colorbar": {
                            "outlinewidth": 0,
                            "ticks": ""
                          }
                        },
                        "type": "scattergl"
                      }
                    ],
                    "scattermap": [
                      {
                        "marker": {
                          "colorbar": {
                            "outlinewidth": 0,
                            "ticks": ""
                          }
                        },
                        "type": "scattermap"
                      }
                    ],
                    "scattermapbox": [
                      {
                        "marker": {
                          "colorbar": {
                            "outlinewidth": 0,
                            "ticks": ""
                          }
                        },
                        "type": "scattermapbox"
                      }
                    ],
                    "scatterpolar": [
                      {
                        "marker": {
                          "colorbar": {
                            "outlinewidth": 0,
                            "ticks": ""
                          }
                        },
                        "type": "scatterpolar"
                      }
                    ],
                    "scatterpolargl": [
                      {
                        "marker": {
                          "colorbar": {
                            "outlinewidth": 0,
                            "ticks": ""
                          }
                        },
                        "type": "scatterpolargl"
                      }
                    ],
                    "scatterternary": [
                      {
                        "marker": {
                          "colorbar": {
                            "outlinewidth": 0,
                            "ticks": ""
                          }
                        },
                        "type": "scatterternary"
                      }
                    ],
                    "surface": [
                      {
                        "colorbar": {
                          "outlinewidth": 0,
                          "ticks": ""
                        },
                        "colorscale": [
                          [
                            0,
                            "#0d0887"
                          ],
                          [
                            0.1111111111111111,
                            "#46039f"
                          ],
                          [
                            0.2222222222222222,
                            "#7201a8"
                          ],
                          [
                            0.3333333333333333,
                            "#9c179e"
                          ],
                          [
                            0.4444444444444444,
                            "#bd3786"
                          ],
                          [
                            0.5555555555555556,
                            "#d8576b"
                          ],
                          [
                            0.6666666666666666,
                            "#ed7953"
                          ],
                          [
                            0.7777777777777778,
                            "#fb9f3a"
                          ],
                          [
                            0.8888888888888888,
                            "#fdca26"
                          ],
                          [
                            1,
                            "#f0f921"
                          ]
                        ],
                        "type": "surface"
                      }
                    ],
                    "table": [
                      {
                        "cells": {
                          "fill": {
                            "color": "#EBF0F8"
                          },
                          "line": {
                            "color": "white"
                          }
                        },
                        "header": {
                          "fill": {
                            "color": "#C8D4E3"
                          },
                          "line": {
                            "color": "white"
                          }
                        },
                        "type": "table"
                      }
                    ]
                  },
                  "layout": {
                    "annotationdefaults": {
                      "arrowcolor": "#2a3f5f",
                      "arrowhead": 0,
                      "arrowwidth": 1
                    },
                    "autotypenumbers": "strict",
                    "coloraxis": {
                      "colorbar": {
                        "outlinewidth": 0,
                        "ticks": ""
                      }
                    },
                    "colorscale": {
                      "diverging": [
                        [
                          0,
                          "#8e0152"
                        ],
                        [
                          0.1,
                          "#c51b7d"
                        ],
                        [
                          0.2,
                          "#de77ae"
                        ],
                        [
                          0.3,
                          "#f1b6da"
                        ],
                        [
                          0.4,
                          "#fde0ef"
                        ],
                        [
                          0.5,
                          "#f7f7f7"
                        ],
                        [
                          0.6,
                          "#e6f5d0"
                        ],
                        [
                          0.7,
                          "#b8e186"
                        ],
                        [
                          0.8,
                          "#7fbc41"
                        ],
                        [
                          0.9,
                          "#4d9221"
                        ],
                        [
                          1,
                          "#276419"
                        ]
                      ],
                      "sequential": [
                        [
                          0,
                          "#0d0887"
                        ],
                        [
                          0.1111111111111111,
                          "#46039f"
                        ],
                        [
                          0.2222222222222222,
                          "#7201a8"
                        ],
                        [
                          0.3333333333333333,
                          "#9c179e"
                        ],
                        [
                          0.4444444444444444,
                          "#bd3786"
                        ],
                        [
                          0.5555555555555556,
                          "#d8576b"
                        ],
                        [
                          0.6666666666666666,
                          "#ed7953"
                        ],
                        [
                          0.7777777777777778,
                          "#fb9f3a"
                        ],
                        [
                          0.8888888888888888,
                          "#fdca26"
                        ],
                        [
                          1,
                          "#f0f921"
                        ]
                      ],
                      "sequentialminus": [
                        [
                          0,
                          "#0d0887"
                        ],
                        [
                          0.1111111111111111,
                          "#46039f"
                        ],
                        [
                          0.2222222222222222,
                          "#7201a8"
                        ],
                        [
                          0.3333333333333333,
                          "#9c179e"
                        ],
                        [
                          0.4444444444444444,
                          "#bd3786"
                        ],
                        [
                          0.5555555555555556,
                          "#d8576b"
                        ],
                        [
                          0.6666666666666666,
                          "#ed7953"
                        ],
                        [
                          0.7777777777777778,
                          "#fb9f3a"
                        ],
                        [
                          0.8888888888888888,
                          "#fdca26"
                        ],
                        [
                          1,
                          "#f0f921"
                        ]
                      ]
                    },
                    "colorway": [
                      "#636efa",
                      "#EF553B",
                      "#00cc96",
                      "#ab63fa",
                      "#FFA15A",
                      "#19d3f3",
                      "#FF6692",
                      "#B6E880",
                      "#FF97FF",
                      "#FECB52"
                    ],
                    "font": {
                      "color": "#2a3f5f"
                    },
                    "geo": {
                      "bgcolor": "white",
                      "lakecolor": "white",
                      "landcolor": "#E5ECF6",
                      "showlakes": true,
                      "showland": true,
                      "subunitcolor": "white"
                    },
                    "hoverlabel": {
                      "align": "left"
                    },
                    "hovermode": "closest",
                    "mapbox": {
                      "style": "light"
                    },
                    "paper_bgcolor": "white",
                    "plot_bgcolor": "#E5ECF6",
                    "polar": {
                      "angularaxis": {
                        "gridcolor": "white",
                        "linecolor": "white",
                        "ticks": ""
                      },
                      "bgcolor": "#E5ECF6",
                      "radialaxis": {
                        "gridcolor": "white",
                        "linecolor": "white",
                        "ticks": ""
                      }
                    },
                    "scene": {
                      "xaxis": {
                        "backgroundcolor": "#E5ECF6",
                        "gridcolor": "white",
                        "gridwidth": 2,
                        "linecolor": "white",
                        "showbackground": true,
                        "ticks": "",
                        "zerolinecolor": "white"
                      },
                      "yaxis": {
                        "backgroundcolor": "#E5ECF6",
                        "gridcolor": "white",
                        "gridwidth": 2,
                        "linecolor": "white",
                        "showbackground": true,
                        "ticks": "",
                        "zerolinecolor": "white"
                      },
                      "zaxis": {
                        "backgroundcolor": "#E5ECF6",
                        "gridcolor": "white",
                        "gridwidth": 2,
                        "linecolor": "white",
                        "showbackground": true,
                        "ticks": "",
                        "zerolinecolor": "white"
                      }
                    },
                    "shapedefaults": {
                      "line": {
                        "color": "#2a3f5f"
                      }
                    },
                    "ternary": {
                      "aaxis": {
                        "gridcolor": "white",
                        "linecolor": "white",
                        "ticks": ""
                      },
                      "baxis": {
                        "gridcolor": "white",
                        "linecolor": "white",
                        "ticks": ""
                      },
                      "bgcolor": "#E5ECF6",
                      "caxis": {
                        "gridcolor": "white",
                        "linecolor": "white",
                        "ticks": ""
                      }
                    },
                    "title": {
                      "x": 0.05
                    },
                    "xaxis": {
                      "automargin": true,
                      "gridcolor": "white",
                      "linecolor": "white",
                      "ticks": "",
                      "title": {
                        "standoff": 15
                      },
                      "zerolinecolor": "white",
                      "zerolinewidth": 2
                    },
                    "yaxis": {
                      "automargin": true,
                      "gridcolor": "white",
                      "linecolor": "white",
                      "ticks": "",
                      "title": {
                        "standoff": 15
                      },
                      "zerolinecolor": "white",
                      "zerolinewidth": 2
                    }
                  }
                },
                "title": {
                  "text": "AI Market Trends Overview (2018-2025)"
                },
                "xaxis": {
                  "anchor": "y",
                  "domain": [
                    0,
                    0.45
                  ]
                },
                "xaxis2": {
                  "anchor": "y2",
                  "domain": [
                    0.55,
                    1
                  ]
                },
                "xaxis3": {
                  "anchor": "y3",
                  "domain": [
                    0,
                    0.45
                  ]
                },
                "xaxis4": {
                  "anchor": "y4",
                  "domain": [
                    0.55,
                    1
                  ]
                },
                "yaxis": {
                  "anchor": "x",
                  "domain": [
                    0.625,
                    1
                  ]
                },
                "yaxis2": {
                  "anchor": "x2",
                  "domain": [
                    0.625,
                    1
                  ]
                },
                "yaxis3": {
                  "anchor": "x3",
                  "domain": [
                    0,
                    0.375
                  ]
                },
                "yaxis4": {
                  "anchor": "x4",
                  "domain": [
                    0,
                    0.375
                  ]
                }
              }
            }
          },
          "metadata": {},
          "output_type": "display_data"
        }
      ],
      "source": [
        "# Create visualizations for market trends\n",
        "fig = make_subplots(\n",
        "    rows=2, cols=2,\n",
        "    subplot_titles=('AI Software Revenue Over Time', 'Global AI Market Value', \n",
        "                   'AI Adoption Rate', 'Job Impact Analysis'),\n",
        "    specs=[[{\"secondary_y\": False}, {\"secondary_y\": False}],\n",
        "           [{\"secondary_y\": False}, {\"secondary_y\": False}]]\n",
        ")\n",
        "\n",
        "# AI Software Revenue\n",
        "fig.add_trace(\n",
        "    go.Scatter(x=market_df['Year'], \n",
        "               y=market_df['AI Software Revenue(in Billions)'],\n",
        "               mode='lines+markers',\n",
        "               name='AI Revenue',\n",
        "               line=dict(color='blue', width=3)),\n",
        "    row=1, col=1\n",
        ")\n",
        "\n",
        "# Global AI Market Value\n",
        "fig.add_trace(\n",
        "    go.Scatter(x=market_df['Year'], \n",
        "               y=market_df['Global AI Market Value(in Billions)'],\n",
        "               mode='lines+markers',\n",
        "               name='Market Value',\n",
        "               line=dict(color='green', width=3)),\n",
        "    row=1, col=2\n",
        ")\n",
        "\n",
        "# AI Adoption Rate\n",
        "fig.add_trace(\n",
        "    go.Scatter(x=market_df['Year'], \n",
        "               y=market_df['AI Adoption (%)'].str.rstrip('%').astype(float),\n",
        "               mode='lines+markers',\n",
        "               name='Adoption Rate',\n",
        "               line=dict(color='orange', width=3)),\n",
        "    row=2, col=1\n",
        ")\n",
        "\n",
        "# Job Impact (Jobs Eliminated vs Created)\n",
        "fig.add_trace(\n",
        "    go.Scatter(x=market_df['Year'], \n",
        "               y=market_df['Estimated Jobs Eliminated by AI (millions)'],\n",
        "               mode='lines+markers',\n",
        "               name='Jobs Eliminated',\n",
        "               line=dict(color='red', width=3)),\n",
        "    row=2, col=2\n",
        ")\n",
        "\n",
        "fig.add_trace(\n",
        "    go.Scatter(x=market_df['Year'], \n",
        "               y=market_df['Estimated New Jobs Created by AI (millions)'],\n",
        "               mode='lines+markers',\n",
        "               name='Jobs Created',\n",
        "               line=dict(color='green', width=3)),\n",
        "    row=2, col=2\n",
        ")\n",
        "\n",
        "fig.update_layout(height=800, title_text=\"AI Market Trends Overview (2018-2025)\")\n",
        "fig.show()"
      ]
    },
    {
      "cell_type": "markdown",
      "id": "2f065132",
      "metadata": {},
      "source": [
        "## 9. Detailed Column Analysis"
      ]
    },
    {
      "cell_type": "code",
      "execution_count": null,
      "id": "43ad1761",
      "metadata": {},
      "outputs": [
        {
          "name": "stdout",
          "output_type": "stream",
          "text": [
            "============================================================\n",
            "DETAILED COLUMN ANALYSIS - AI MARKET DATASET\n",
            "============================================================\n",
            "\n",
            "📊 Column: Year\n",
            "   Data Type: int64\n",
            "   Non-null Count: 8/8\n",
            "   Min: 2018\n",
            "   Max: 2025\n",
            "   Mean: 2021.50\n",
            "   Std: 2.45\n",
            "\n",
            "📊 Column: AI Software Revenue(in Billions)\n",
            "   Data Type: float64\n",
            "   Non-null Count: 8/8\n",
            "   Min: 10.1\n",
            "   Max: 126.0\n",
            "   Mean: 53.11\n",
            "   Std: 41.28\n",
            "\n",
            "📊 Column: Global AI Market Value(in Billions)\n",
            "   Data Type: float64\n",
            "   Non-null Count: 8/8\n",
            "   Min: 29.5\n",
            "   Max: 1810.0\n",
            "   Mean: 350.44\n",
            "   Std: 604.68\n",
            "\n",
            "📊 Column: AI Adoption (%)\n",
            "   Data Type: object\n",
            "   Non-null Count: 8/8\n",
            "   Unique Values: 6\n",
            "   Values: ['10%', '20%', '30%', '35%', '40%', '63%']\n",
            "\n",
            "📊 Column: Organizations Using AI\n",
            "   Data Type: object\n",
            "   Non-null Count: 8/8\n",
            "   Unique Values: 8\n",
            "   Values: ['35%', '37%', '40%', '42%', '45%', '48%', '50%', '55%']\n",
            "\n",
            "📊 Column: Organizations Planning to Implement AI\n",
            "   Data Type: object\n",
            "   Non-null Count: 8/8\n",
            "   Unique Values: 8\n",
            "   Values: ['40%', '42%', '45%', '47%', '50%', '53%', '55%', '58%']\n",
            "\n",
            "📊 Column: Global Expectation for AI Adoption (%)\n",
            "   Data Type: object\n",
            "   Non-null Count: 8/8\n",
            "   Unique Values: 8\n",
            "   Values: ['40%', '47%', '54%', '61%', '68%', '73%', '78%', '82%']\n",
            "\n",
            "📊 Column: Estimated Jobs Eliminated by AI (millions)\n",
            "   Data Type: object\n",
            "   Non-null Count: 8/8\n",
            "   Unique Values: 8\n",
            "   Values: ['10%', '15%', '20%', '25%', '30%', '35%', '40%', '45%']\n",
            "\n",
            "📊 Column: Estimated New Jobs Created by AI (millions)\n",
            "   Data Type: object\n",
            "   Non-null Count: 8/8\n",
            "   Unique Values: 8\n",
            "   Values: ['5%', '8%', '12%', '16%', '20%', '24%', '28%', '32%']\n",
            "\n",
            "📊 Column: Net Job Loss in the US\n",
            "   Data Type: object\n",
            "   Non-null Count: 8/8\n",
            "   Unique Values: 8\n",
            "   Values: ['7%', '6.50%', '6%', '5.50%', '5%', '4.80%', '4.50%', '4.20%']\n",
            "\n",
            "📊 Column: Organizations Believing AI Provides Competitive Edge\n",
            "   Data Type: object\n",
            "   Non-null Count: 8/8\n",
            "   Unique Values: 7\n",
            "   Values: ['87%', '88%', '89%', '90%', '91%', '92%', '93%']\n",
            "\n",
            "📊 Column: Companies Prioritizing AI in Strategy\n",
            "   Data Type: object\n",
            "   Non-null Count: 8/8\n",
            "   Unique Values: 8\n",
            "   Values: ['83%', '84%', '85%', '86%', '87%', '88%', '89%', '90%']\n",
            "\n",
            "📊 Column: Estimated Revenue Increase from AI (trillions USD)\n",
            "   Data Type: float64\n",
            "   Non-null Count: 8/8\n",
            "   Min: 1.2\n",
            "   Max: 5.5\n",
            "   Mean: 3.31\n",
            "   Std: 1.49\n",
            "\n",
            "📊 Column: Marketers Believing AI Improves Email Revenue\n",
            "   Data Type: object\n",
            "   Non-null Count: 8/8\n",
            "   Unique Values: 8\n",
            "   Values: ['41.29%', '42%', '43%', '44%', '45%', '46%', '47%', '48%']\n",
            "\n",
            "📊 Column: Expected Increase in Employee Productivity Due to AI (%)\n",
            "   Data Type: object\n",
            "   Non-null Count: 8/8\n",
            "   Unique Values: 8\n",
            "   Values: ['5%', '7%', '9%', '11%', '13%', '15%', '18%', '20%']\n",
            "\n",
            "📊 Column: Americans Using Voice Assistants (%)\n",
            "   Data Type: object\n",
            "   Non-null Count: 8/8\n",
            "   Unique Values: 8\n",
            "   Values: ['20%', '25%', '30%', '35%', '40%', '45%', '50%', '55%']\n",
            "\n",
            "📊 Column: Digital Voice Assistants (billions of devices)\n",
            "   Data Type: float64\n",
            "   Non-null Count: 8/8\n",
            "   Min: 1.5\n",
            "   Max: 5.5\n",
            "   Mean: 3.50\n",
            "   Std: 1.43\n",
            "\n",
            "📊 Column: Medical Professionals Using AI for Diagnosis\n",
            "   Data Type: object\n",
            "   Non-null Count: 8/8\n",
            "   Unique Values: 8\n",
            "   Values: ['38%', '39%', '41%', '43%', '45%', '47%', '48%', '50%']\n",
            "\n",
            "📊 Column: AI Contribution to Healthcare(in Billions)\n",
            "   Data Type: int64\n",
            "   Non-null Count: 8/8\n",
            "   Min: 461\n",
            "   Max: 500\n",
            "   Mean: 478.25\n",
            "   Std: 13.16\n",
            "\n",
            "📊 Column: Jobs at High Risk of Automation - Transportation & Storage (%)\n",
            "   Data Type: object\n",
            "   Non-null Count: 8/8\n",
            "   Unique Values: 8\n",
            "   Values: ['35%', '38%', '40%', '43%', '45%', '48%', '50%', '52%']\n",
            "\n",
            "📊 Column: Jobs at High Risk of Automation - Wholesale & Retail Trade\n",
            "   Data Type: object\n",
            "   Non-null Count: 8/8\n",
            "   Unique Values: 8\n",
            "   Values: ['44%', '45%', '46%', '47%', '48%', '49%', '50%', '51%']\n",
            "\n",
            "📊 Column: Jobs at High Risk of Automation - Manufacturing\n",
            "   Data Type: object\n",
            "   Non-null Count: 8/8\n",
            "   Unique Values: 8\n",
            "   Values: ['46.40%', '47%', '47.50%', '48%', '48.50%', '49%', '49.50%', '50%']\n"
          ]
        }
      ],
      "source": [
        "# Detailed analysis of market dataset columns\n",
        "column_info = []\n",
        "for col in market_df.columns:\n",
        "    info = {\n",
        "        'column': col,\n",
        "        'dtype': str(market_df[col].dtype),\n",
        "        'non_null_count': market_df[col].count(),\n",
        "        'total_count': len(market_df)\n",
        "    }\n",
        "    \n",
        "    if market_df[col].dtype == 'object':\n",
        "        # For string columns\n",
        "        unique_vals = market_df[col].nunique()\n",
        "        info['unique_values'] = unique_vals\n",
        "        if unique_vals <= 10:\n",
        "            info['values'] = list(market_df[col].unique())\n",
        "    else:\n",
        "        # For numeric columns\n",
        "        info['min'] = market_df[col].min()\n",
        "        info['max'] = market_df[col].max()\n",
        "        info['mean'] = market_df[col].mean()\n",
        "        info['std'] = market_df[col].std()\n",
        "    \n",
        "    column_info.append(info)\n",
        "\n",
        "# Display as DataFrame for better readability\n",
        "display(pd.DataFrame(column_info))"
      ]
    },
    {
      "cell_type": "markdown",
      "id": "e0db7471",
      "metadata": {},
      "source": [
        "## 10. Data Relationships and Correlations"
      ]
    },
    {
      "cell_type": "code",
      "execution_count": null,
      "id": "85780505",
      "metadata": {},
      "outputs": [
        {
          "name": "stdout",
          "output_type": "stream",
          "text": [
            "Percentage columns found: ['AI Adoption (%)', 'Organizations Using AI', 'Organizations Planning to Implement AI', 'Global Expectation for AI Adoption (%)', 'Estimated Jobs Eliminated by AI (millions)', 'Estimated New Jobs Created by AI (millions)', 'Net Job Loss in the US', 'Organizations Believing AI Provides Competitive Edge', 'Companies Prioritizing AI in Strategy', 'Marketers Believing AI Improves Email Revenue', 'Expected Increase in Employee Productivity Due to AI (%)', 'Americans Using Voice Assistants (%)', 'Medical Professionals Using AI for Diagnosis', 'Jobs at High Risk of Automation - Transportation & Storage (%)', 'Jobs at High Risk of Automation - Wholesale & Retail Trade', 'Jobs at High Risk of Automation - Manufacturing']\n",
            "\n",
            "Numeric columns for correlation: ['Year', 'AI Software Revenue(in Billions)', 'Global AI Market Value(in Billions)', 'AI Adoption (%)', 'Organizations Using AI', 'Organizations Planning to Implement AI', 'Global Expectation for AI Adoption (%)', 'Estimated Jobs Eliminated by AI (millions)', 'Estimated New Jobs Created by AI (millions)', 'Net Job Loss in the US', 'Organizations Believing AI Provides Competitive Edge', 'Companies Prioritizing AI in Strategy', 'Estimated Revenue Increase from AI (trillions USD)', 'Marketers Believing AI Improves Email Revenue', 'Expected Increase in Employee Productivity Due to AI (%)', 'Americans Using Voice Assistants (%)', 'Digital Voice Assistants (billions of devices)', 'Medical Professionals Using AI for Diagnosis', 'AI Contribution to Healthcare(in Billions)', 'Jobs at High Risk of Automation - Transportation & Storage (%)', 'Jobs at High Risk of Automation - Wholesale & Retail Trade', 'Jobs at High Risk of Automation - Manufacturing']\n"
          ]
        },
        {
          "data": {
            "image/png": "[encoded data removed]",
            "text/plain": [
              "<Figure size 1500x1200 with 2 Axes>"
            ]
          },
          "metadata": {},
          "output_type": "display_data"
        },
        {
          "name": "stdout",
          "output_type": "stream",
          "text": [
            "\n",
            "🔗 STRONGEST CORRELATIONS (|r| > 0.7):\n",
            "   Year ↔ Estimated Jobs Eliminated by AI (millions): 1.000\n",
            "   Year ↔ Companies Prioritizing AI in Strategy: 1.000\n",
            "   Year ↔ Americans Using Voice Assistants (%): 1.000\n",
            "   Year ↔ Jobs at High Risk of Automation - Wholesale & Retail Trade: 1.000\n",
            "   Estimated Jobs Eliminated by AI (millions) ↔ Companies Prioritizing AI in Strategy: 1.000\n",
            "   Estimated Jobs Eliminated by AI (millions) ↔ Americans Using Voice Assistants (%): 1.000\n",
            "   Estimated Jobs Eliminated by AI (millions) ↔ Jobs at High Risk of Automation - Wholesale & Retail Trade: 1.000\n",
            "   Companies Prioritizing AI in Strategy ↔ Americans Using Voice Assistants (%): 1.000\n",
            "   Companies Prioritizing AI in Strategy ↔ Jobs at High Risk of Automation - Wholesale & Retail Trade: 1.000\n",
            "   Americans Using Voice Assistants (%) ↔ Jobs at High Risk of Automation - Wholesale & Retail Trade: 1.000\n",
            "   Estimated New Jobs Created by AI (millions) ↔ Marketers Believing AI Improves Email Revenue: 1.000\n",
            "   Year ↔ Estimated Revenue Increase from AI (trillions USD): 1.000\n",
            "   Estimated Jobs Eliminated by AI (millions) ↔ Estimated Revenue Increase from AI (trillions USD): 1.000\n",
            "   Companies Prioritizing AI in Strategy ↔ Estimated Revenue Increase from AI (trillions USD): 1.000\n",
            "   Estimated Revenue Increase from AI (trillions USD) ↔ Americans Using Voice Assistants (%): 1.000\n",
            "   Estimated Revenue Increase from AI (trillions USD) ↔ Jobs at High Risk of Automation - Wholesale & Retail Trade: 1.000\n",
            "   Year ↔ Jobs at High Risk of Automation - Manufacturing: 1.000\n",
            "   Estimated Jobs Eliminated by AI (millions) ↔ Jobs at High Risk of Automation - Manufacturing: 1.000\n",
            "   Companies Prioritizing AI in Strategy ↔ Jobs at High Risk of Automation - Manufacturing: 1.000\n",
            "   Americans Using Voice Assistants (%) ↔ Jobs at High Risk of Automation - Manufacturing: 1.000\n",
            "   Jobs at High Risk of Automation - Wholesale & Retail Trade ↔ Jobs at High Risk of Automation - Manufacturing: 1.000\n",
            "   Year ↔ Digital Voice Assistants (billions of devices): 1.000\n",
            "   Estimated Jobs Eliminated by AI (millions) ↔ Digital Voice Assistants (billions of devices): 1.000\n",
            "   Companies Prioritizing AI in Strategy ↔ Digital Voice Assistants (billions of devices): 1.000\n",
            "   Americans Using Voice Assistants (%) ↔ Digital Voice Assistants (billions of devices): 1.000\n",
            "   Digital Voice Assistants (billions of devices) ↔ Jobs at High Risk of Automation - Wholesale & Retail Trade: 1.000\n",
            "   Estimated New Jobs Created by AI (millions) ↔ Digital Voice Assistants (billions of devices): 1.000\n",
            "   Marketers Believing AI Improves Email Revenue ↔ Digital Voice Assistants (billions of devices): 1.000\n",
            "   Estimated Jobs Eliminated by AI (millions) ↔ Estimated New Jobs Created by AI (millions): 1.000\n",
            "   Estimated New Jobs Created by AI (millions) ↔ Americans Using Voice Assistants (%): 1.000\n",
            "   Year ↔ Estimated New Jobs Created by AI (millions): 1.000\n",
            "   Estimated New Jobs Created by AI (millions) ↔ Companies Prioritizing AI in Strategy: 1.000\n",
            "   Estimated New Jobs Created by AI (millions) ↔ Jobs at High Risk of Automation - Wholesale & Retail Trade: 1.000\n",
            "   Estimated New Jobs Created by AI (millions) ↔ Estimated Revenue Increase from AI (trillions USD): 1.000\n",
            "   Estimated Revenue Increase from AI (trillions USD) ↔ Jobs at High Risk of Automation - Manufacturing: 0.999\n",
            "   Estimated Revenue Increase from AI (trillions USD) ↔ Marketers Believing AI Improves Email Revenue: 0.999\n",
            "   Estimated Jobs Eliminated by AI (millions) ↔ Marketers Believing AI Improves Email Revenue: 0.999\n",
            "   Year ↔ Marketers Believing AI Improves Email Revenue: 0.999\n",
            "   Companies Prioritizing AI in Strategy ↔ Marketers Believing AI Improves Email Revenue: 0.999\n",
            "   Marketers Believing AI Improves Email Revenue ↔ Americans Using Voice Assistants (%): 0.999\n",
            "   Marketers Believing AI Improves Email Revenue ↔ Jobs at High Risk of Automation - Wholesale & Retail Trade: 0.999\n",
            "   Estimated Revenue Increase from AI (trillions USD) ↔ Digital Voice Assistants (billions of devices): 0.999\n",
            "   Organizations Planning to Implement AI ↔ Estimated New Jobs Created by AI (millions): 0.999\n",
            "   Organizations Planning to Implement AI ↔ Marketers Believing AI Improves Email Revenue: 0.999\n",
            "   Organizations Using AI ↔ AI Contribution to Healthcare(in Billions): 0.999\n",
            "   Digital Voice Assistants (billions of devices) ↔ Jobs at High Risk of Automation - Manufacturing: 0.999\n",
            "   Organizations Planning to Implement AI ↔ Estimated Revenue Increase from AI (trillions USD): 0.999\n",
            "   Jobs at High Risk of Automation - Transportation & Storage (%) ↔ Jobs at High Risk of Automation - Manufacturing: 0.999\n",
            "   Year ↔ Organizations Planning to Implement AI: 0.999\n",
            "   Organizations Planning to Implement AI ↔ Estimated Jobs Eliminated by AI (millions): 0.999\n",
            "   Organizations Planning to Implement AI ↔ Americans Using Voice Assistants (%): 0.999\n",
            "   Organizations Planning to Implement AI ↔ Companies Prioritizing AI in Strategy: 0.999\n",
            "   Organizations Planning to Implement AI ↔ Jobs at High Risk of Automation - Wholesale & Retail Trade: 0.999\n",
            "   Organizations Planning to Implement AI ↔ Digital Voice Assistants (billions of devices): 0.999\n",
            "   Estimated Revenue Increase from AI (trillions USD) ↔ Expected Increase in Employee Productivity Due to AI (%): 0.999\n",
            "   Estimated New Jobs Created by AI (millions) ↔ Expected Increase in Employee Productivity Due to AI (%): 0.999\n",
            "   Estimated New Jobs Created by AI (millions) ↔ Jobs at High Risk of Automation - Manufacturing: 0.999\n",
            "   Estimated Jobs Eliminated by AI (millions) ↔ Jobs at High Risk of Automation - Transportation & Storage (%): 0.999\n",
            "   Americans Using Voice Assistants (%) ↔ Jobs at High Risk of Automation - Transportation & Storage (%): 0.999\n",
            "   Year ↔ Jobs at High Risk of Automation - Transportation & Storage (%): 0.999\n",
            "   Companies Prioritizing AI in Strategy ↔ Jobs at High Risk of Automation - Transportation & Storage (%): 0.999\n",
            "   Jobs at High Risk of Automation - Transportation & Storage (%) ↔ Jobs at High Risk of Automation - Wholesale & Retail Trade: 0.999\n",
            "   Marketers Believing AI Improves Email Revenue ↔ Expected Increase in Employee Productivity Due to AI (%): 0.999\n",
            "   Digital Voice Assistants (billions of devices) ↔ Jobs at High Risk of Automation - Transportation & Storage (%): 0.998\n",
            "   Global Expectation for AI Adoption (%) ↔ Net Job Loss in the US: -0.998\n",
            "   Estimated Jobs Eliminated by AI (millions) ↔ Expected Increase in Employee Productivity Due to AI (%): 0.998\n",
            "   Expected Increase in Employee Productivity Due to AI (%) ↔ Americans Using Voice Assistants (%): 0.998\n",
            "   Year ↔ Expected Increase in Employee Productivity Due to AI (%): 0.998\n",
            "   Companies Prioritizing AI in Strategy ↔ Expected Increase in Employee Productivity Due to AI (%): 0.998\n",
            "   Expected Increase in Employee Productivity Due to AI (%) ↔ Jobs at High Risk of Automation - Wholesale & Retail Trade: 0.998\n",
            "   Marketers Believing AI Improves Email Revenue ↔ Jobs at High Risk of Automation - Manufacturing: 0.998\n",
            "   Organizations Planning to Implement AI ↔ Medical Professionals Using AI for Diagnosis: 0.998\n",
            "   Expected Increase in Employee Productivity Due to AI (%) ↔ Digital Voice Assistants (billions of devices): 0.998\n",
            "   Organizations Planning to Implement AI ↔ Jobs at High Risk of Automation - Manufacturing: 0.998\n",
            "   Marketers Believing AI Improves Email Revenue ↔ Medical Professionals Using AI for Diagnosis: 0.998\n",
            "   Estimated New Jobs Created by AI (millions) ↔ Medical Professionals Using AI for Diagnosis: 0.998\n",
            "   Digital Voice Assistants (billions of devices) ↔ Medical Professionals Using AI for Diagnosis: 0.998\n",
            "   Estimated Revenue Increase from AI (trillions USD) ↔ Jobs at High Risk of Automation - Transportation & Storage (%): 0.998\n",
            "   Expected Increase in Employee Productivity Due to AI (%) ↔ Jobs at High Risk of Automation - Manufacturing: 0.998\n",
            "   Estimated New Jobs Created by AI (millions) ↔ Jobs at High Risk of Automation - Transportation & Storage (%): 0.997\n",
            "   Medical Professionals Using AI for Diagnosis ↔ Jobs at High Risk of Automation - Wholesale & Retail Trade: 0.997\n",
            "   Estimated Jobs Eliminated by AI (millions) ↔ Medical Professionals Using AI for Diagnosis: 0.997\n",
            "   Americans Using Voice Assistants (%) ↔ Medical Professionals Using AI for Diagnosis: 0.997\n",
            "   Year ↔ Medical Professionals Using AI for Diagnosis: 0.997\n",
            "   Companies Prioritizing AI in Strategy ↔ Medical Professionals Using AI for Diagnosis: 0.997\n",
            "   Global Expectation for AI Adoption (%) ↔ Jobs at High Risk of Automation - Transportation & Storage (%): 0.997\n",
            "   Marketers Believing AI Improves Email Revenue ↔ Jobs at High Risk of Automation - Transportation & Storage (%): 0.997\n",
            "   Organizations Planning to Implement AI ↔ Expected Increase in Employee Productivity Due to AI (%): 0.997\n",
            "   Estimated Revenue Increase from AI (trillions USD) ↔ Medical Professionals Using AI for Diagnosis: 0.997\n",
            "   Organizations Planning to Implement AI ↔ Jobs at High Risk of Automation - Transportation & Storage (%): 0.996\n",
            "   Organizations Using AI ↔ Organizations Planning to Implement AI: 0.996\n",
            "   Global Expectation for AI Adoption (%) ↔ Jobs at High Risk of Automation - Manufacturing: 0.996\n",
            "   Medical Professionals Using AI for Diagnosis ↔ Jobs at High Risk of Automation - Transportation & Storage (%): 0.996\n",
            "   Medical Professionals Using AI for Diagnosis ↔ Jobs at High Risk of Automation - Manufacturing: 0.996\n",
            "   Organizations Using AI ↔ Estimated Revenue Increase from AI (trillions USD): 0.996\n",
            "   Global Expectation for AI Adoption (%) ↔ Digital Voice Assistants (billions of devices): 0.996\n",
            "   Organizations Using AI ↔ Marketers Believing AI Improves Email Revenue: 0.995\n",
            "   Global Expectation for AI Adoption (%) ↔ Estimated Jobs Eliminated by AI (millions): 0.995\n",
            "   Global Expectation for AI Adoption (%) ↔ Americans Using Voice Assistants (%): 0.995\n",
            "   Year ↔ Global Expectation for AI Adoption (%): 0.995\n",
            "   Global Expectation for AI Adoption (%) ↔ Companies Prioritizing AI in Strategy: 0.995\n",
            "   Global Expectation for AI Adoption (%) ↔ Jobs at High Risk of Automation - Wholesale & Retail Trade: 0.995\n",
            "   Organizations Using AI ↔ Estimated New Jobs Created by AI (millions): 0.995\n",
            "   Expected Increase in Employee Productivity Due to AI (%) ↔ Jobs at High Risk of Automation - Transportation & Storage (%): 0.995\n",
            "   Estimated Revenue Increase from AI (trillions USD) ↔ AI Contribution to Healthcare(in Billions): 0.995\n",
            "   Global Expectation for AI Adoption (%) ↔ Medical Professionals Using AI for Diagnosis: 0.995\n",
            "   Expected Increase in Employee Productivity Due to AI (%) ↔ AI Contribution to Healthcare(in Billions): 0.994\n",
            "   Organizations Using AI ↔ Expected Increase in Employee Productivity Due to AI (%): 0.994\n",
            "   Year ↔ Organizations Using AI: 0.994\n",
            "   Organizations Using AI ↔ Estimated Jobs Eliminated by AI (millions): 0.994\n",
            "   Organizations Using AI ↔ Companies Prioritizing AI in Strategy: 0.994\n",
            "   Organizations Using AI ↔ Americans Using Voice Assistants (%): 0.994\n",
            "   Organizations Using AI ↔ Jobs at High Risk of Automation - Wholesale & Retail Trade: 0.994\n",
            "   Marketers Believing AI Improves Email Revenue ↔ AI Contribution to Healthcare(in Billions): 0.994\n",
            "   Estimated New Jobs Created by AI (millions) ↔ AI Contribution to Healthcare(in Billions): 0.994\n",
            "   Organizations Planning to Implement AI ↔ AI Contribution to Healthcare(in Billions): 0.994\n",
            "   Global Expectation for AI Adoption (%) ↔ Estimated Revenue Increase from AI (trillions USD): 0.994\n",
            "   Global Expectation for AI Adoption (%) ↔ Estimated New Jobs Created by AI (millions): 0.994\n",
            "   Expected Increase in Employee Productivity Due to AI (%) ↔ Medical Professionals Using AI for Diagnosis: 0.993\n",
            "   Organizations Using AI ↔ Digital Voice Assistants (billions of devices): 0.993\n",
            "   Global Expectation for AI Adoption (%) ↔ Marketers Believing AI Improves Email Revenue: 0.993\n",
            "   Year ↔ AI Contribution to Healthcare(in Billions): 0.993\n",
            "   Companies Prioritizing AI in Strategy ↔ AI Contribution to Healthcare(in Billions): 0.993\n",
            "   AI Contribution to Healthcare(in Billions) ↔ Jobs at High Risk of Automation - Wholesale & Retail Trade: 0.993\n",
            "   Estimated Jobs Eliminated by AI (millions) ↔ AI Contribution to Healthcare(in Billions): 0.993\n",
            "   Americans Using Voice Assistants (%) ↔ AI Contribution to Healthcare(in Billions): 0.993\n",
            "   Organizations Using AI ↔ Jobs at High Risk of Automation - Manufacturing: 0.993\n",
            "   Organizations Planning to Implement AI ↔ Global Expectation for AI Adoption (%): 0.993\n",
            "   Organizations Using AI ↔ Medical Professionals Using AI for Diagnosis: 0.993\n",
            "   Organizations Believing AI Provides Competitive Edge ↔ Expected Increase in Employee Productivity Due to AI (%): 0.993\n",
            "   Net Job Loss in the US ↔ Jobs at High Risk of Automation - Transportation & Storage (%): -0.992\n",
            "   AI Contribution to Healthcare(in Billions) ↔ Jobs at High Risk of Automation - Manufacturing: 0.992\n",
            "   Digital Voice Assistants (billions of devices) ↔ AI Contribution to Healthcare(in Billions): 0.991\n",
            "   Net Job Loss in the US ↔ Jobs at High Risk of Automation - Manufacturing: -0.991\n",
            "   Organizations Believing AI Provides Competitive Edge ↔ Marketers Believing AI Improves Email Revenue: 0.991\n",
            "   Estimated New Jobs Created by AI (millions) ↔ Organizations Believing AI Provides Competitive Edge: 0.991\n",
            "   Organizations Believing AI Provides Competitive Edge ↔ Estimated Revenue Increase from AI (trillions USD): 0.991\n",
            "   Organizations Believing AI Provides Competitive Edge ↔ AI Contribution to Healthcare(in Billions): 0.991\n",
            "   Medical Professionals Using AI for Diagnosis ↔ AI Contribution to Healthcare(in Billions): 0.990\n",
            "   Year ↔ Net Job Loss in the US: -0.990\n",
            "   Estimated Jobs Eliminated by AI (millions) ↔ Net Job Loss in the US: -0.990\n",
            "   Net Job Loss in the US ↔ Americans Using Voice Assistants (%): -0.990\n",
            "   Net Job Loss in the US ↔ Companies Prioritizing AI in Strategy: -0.990\n",
            "   Net Job Loss in the US ↔ Jobs at High Risk of Automation - Wholesale & Retail Trade: -0.990\n",
            "   Organizations Using AI ↔ Organizations Believing AI Provides Competitive Edge: 0.990\n",
            "   Year ↔ Organizations Believing AI Provides Competitive Edge: 0.990\n",
            "   Organizations Believing AI Provides Competitive Edge ↔ Companies Prioritizing AI in Strategy: 0.990\n",
            "   Organizations Believing AI Provides Competitive Edge ↔ Jobs at High Risk of Automation - Wholesale & Retail Trade: 0.990\n",
            "   Estimated Jobs Eliminated by AI (millions) ↔ Organizations Believing AI Provides Competitive Edge: 0.990\n",
            "   Organizations Believing AI Provides Competitive Edge ↔ Americans Using Voice Assistants (%): 0.990\n",
            "   Net Job Loss in the US ↔ Digital Voice Assistants (billions of devices): -0.990\n",
            "   Net Job Loss in the US ↔ Medical Professionals Using AI for Diagnosis: -0.990\n",
            "   Global Expectation for AI Adoption (%) ↔ Expected Increase in Employee Productivity Due to AI (%): 0.989\n",
            "   Organizations Believing AI Provides Competitive Edge ↔ Digital Voice Assistants (billions of devices): 0.989\n",
            "   Organizations Planning to Implement AI ↔ Organizations Believing AI Provides Competitive Edge: 0.989\n",
            "   Organizations Using AI ↔ Jobs at High Risk of Automation - Transportation & Storage (%): 0.989\n",
            "   Organizations Believing AI Provides Competitive Edge ↔ Jobs at High Risk of Automation - Manufacturing: 0.988\n",
            "   Net Job Loss in the US ↔ Estimated Revenue Increase from AI (trillions USD): -0.988\n",
            "   AI Contribution to Healthcare(in Billions) ↔ Jobs at High Risk of Automation - Transportation & Storage (%): 0.987\n",
            "   Organizations Believing AI Provides Competitive Edge ↔ Jobs at High Risk of Automation - Transportation & Storage (%): 0.987\n",
            "   Estimated New Jobs Created by AI (millions) ↔ Net Job Loss in the US: -0.987\n",
            "   Net Job Loss in the US ↔ Marketers Believing AI Improves Email Revenue: -0.987\n",
            "   Organizations Planning to Implement AI ↔ Net Job Loss in the US: -0.986\n",
            "   AI Software Revenue(in Billions) ↔ AI Contribution to Healthcare(in Billions): 0.986\n",
            "   AI Software Revenue(in Billions) ↔ Organizations Believing AI Provides Competitive Edge: 0.986\n",
            "   Organizations Believing AI Provides Competitive Edge ↔ Medical Professionals Using AI for Diagnosis: 0.985\n",
            "   AI Software Revenue(in Billions) ↔ Organizations Using AI: 0.984\n",
            "   Organizations Using AI ↔ Global Expectation for AI Adoption (%): 0.982\n",
            "   Net Job Loss in the US ↔ Expected Increase in Employee Productivity Due to AI (%): -0.982\n",
            "   Global Expectation for AI Adoption (%) ↔ AI Contribution to Healthcare(in Billions): 0.979\n",
            "   AI Software Revenue(in Billions) ↔ Expected Increase in Employee Productivity Due to AI (%): 0.978\n",
            "   Global Expectation for AI Adoption (%) ↔ Organizations Believing AI Provides Competitive Edge: 0.976\n",
            "   Organizations Using AI ↔ Net Job Loss in the US: -0.975\n",
            "   AI Software Revenue(in Billions) ↔ Marketers Believing AI Improves Email Revenue: 0.974\n",
            "   AI Software Revenue(in Billions) ↔ Estimated New Jobs Created by AI (millions): 0.973\n",
            "   AI Software Revenue(in Billions) ↔ Organizations Planning to Implement AI: 0.972\n",
            "   Net Job Loss in the US ↔ AI Contribution to Healthcare(in Billions): -0.972\n",
            "   AI Software Revenue(in Billions) ↔ Estimated Revenue Increase from AI (trillions USD): 0.972\n",
            "   AI Software Revenue(in Billions) ↔ Estimated Jobs Eliminated by AI (millions): 0.969\n",
            "   AI Software Revenue(in Billions) ↔ Americans Using Voice Assistants (%): 0.969\n",
            "   Year ↔ AI Software Revenue(in Billions): 0.969\n",
            "   AI Software Revenue(in Billions) ↔ Companies Prioritizing AI in Strategy: 0.969\n",
            "   AI Software Revenue(in Billions) ↔ Jobs at High Risk of Automation - Wholesale & Retail Trade: 0.969\n",
            "   AI Software Revenue(in Billions) ↔ Digital Voice Assistants (billions of devices): 0.968\n",
            "   Net Job Loss in the US ↔ Organizations Believing AI Provides Competitive Edge: -0.965\n",
            "   AI Software Revenue(in Billions) ↔ Jobs at High Risk of Automation - Manufacturing: 0.964\n",
            "   AI Software Revenue(in Billions) ↔ Medical Professionals Using AI for Diagnosis: 0.964\n",
            "   AI Software Revenue(in Billions) ↔ Jobs at High Risk of Automation - Transportation & Storage (%): 0.959\n",
            "   AI Adoption (%) ↔ AI Contribution to Healthcare(in Billions): 0.943\n",
            "   AI Software Revenue(in Billions) ↔ Global Expectation for AI Adoption (%): 0.941\n",
            "   AI Adoption (%) ↔ Organizations Using AI: 0.936\n",
            "   AI Software Revenue(in Billions) ↔ Net Job Loss in the US: -0.927\n",
            "   AI Adoption (%) ↔ Estimated Revenue Increase from AI (trillions USD): 0.924\n",
            "   AI Adoption (%) ↔ Jobs at High Risk of Automation - Manufacturing: 0.921\n",
            "   AI Adoption (%) ↔ Expected Increase in Employee Productivity Due to AI (%): 0.919\n",
            "   Year ↔ AI Adoption (%): 0.919\n",
            "   AI Adoption (%) ↔ Estimated Jobs Eliminated by AI (millions): 0.919\n",
            "   AI Adoption (%) ↔ Companies Prioritizing AI in Strategy: 0.919\n",
            "   AI Adoption (%) ↔ Americans Using Voice Assistants (%): 0.919\n",
            "   AI Adoption (%) ↔ Jobs at High Risk of Automation - Wholesale & Retail Trade: 0.919\n",
            "   AI Adoption (%) ↔ Organizations Planning to Implement AI: 0.915\n",
            "   AI Adoption (%) ↔ Estimated New Jobs Created by AI (millions): 0.915\n",
            "   AI Adoption (%) ↔ Marketers Believing AI Improves Email Revenue: 0.914\n",
            "   AI Adoption (%) ↔ Digital Voice Assistants (billions of devices): 0.910\n",
            "   AI Software Revenue(in Billions) ↔ AI Adoption (%): 0.909\n",
            "   AI Adoption (%) ↔ Jobs at High Risk of Automation - Transportation & Storage (%): 0.909\n",
            "   AI Adoption (%) ↔ Medical Professionals Using AI for Diagnosis: 0.906\n",
            "   AI Adoption (%) ↔ Net Job Loss in the US: -0.906\n",
            "   AI Adoption (%) ↔ Global Expectation for AI Adoption (%): 0.903\n",
            "   AI Adoption (%) ↔ Organizations Believing AI Provides Competitive Edge: 0.899\n",
            "   Global AI Market Value(in Billions) ↔ AI Adoption (%): 0.848\n",
            "   AI Software Revenue(in Billions) ↔ Global AI Market Value(in Billions): 0.847\n",
            "   Global AI Market Value(in Billions) ↔ AI Contribution to Healthcare(in Billions): 0.802\n",
            "   Global AI Market Value(in Billions) ↔ Organizations Using AI: 0.790\n",
            "   Global AI Market Value(in Billions) ↔ Organizations Believing AI Provides Competitive Edge: 0.768\n",
            "   Global AI Market Value(in Billions) ↔ Expected Increase in Employee Productivity Due to AI (%): 0.745\n",
            "   Global AI Market Value(in Billions) ↔ Estimated Revenue Increase from AI (trillions USD): 0.740\n",
            "   Global AI Market Value(in Billions) ↔ Organizations Planning to Implement AI: 0.736\n",
            "   Global AI Market Value(in Billions) ↔ Marketers Believing AI Improves Email Revenue: 0.735\n",
            "   Global AI Market Value(in Billions) ↔ Estimated New Jobs Created by AI (millions): 0.734\n",
            "   Year ↔ Global AI Market Value(in Billions): 0.727\n",
            "   Global AI Market Value(in Billions) ↔ Estimated Jobs Eliminated by AI (millions): 0.727\n",
            "   Global AI Market Value(in Billions) ↔ Companies Prioritizing AI in Strategy: 0.727\n",
            "   Global AI Market Value(in Billions) ↔ Americans Using Voice Assistants (%): 0.727\n",
            "   Global AI Market Value(in Billions) ↔ Jobs at High Risk of Automation - Wholesale & Retail Trade: 0.727\n",
            "   Global AI Market Value(in Billions) ↔ Jobs at High Risk of Automation - Manufacturing: 0.721\n",
            "   Global AI Market Value(in Billions) ↔ Medical Professionals Using AI for Diagnosis: 0.718\n",
            "   Global AI Market Value(in Billions) ↔ Digital Voice Assistants (billions of devices): 0.718\n",
            "   Global AI Market Value(in Billions) ↔ Jobs at High Risk of Automation - Transportation & Storage (%): 0.701\n"
          ]
        }
      ],
      "source": [
        "# Prepare numeric data for correlation analysis\n",
        "# Convert percentage columns to numeric\n",
        "market_numeric = market_df.copy()\n",
        "\n",
        "# Convert percentage columns\n",
        "percentage_cols = [col for col in market_df.columns if '%' in str(market_df[col].iloc[0]) if pd.notna(market_df[col].iloc[0])]\n",
        "\n",
        "for col in percentage_cols:\n",
        "    if market_numeric[col].dtype == 'object':\n",
        "        market_numeric[col] = pd.to_numeric(market_numeric[col].str.rstrip('%'), errors='coerce')\n",
        "\n",
        "# Select numeric columns for correlation\n",
        "numeric_cols = market_numeric.select_dtypes(include=[np.number]).columns\n",
        "\n",
        "# Calculate correlation matrix\n",
        "if len(numeric_cols) > 1:\n",
        "    corr_matrix = market_numeric[numeric_cols].corr()\n",
        "    \n",
        "    # Create correlation heatmap\n",
        "    plt.figure(figsize=(15, 12))\n",
        "    mask = np.triu(np.ones_like(corr_matrix, dtype=bool))\n",
        "    sns.heatmap(corr_matrix, annot=True, cmap='RdYlBu_r', center=0,\n",
        "                square=True, mask=mask, cbar_kws={\"shrink\": .8})\n",
        "    plt.title('AI Market Data - Correlation Matrix', fontsize=16, fontweight='bold')\n",
        "    plt.tight_layout()\n",
        "    plt.show()\n",
        "    \n",
        "    # Find strongest correlations\n",
        "    strong_corr = []\n",
        "    for i in range(len(corr_matrix.columns)):\n",
        "        for j in range(i+1, len(corr_matrix.columns)):\n",
        "            corr_val = corr_matrix.iloc[i, j]\n",
        "            if abs(corr_val) > 0.7:\n",
        "                strong_corr.append((corr_matrix.columns[i], corr_matrix.columns[j], corr_val))\n",
        "    \n",
        "    strong_corr_df = pd.DataFrame(strong_corr, columns=['Variable 1', 'Variable 2', 'Correlation'])\n",
        "    strong_corr_df = strong_corr_df.sort_values('Correlation', key=abs, ascending=False)\n",
        "    display(strong_corr_df)"
      ]
    },
    {
      "cell_type": "markdown",
      "id": "3699f572",
      "metadata": {},
      "source": [
        "## 11. Initial Insights and Key Findings"
      ]
    },
    {
      "cell_type": "code",
      "execution_count": null,
      "id": "604cd127",
      "metadata": {},
      "outputs": [
        {
          "name": "stdout",
          "output_type": "stream",
          "text": [
            "============================================================\n",
            "🔍 INITIAL INSIGHTS AND KEY FINDINGS\n",
            "============================================================\n",
            "📈 AI Software Revenue Growth (2018-2025): 1147.5%\n",
            "📈 AI Market Value Growth (2018-2025): 6035.6%\n"
          ]
        },
        {
          "ename": "TypeError",
          "evalue": "unsupported operand type(s) for -: 'str' and 'str'",
          "output_type": "error",
          "traceback": [
            "\u001b[31m---------------------------------------------------------------------------\u001b[39m",
            "\u001b[31mTypeError\u001b[39m                                 Traceback (most recent call last)",
            "\u001b[36mCell\u001b[39m\u001b[36m \u001b[39m\u001b[32mIn[14]\u001b[39m\u001b[32m, line 18\u001b[39m\n\u001b[32m     16\u001b[39m jobs_eliminated_2025 = market_df[\u001b[33m'\u001b[39m\u001b[33mEstimated Jobs Eliminated by AI (millions)\u001b[39m\u001b[33m'\u001b[39m].iloc[-\u001b[32m1\u001b[39m]\n\u001b[32m     17\u001b[39m jobs_created_2025 = market_df[\u001b[33m'\u001b[39m\u001b[33mEstimated New Jobs Created by AI (millions)\u001b[39m\u001b[33m'\u001b[39m].iloc[-\u001b[32m1\u001b[39m]\n\u001b[32m---> \u001b[39m\u001b[32m18\u001b[39m net_job_impact = \u001b[43mjobs_created_2025\u001b[49m\u001b[43m \u001b[49m\u001b[43m-\u001b[49m\u001b[43m \u001b[49m\u001b[43mjobs_eliminated_2025\u001b[49m\n\u001b[32m     20\u001b[39m \u001b[38;5;28mprint\u001b[39m(\u001b[33mf\u001b[39m\u001b[33m\"\u001b[39m\u001b[38;5;130;01m\\n\u001b[39;00m\u001b[33m👥 Job Impact by 2025:\u001b[39m\u001b[33m\"\u001b[39m)\n\u001b[32m     21\u001b[39m \u001b[38;5;28mprint\u001b[39m(\u001b[33mf\u001b[39m\u001b[33m\"\u001b[39m\u001b[33m   🔴 Jobs Eliminated: \u001b[39m\u001b[38;5;132;01m{\u001b[39;00mjobs_eliminated_2025\u001b[38;5;132;01m}\u001b[39;00m\u001b[33m million\u001b[39m\u001b[33m\"\u001b[39m)\n",
            "\u001b[31mTypeError\u001b[39m: unsupported operand type(s) for -: 'str' and 'str'"
          ]
        }
      ],
      "source": [
        "# Generate initial insights\n",
        "# Market growth analysis\n",
        "revenue_growth = ((market_df['AI Software Revenue(in Billions)'].iloc[-1] / \n",
        "                  market_df['AI Software Revenue(in Billions)'].iloc[0]) - 1) * 100\n",
        "market_growth = ((market_df['Global AI Market Value(in Billions)'].iloc[-1] / \n",
        "                 market_df['Global AI Market Value(in Billions)'].iloc[0]) - 1) * 100\n",
        "\n",
        "# Job impact analysis\n",
        "jobs_eliminated_2025 = market_df['Estimated Jobs Eliminated by AI (millions)'].iloc[-1]\n",
        "jobs_created_2025 = market_df['Estimated New Jobs Created by AI (millions)'].iloc[-1]\n",
        "net_job_impact = jobs_created_2025 - jobs_eliminated_2025\n",
        "\n",
        "# Adoption trends\n",
        "adoption_start = float(market_df['AI Adoption (%)'].iloc[0].rstrip('%'))\n",
        "adoption_end = float(market_df['AI Adoption (%)'].iloc[-1].rstrip('%'))\n",
        "adoption_change = adoption_end - adoption_start\n",
        "\n",
        "# Create summary DataFrame\n",
        "insights_data = {\n",
        "    'Metric': [\n",
        "        'AI Software Revenue Growth (2018-2025)',\n",
        "        'AI Market Value Growth (2018-2025)', \n",
        "        'Jobs Eliminated by 2025 (millions)',\n",
        "        'Jobs Created by 2025 (millions)',\n",
        "        'Net Job Impact (millions)',\n",
        "        'AI Adoption Start (2018)',\n",
        "        'AI Adoption End (2025)',\n",
        "        'Adoption Change (percentage points)'\n",
        "    ],\n",
        "    'Value': [\n",
        "        f\"{revenue_growth:.1f}%\",\n",
        "        f\"{market_growth:.1f}%\",\n",
        "        jobs_eliminated_2025,\n",
        "        jobs_created_2025,\n",
        "        f\"{net_job_impact:+.1f}\",\n",
        "        f\"{adoption_start}%\",\n",
        "        f\"{adoption_end}%\",\n",
        "        f\"+{adoption_change}\"\n",
        "    ]\n",
        "}\n",
        "\n",
        "insights_df = pd.DataFrame(insights_data)\n",
        "display(insights_df)"
      ]
    },
    {
      "cell_type": "markdown",
      "id": "be0a91b1",
      "metadata": {},
      "source": [
        "## 12. Data Export for Next Phase"
      ]
    },
    {
      "cell_type": "code",
      "execution_count": null,
      "id": "6dd84fcb",
      "metadata": {},
      "outputs": [
        {
          "name": "stdout",
          "output_type": "stream",
          "text": [
            "📁 Data quality summary saved to ../results/data_quality_summary.csv\n",
            "\n",
            "✅ Data Exploration Complete!\n",
            "📋 Next Steps:\n",
            "   1. Move to 02_data_cleaning.ipynb for data preprocessing\n",
            "   2. Use insights from this exploration to guide cleaning decisions\n",
            "   3. Focus on high-correlation variables for feature engineering\n"
          ]
        }
      ],
      "source": [
        "# Save exploration results for next notebooks\n",
        "results_dir = Path('../results')\n",
        "results_dir.mkdir(exist_ok=True)\n",
        "\n",
        "# Save data quality summary\n",
        "quality_summary = {\n",
        "    'market_data_quality': market_quality,\n",
        "    'popularity_data_quality': popularity_quality,\n",
        "    'exploration_timestamp': pd.Timestamp.now().isoformat()\n",
        "}\n",
        "\n",
        "# Convert to DataFrame for easy saving\n",
        "quality_df = pd.DataFrame([\n",
        "    {'dataset': 'AI_Market', 'metric': 'rows', 'value': market_quality['shape'][0]},\n",
        "    {'dataset': 'AI_Market', 'metric': 'columns', 'value': market_quality['shape'][1]},\n",
        "    {'dataset': 'AI_Market', 'metric': 'missing_pct', 'value': market_quality['missing_percentage']},\n",
        "    {'dataset': 'AI_Popularity', 'metric': 'rows', 'value': popularity_quality['shape'][0]},\n",
        "    {'dataset': 'AI_Popularity', 'metric': 'columns', 'value': popularity_quality['shape'][1]},\n",
        "    {'dataset': 'AI_Popularity', 'metric': 'missing_pct', 'value': popularity_quality['missing_percentage']},\n",
        "])\n",
        "\n",
        "quality_df.to_csv(results_dir / 'data_quality_summary.csv', index=False)"
      ]
    }
  ],
  "metadata": {
    "kernelspec": {
      "display_name": "ML_Project",
      "language": "python",
      "name": "python3"
    },
    "language_info": {
      "codemirror_mode": {
        "name": "ipython",
        "version": 3
      },
      "file_extension": ".py",
      "mimetype": "text/x-python",
      "name": "python",
      "nbconvert_exporter": "python",
      "pygments_lexer": "ipython3",
      "version": "3.11.13"
    }
  },
  "nbformat": 4,
  "nbformat_minor": 5
}
