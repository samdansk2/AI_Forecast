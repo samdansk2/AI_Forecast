{
  "cells": [
    {
      "cell_type": "markdown",
      "id": "7c0ef336",
      "metadata": {},
      "source": [
        "# Model Development & Training - AI/ML Market Analysis\n",
        "\n",
        "This notebook implements multiple machine learning models to predict AI market trends and analyze patterns.\n",
        "\n",
        "## Objectives:\n",
        "- Implement time series forecasting models (ARIMA/Prophet)\n",
        "- Build machine learning models (XGBoost, Random Forest)\n",
        "- Perform cross-validation and hyperparameter tuning\n",
        "- Compare model performance and create ensembles\n",
        "- Generate model evaluation metrics and diagnostics"
      ]
    },
    {
      "cell_type": "markdown",
      "id": "01734e5f",
      "metadata": {},
      "source": [
        "## 1. Import Libraries and Load Data"
      ]
    },
    {
      "cell_type": "code",
      "execution_count": null,
      "id": "f962f23b",
      "metadata": {},
      "outputs": [
        {
          "name": "stdout",
          "output_type": "stream",
          "text": [
            "✅ Data and libraries loaded successfully!\n",
            "Market data: (8, 162)\n",
            "Scaled features: (8, 16)\n",
            "Prophet available: True\n"
          ]
        }
      ],
      "source": [
        "# Import comprehensive ML libraries\n",
        "import pandas as pd\n",
        "import numpy as np\n",
        "import matplotlib.pyplot as plt\n",
        "import seaborn as sns\n",
        "import plotly.express as px\n",
        "import plotly.graph_objects as go\n",
        "from plotly.subplots import make_subplots\n",
        "\n",
        "# Machine Learning\n",
        "from sklearn.model_selection import train_test_split, cross_val_score, TimeSeriesSplit\n",
        "from sklearn.ensemble import RandomForestRegressor, GradientBoostingRegressor\n",
        "from sklearn.linear_model import LinearRegression, Ridge, Lasso\n",
        "from sklearn.svm import SVR\n",
        "from sklearn.metrics import mean_squared_error, mean_absolute_error, r2_score\n",
        "from sklearn.preprocessing import StandardScaler\n",
        "import xgboost as xgb\n",
        "\n",
        "# Time Series\n",
        "from statsmodels.tsa.arima.model import ARIMA\n",
        "from statsmodels.tsa.holtwinters import ExponentialSmoothing\n",
        "try:\n",
        "    from prophet import Prophet\n",
        "    PROPHET_AVAILABLE = True\n",
        "except ImportError:\n",
        "    PROPHET_AVAILABLE = False\n",
        "\n",
        "# Utilities\n",
        "from pathlib import Path\n",
        "import warnings\n",
        "warnings.filterwarnings('ignore')\n",
        "import joblib\n",
        "from datetime import datetime\n",
        "\n",
        "# Load data and features\n",
        "processed_dir = Path('../data/processed')\n",
        "results_dir = Path('../results')\n",
        "market_df = pd.read_csv(results_dir / 'ai_market_engineered.csv')\n",
        "features_scaled = pd.read_csv(results_dir / 'ai_market_features_standard_scaled.csv')\n"
      ]
    },
    {
      "cell_type": "markdown",
      "id": "feda3a8b",
      "metadata": {},
      "source": [
        "## 2. Model Preparation and Data Splitting"
      ]
    },
    {
      "cell_type": "code",
      "execution_count": 2,
      "id": "fbe8e7dc",
      "metadata": {},
      "outputs": [
        {
          "name": "stdout",
          "output_type": "stream",
          "text": [
            "\n",
            "🔧 Preparing data for AI Software Revenue...\n",
            "🎯 Target Variable: ai_software_revenue_in_billions\n",
            "📊 Features: 128\n",
            "📈 Samples: 8\n",
            "📋 Feature columns: ['global_ai_market_value_in_billions', 'ai_adoption_%', 'organizations_using_ai', 'organizations_planning_to_implement_ai', 'global_expectation_for_ai_adoption_%']...\n",
            "\n",
            "🔧 Preparing data for AI Market Value...\n",
            "🎯 Target Variable: global_ai_market_value_in_billions\n",
            "📊 Features: 128\n",
            "📈 Samples: 8\n",
            "📋 Feature columns: ['ai_software_revenue_in_billions', 'ai_adoption_%', 'organizations_using_ai', 'organizations_planning_to_implement_ai', 'global_expectation_for_ai_adoption_%']...\n",
            "\n",
            "✅ Prepared data for 2 target variables\n"
          ]
        }
      ],
      "source": [
        "# Prepare data for modeling\n",
        "def prepare_modeling_data(df, target_col='ai_software_revenue_in_billions'):\n",
        "    \"\"\"\n",
        "    Prepare data for machine learning models\n",
        "    \"\"\"\n",
        "    # Clean data\n",
        "    model_df = df.dropna(subset=[target_col])\n",
        "    \n",
        "    # Select features (exclude target and non-predictive columns)\n",
        "    exclude_cols = [target_col, 'year'] + [col for col in df.columns if target_col in col and col != target_col]\n",
        "    feature_cols = [col for col in model_df.columns if col not in exclude_cols and model_df[col].dtype in ['int64', 'float64']]\n",
        "    \n",
        "    X = model_df[feature_cols].fillna(model_df[feature_cols].mean())\n",
        "    y = model_df[target_col]\n",
        "    \n",
        "    \n",
        "    return X, y, feature_cols\n",
        "\n",
        "# Prepare data for multiple targets\n",
        "targets = {\n",
        "    'ai_software_revenue_in_billions': 'AI Software Revenue',\n",
        "    'global_ai_market_value_in_billions': 'AI Market Value',\n",
        "    'ai_adoption': 'AI Adoption Rate'\n",
        "}\n",
        "\n",
        "modeling_data = {}\n",
        "\n",
        "for target_col, target_name in targets.items():\n",
        "    if target_col in market_df.columns:\n",
        "        X, y, feature_cols = prepare_modeling_data(market_df, target_col)\n",
        "        \n",
        "        if len(X) > 0:\n",
        "            modeling_data[target_col] = {\n",
        "                'X': X,\n",
        "                'y': y,\n",
        "                'features': feature_cols,\n",
        "                'name': target_name\n",
        "            }\n",
        "        else:\n"
      ]
    },
    {
      "cell_type": "markdown",
      "id": "538b544b",
      "metadata": {},
      "source": [
        "## 3. Time Series Forecasting Models"
      ]
    },
    {
      "cell_type": "code",
      "execution_count": 3,
      "id": "ab5994bf",
      "metadata": {},
      "outputs": [
        {
          "name": "stdout",
          "output_type": "stream",
          "text": [
            "\n",
            "🕒 Time Series Modeling for AI Software Revenue\n",
            "==================================================\n",
            "⏰ Building time series models for ai_software_revenue_in_billions...\n",
            "   ✅ Linear Trend Model: R² = 0.938\n",
            "   ✅ Exponential Smoothing Model: AIC = 30.8\n",
            "   ✅ ARIMA Model: AIC = 47.2\n"
          ]
        },
        {
          "name": "stderr",
          "output_type": "stream",
          "text": [
            "14:13:56 - cmdstanpy - INFO - Chain [1] start processing\n",
            "14:13:57 - cmdstanpy - INFO - Chain [1] done processing\n"
          ]
        },
        {
          "name": "stdout",
          "output_type": "stream",
          "text": [
            "   ✅ Prophet Model: Successfully trained\n",
            "\n",
            "🕒 Time Series Modeling for AI Market Value\n",
            "==================================================\n",
            "⏰ Building time series models for global_ai_market_value_in_billions...\n",
            "   ✅ Linear Trend Model: R² = 0.528\n",
            "   ✅ Exponential Smoothing Model: AIC = 105.9\n",
            "   ✅ ARIMA Model: AIC = 113.9\n"
          ]
        },
        {
          "name": "stderr",
          "output_type": "stream",
          "text": [
            "14:13:57 - cmdstanpy - INFO - Chain [1] start processing\n",
            "14:13:57 - cmdstanpy - INFO - Chain [1] done processing\n"
          ]
        },
        {
          "name": "stdout",
          "output_type": "stream",
          "text": [
            "   ✅ Prophet Model: Successfully trained\n",
            "\n",
            "✅ Time series models built for 2 targets\n"
          ]
        }
      ],
      "source": [
        "# Time series forecasting\n",
        "def build_time_series_models(df, target_col, year_col='year', forecast_periods=3):\n",
        "    \"\"\"\n",
        "    Build various time series forecasting models\n",
        "    \"\"\"\n",
        "    if target_col not in df.columns or year_col not in df.columns:\n",
        "        return None\n",
        "    \n",
        "    # Prepare time series data\n",
        "    ts_data = df[[year_col, target_col]].dropna()\n",
        "    ts_data = ts_data.sort_values(year_col)\n",
        "    \n",
        "    if len(ts_data) < 5:\n",
        "        return None\n",
        "    \n",
        "    models = {}\n",
        "    forecasts = {}\n",
        "    \n",
        "    \n",
        "    # 1. Linear Trend Model\n",
        "    try:\n",
        "        X_trend = ts_data[year_col].values.reshape(-1, 1)\n",
        "        y_trend = ts_data[target_col].values\n",
        "        \n",
        "        linear_model = LinearRegression()\n",
        "        linear_model.fit(X_trend, y_trend)\n",
        "        \n",
        "        # Forecast\n",
        "        future_years = np.arange(ts_data[year_col].max() + 1, \n",
        "                                ts_data[year_col].max() + forecast_periods + 1).reshape(-1, 1)\n",
        "        linear_forecast = linear_model.predict(future_years)\n",
        "        \n",
        "        models['linear_trend'] = linear_model\n",
        "        forecasts['linear_trend'] = {\n",
        "            'years': future_years.flatten(),\n",
        "            'values': linear_forecast\n",
        "        }\n",
        "        \n",
        "        # Calculate R²\n",
        "        r2 = linear_model.score(X_trend, y_trend)\n",
        "    \n",
        "    except Exception as e:\n",
        "    \n",
        "    # 2. Exponential Smoothing\n",
        "    try:\n",
        "        exp_model = ExponentialSmoothing(\n",
        "            ts_data[target_col].values,\n",
        "            trend='add',\n",
        "            seasonal=None,\n",
        "            initialization_method='estimated'\n",
        "        ).fit()\n",
        "        \n",
        "        exp_forecast = exp_model.forecast(forecast_periods)\n",
        "        \n",
        "        models['exponential_smoothing'] = exp_model\n",
        "        forecasts['exponential_smoothing'] = {\n",
        "            'years': np.arange(ts_data[year_col].max() + 1, \n",
        "                              ts_data[year_col].max() + forecast_periods + 1),\n",
        "            'values': exp_forecast\n",
        "        }\n",
        "        \n",
        "    \n",
        "    except Exception as e:\n",
        "    \n",
        "    # 3. ARIMA Model\n",
        "    try:\n",
        "        # Auto-select ARIMA parameters (simple approach)\n",
        "        arima_model = ARIMA(ts_data[target_col].values, order=(1, 1, 1))\n",
        "        arima_fitted = arima_model.fit()\n",
        "        \n",
        "        arima_forecast = arima_fitted.forecast(steps=forecast_periods)\n",
        "        \n",
        "        models['arima'] = arima_fitted\n",
        "        forecasts['arima'] = {\n",
        "            'years': np.arange(ts_data[year_col].max() + 1, \n",
        "                              ts_data[year_col].max() + forecast_periods + 1),\n",
        "            'values': arima_forecast\n",
        "        }\n",
        "        \n",
        "    \n",
        "    except Exception as e:\n",
        "    \n",
        "    # 4. Prophet Model (if available)\n",
        "    if PROPHET_AVAILABLE:\n",
        "        try:\n",
        "            # Prepare Prophet data format\n",
        "            prophet_df = pd.DataFrame({\n",
        "                'ds': pd.to_datetime(ts_data[year_col], format='%Y'),\n",
        "                'y': ts_data[target_col].values\n",
        "            })\n",
        "            \n",
        "            prophet_model = Prophet(\n",
        "                yearly_seasonality=False,\n",
        "                weekly_seasonality=False,\n",
        "                daily_seasonality=False\n",
        "            )\n",
        "            prophet_model.fit(prophet_df)\n",
        "            \n",
        "            # Create future dataframe\n",
        "            future = prophet_model.make_future_dataframe(periods=forecast_periods, freq='Y')\n",
        "            prophet_forecast = prophet_model.predict(future)\n",
        "            \n",
        "            models['prophet'] = prophet_model\n",
        "            forecasts['prophet'] = {\n",
        "                'years': np.arange(ts_data[year_col].max() + 1, \n",
        "                                  ts_data[year_col].max() + forecast_periods + 1),\n",
        "                'values': prophet_forecast['yhat'].tail(forecast_periods).values\n",
        "            }\n",
        "            \n",
        "        \n",
        "        except Exception as e:\n",
        "    \n",
        "    return models, forecasts, ts_data\n",
        "\n",
        "# Build time series models for key metrics\n",
        "ts_models = {}\n",
        "ts_forecasts = {}\n",
        "\n",
        "for target_col, target_name in targets.items():\n",
        "    if target_col in market_df.columns:\n",
        "        models, forecasts, ts_data = build_time_series_models(market_df, target_col)\n",
        "        \n",
        "        if models:\n",
        "            ts_models[target_col] = models\n",
        "            ts_forecasts[target_col] = forecasts\n"
      ]
    },
    {
      "cell_type": "markdown",
      "id": "54e55607",
      "metadata": {},
      "source": [
        "## 4. Machine Learning Models"
      ]
    },
    {
      "cell_type": "code",
      "execution_count": 4,
      "id": "ee79761c",
      "metadata": {},
      "outputs": [
        {
          "name": "stdout",
          "output_type": "stream",
          "text": [
            "\n",
            "🤖 Building ML Models for AI Software Revenue\n",
            "==================================================\n",
            "📊 Data split: Train=5, Test=3\n",
            "   ✅ Linear Regression: R² = 1.000, RMSE = 0.00\n",
            "   ✅ Ridge Regression: R² = 1.000, RMSE = 0.00\n",
            "   ✅ Lasso Regression: R² = 1.000, RMSE = 0.00\n",
            "   ✅ Random Forest: R² = 0.914, RMSE = 4.38\n",
            "   ✅ Gradient Boosting: R² = 1.000, RMSE = 0.00\n",
            "   ✅ Xgboost: R² = 1.000, RMSE = 0.00\n",
            "\n",
            "🤖 Building ML Models for AI Market Value\n",
            "==================================================\n",
            "📊 Data split: Train=5, Test=3\n",
            "   ✅ Linear Regression: R² = 1.000, RMSE = 0.00\n",
            "   ✅ Ridge Regression: R² = 1.000, RMSE = 0.02\n",
            "   ✅ Lasso Regression: R² = 1.000, RMSE = 0.02\n",
            "   ✅ Random Forest: R² = 0.860, RMSE = 15.09\n",
            "   ✅ Gradient Boosting: R² = 1.000, RMSE = 0.00\n",
            "   ✅ Xgboost: R² = 1.000, RMSE = 0.00\n",
            "\n",
            "✅ ML models built for 2 targets\n"
          ]
        }
      ],
      "source": [
        "# Build machine learning models\n",
        "def build_ml_models(X, y, test_size=0.3, random_state=42):\n",
        "    \"\"\"\n",
        "    Build and evaluate multiple ML models\n",
        "    \"\"\"\n",
        "    if len(X) < 5:\n",
        "        return None, None\n",
        "    \n",
        "    # Split data (time series aware)\n",
        "    split_idx = int(len(X) * (1 - test_size))\n",
        "    X_train, X_test = X.iloc[:split_idx], X.iloc[split_idx:]\n",
        "    y_train, y_test = y.iloc[:split_idx], y.iloc[split_idx:]\n",
        "    \n",
        "    \n",
        "    # Define models\n",
        "    models = {\n",
        "        'linear_regression': LinearRegression(),\n",
        "        'ridge_regression': Ridge(alpha=1.0, random_state=random_state),\n",
        "        'lasso_regression': Lasso(alpha=0.1, random_state=random_state),\n",
        "        'random_forest': RandomForestRegressor(n_estimators=100, random_state=random_state),\n",
        "        'gradient_boosting': GradientBoostingRegressor(n_estimators=100, random_state=random_state),\n",
        "        'xgboost': xgb.XGBRegressor(n_estimators=100, random_state=random_state)\n",
        "    }\n",
        "    \n",
        "    # Train and evaluate models\n",
        "    results = {}\n",
        "    trained_models = {}\n",
        "    \n",
        "    for name, model in models.items():\n",
        "        try:\n",
        "            # Train model\n",
        "            model.fit(X_train, y_train)\n",
        "            \n",
        "            # Predictions\n",
        "            y_train_pred = model.predict(X_train)\n",
        "            y_test_pred = model.predict(X_test) if len(X_test) > 0 else np.array([])\n",
        "            \n",
        "            # Metrics\n",
        "            train_r2 = r2_score(y_train, y_train_pred)\n",
        "            train_rmse = np.sqrt(mean_squared_error(y_train, y_train_pred))\n",
        "            train_mae = mean_absolute_error(y_train, y_train_pred)\n",
        "            \n",
        "            result = {\n",
        "                'train_r2': train_r2,\n",
        "                'train_rmse': train_rmse,\n",
        "                'train_mae': train_mae,\n",
        "                'train_pred': y_train_pred,\n",
        "                'test_pred': y_test_pred\n",
        "            }\n",
        "            \n",
        "            if len(X_test) > 0:\n",
        "                test_r2 = r2_score(y_test, y_test_pred)\n",
        "                test_rmse = np.sqrt(mean_squared_error(y_test, y_test_pred))\n",
        "                test_mae = mean_absolute_error(y_test, y_test_pred)\n",
        "                \n",
        "                result.update({\n",
        "                    'test_r2': test_r2,\n",
        "                    'test_rmse': test_rmse,\n",
        "                    'test_mae': test_mae\n",
        "                })\n",
        "            \n",
        "            results[name] = result\n",
        "            trained_models[name] = model\n",
        "            \n",
        "        \n",
        "        except Exception as e:\n",
        "    \n",
        "    return results, trained_models\n",
        "\n",
        "# Build ML models for each target\n",
        "ml_results = {}\n",
        "ml_models = {}\n",
        "\n",
        "for target_col, data in modeling_data.items():\n",
        "    \n",
        "    results, models = build_ml_models(data['X'], data['y'])\n",
        "    \n",
        "    if results:\n",
        "        ml_results[target_col] = results\n",
        "        ml_models[target_col] = models\n"
      ]
    },
    {
      "cell_type": "markdown",
      "id": "550ce057",
      "metadata": {},
      "source": [
        "## 5. Model Comparison and Evaluation"
      ]
    },
    {
      "cell_type": "code",
      "execution_count": 5,
      "id": "c28f119d",
      "metadata": {},
      "outputs": [
        {
          "name": "stdout",
          "output_type": "stream",
          "text": [
            "\n",
            "📊 MODEL PERFORMANCE COMPARISON - AI Software Revenue\n",
            "============================================================\n"
          ]
        },
        {
          "data": {
            "text/html": [
              "<div>\n",
              "<style scoped>\n",
              "    .dataframe tbody tr th:only-of-type {\n",
              "        vertical-align: middle;\n",
              "    }\n",
              "\n",
              "    .dataframe tbody tr th {\n",
              "        vertical-align: top;\n",
              "    }\n",
              "\n",
              "    .dataframe thead th {\n",
              "        text-align: right;\n",
              "    }\n",
              "</style>\n",
              "<table border=\"1\" class=\"dataframe\">\n",
              "  <thead>\n",
              "    <tr style=\"text-align: right;\">\n",
              "      <th></th>\n",
              "      <th>Model</th>\n",
              "      <th>Train_R2</th>\n",
              "      <th>Train_RMSE</th>\n",
              "      <th>Train_MAE</th>\n",
              "      <th>Test_R2</th>\n",
              "      <th>Test_RMSE</th>\n",
              "      <th>Test_MAE</th>\n",
              "    </tr>\n",
              "  </thead>\n",
              "  <tbody>\n",
              "    <tr>\n",
              "      <th>0</th>\n",
              "      <td>Linear Regression</td>\n",
              "      <td>1.000</td>\n",
              "      <td>1.095e-14</td>\n",
              "      <td>7.816e-15</td>\n",
              "      <td>0.390</td>\n",
              "      <td>17.621</td>\n",
              "      <td>16.624</td>\n",
              "    </tr>\n",
              "    <tr>\n",
              "      <th>1</th>\n",
              "      <td>Ridge Regression</td>\n",
              "      <td>1.000</td>\n",
              "      <td>4.755e-05</td>\n",
              "      <td>3.659e-05</td>\n",
              "      <td>0.390</td>\n",
              "      <td>17.620</td>\n",
              "      <td>16.624</td>\n",
              "    </tr>\n",
              "    <tr>\n",
              "      <th>2</th>\n",
              "      <td>Lasso Regression</td>\n",
              "      <td>1.000</td>\n",
              "      <td>2.275e-03</td>\n",
              "      <td>1.989e-03</td>\n",
              "      <td>-92.514</td>\n",
              "      <td>218.156</td>\n",
              "      <td>141.793</td>\n",
              "    </tr>\n",
              "    <tr>\n",
              "      <th>3</th>\n",
              "      <td>Random Forest</td>\n",
              "      <td>0.914</td>\n",
              "      <td>4.375e+00</td>\n",
              "      <td>3.309e+00</td>\n",
              "      <td>-7.892</td>\n",
              "      <td>67.273</td>\n",
              "      <td>62.642</td>\n",
              "    </tr>\n",
              "    <tr>\n",
              "      <th>4</th>\n",
              "      <td>Gradient Boosting</td>\n",
              "      <td>1.000</td>\n",
              "      <td>3.952e-04</td>\n",
              "      <td>3.478e-04</td>\n",
              "      <td>-5.576</td>\n",
              "      <td>57.850</td>\n",
              "      <td>53.097</td>\n",
              "    </tr>\n",
              "    <tr>\n",
              "      <th>5</th>\n",
              "      <td>Xgboost</td>\n",
              "      <td>1.000</td>\n",
              "      <td>6.559e-04</td>\n",
              "      <td>4.485e-04</td>\n",
              "      <td>-4.130</td>\n",
              "      <td>51.097</td>\n",
              "      <td>45.848</td>\n",
              "    </tr>\n",
              "  </tbody>\n",
              "</table>\n",
              "</div>"
            ],
            "text/plain": [
              "               Model  Train_R2  Train_RMSE  Train_MAE  Test_R2  Test_RMSE  \\\n",
              "0  Linear Regression     1.000   1.095e-14  7.816e-15    0.390     17.621   \n",
              "1   Ridge Regression     1.000   4.755e-05  3.659e-05    0.390     17.620   \n",
              "2   Lasso Regression     1.000   2.275e-03  1.989e-03  -92.514    218.156   \n",
              "3      Random Forest     0.914   4.375e+00  3.309e+00   -7.892     67.273   \n",
              "4  Gradient Boosting     1.000   3.952e-04  3.478e-04   -5.576     57.850   \n",
              "5            Xgboost     1.000   6.559e-04  4.485e-04   -4.130     51.097   \n",
              "\n",
              "   Test_MAE  \n",
              "0    16.624  \n",
              "1    16.624  \n",
              "2   141.793  \n",
              "3    62.642  \n",
              "4    53.097  \n",
              "5    45.848  "
            ]
          },
          "metadata": {},
          "output_type": "display_data"
        },
        {
          "name": "stdout",
          "output_type": "stream",
          "text": [
            "\n",
            "🏆 Best Model: Linear Regression (R² = 1.000)\n"
          ]
        },
        {
          "data": {
            "application/vnd.plotly.v1+json": {
              "config": {
                "plotlyServerURL": "https://plot.ly"
              },
              "data": [
                {
                  "marker": {
                    "color": "lightblue"
                  },
                  "name": "Training R²",
                  "type": "bar",
                  "x": [
                    "Linear Regression",
                    "Ridge Regression",
                    "Lasso Regression",
                    "Random Forest",
                    "Gradient Boosting",
                    "Xgboost"
                  ],
                  "y": {
                    "bdata": "AAAAAAAA8D/GmP7////vP2RjdPP//+8/UM58W7M77T8mCZ/////vPzr79P7//+8/",
                    "dtype": "f8"
                  }
                },
                {
                  "marker": {
                    "color": "lightcoral"
                  },
                  "name": "Testing R²",
                  "type": "bar",
                  "x": [
                    "Linear Regression",
                    "Ridge Regression",
                    "Lasso Regression",
                    "Random Forest",
                    "Gradient Boosting",
                    "Xgboost"
                  ],
                  "y": {
                    "bdata": "iG7Jm3f02D+mKfbC1vTYP2M8Uo/fIFfABGoJF+SRH8A2Z4+5qk0WwBZJVMRjhRDA",
                    "dtype": "f8"
                  }
                }
              ],
              "layout": {
                "height": 500,
                "template": {
                  "data": {
                    "bar": [
                      {
                        "error_x": {
                          "color": "#2a3f5f"
                        },
                        "error_y": {
                          "color": "#2a3f5f"
                        },
                        "marker": {
                          "line": {
                            "color": "#E5ECF6",
                            "width": 0.5
                          },
                          "pattern": {
                            "fillmode": "overlay",
                            "size": 10,
                            "solidity": 0.2
                          }
                        },
                        "type": "bar"
                      }
                    ],
                    "barpolar": [
                      {
                        "marker": {
                          "line": {
                            "color": "#E5ECF6",
                            "width": 0.5
                          },
                          "pattern": {
                            "fillmode": "overlay",
                            "size": 10,
                            "solidity": 0.2
                          }
                        },
                        "type": "barpolar"
                      }
                    ],
                    "carpet": [
                      {
                        "aaxis": {
                          "endlinecolor": "#2a3f5f",
                          "gridcolor": "white",
                          "linecolor": "white",
                          "minorgridcolor": "white",
                          "startlinecolor": "#2a3f5f"
                        },
                        "baxis": {
                          "endlinecolor": "#2a3f5f",
                          "gridcolor": "white",
                          "linecolor": "white",
                          "minorgridcolor": "white",
                          "startlinecolor": "#2a3f5f"
                        },
                        "type": "carpet"
                      }
                    ],
                    "choropleth": [
                      {
                        "colorbar": {
                          "outlinewidth": 0,
                          "ticks": ""
                        },
                        "type": "choropleth"
                      }
                    ],
                    "contour": [
                      {
                        "colorbar": {
                          "outlinewidth": 0,
                          "ticks": ""
                        },
                        "colorscale": [
                          [
                            0,
                            "#0d0887"
                          ],
                          [
                            0.1111111111111111,
                            "#46039f"
                          ],
                          [
                            0.2222222222222222,
                            "#7201a8"
                          ],
                          [
                            0.3333333333333333,
                            "#9c179e"
                          ],
                          [
                            0.4444444444444444,
                            "#bd3786"
                          ],
                          [
                            0.5555555555555556,
                            "#d8576b"
                          ],
                          [
                            0.6666666666666666,
                            "#ed7953"
                          ],
                          [
                            0.7777777777777778,
                            "#fb9f3a"
                          ],
                          [
                            0.8888888888888888,
                            "#fdca26"
                          ],
                          [
                            1,
                            "#f0f921"
                          ]
                        ],
                        "type": "contour"
                      }
                    ],
                    "contourcarpet": [
                      {
                        "colorbar": {
                          "outlinewidth": 0,
                          "ticks": ""
                        },
                        "type": "contourcarpet"
                      }
                    ],
                    "heatmap": [
                      {
                        "colorbar": {
                          "outlinewidth": 0,
                          "ticks": ""
                        },
                        "colorscale": [
                          [
                            0,
                            "#0d0887"
                          ],
                          [
                            0.1111111111111111,
                            "#46039f"
                          ],
                          [
                            0.2222222222222222,
                            "#7201a8"
                          ],
                          [
                            0.3333333333333333,
                            "#9c179e"
                          ],
                          [
                            0.4444444444444444,
                            "#bd3786"
                          ],
                          [
                            0.5555555555555556,
                            "#d8576b"
                          ],
                          [
                            0.6666666666666666,
                            "#ed7953"
                          ],
                          [
                            0.7777777777777778,
                            "#fb9f3a"
                          ],
                          [
                            0.8888888888888888,
                            "#fdca26"
                          ],
                          [
                            1,
                            "#f0f921"
                          ]
                        ],
                        "type": "heatmap"
                      }
                    ],
                    "histogram": [
                      {
                        "marker": {
                          "pattern": {
                            "fillmode": "overlay",
                            "size": 10,
                            "solidity": 0.2
                          }
                        },
                        "type": "histogram"
                      }
                    ],
                    "histogram2d": [
                      {
                        "colorbar": {
                          "outlinewidth": 0,
                          "ticks": ""
                        },
                        "colorscale": [
                          [
                            0,
                            "#0d0887"
                          ],
                          [
                            0.1111111111111111,
                            "#46039f"
                          ],
                          [
                            0.2222222222222222,
                            "#7201a8"
                          ],
                          [
                            0.3333333333333333,
                            "#9c179e"
                          ],
                          [
                            0.4444444444444444,
                            "#bd3786"
                          ],
                          [
                            0.5555555555555556,
                            "#d8576b"
                          ],
                          [
                            0.6666666666666666,
                            "#ed7953"
                          ],
                          [
                            0.7777777777777778,
                            "#fb9f3a"
                          ],
                          [
                            0.8888888888888888,
                            "#fdca26"
                          ],
                          [
                            1,
                            "#f0f921"
                          ]
                        ],
                        "type": "histogram2d"
                      }
                    ],
                    "histogram2dcontour": [
                      {
                        "colorbar": {
                          "outlinewidth": 0,
                          "ticks": ""
                        },
                        "colorscale": [
                          [
                            0,
                            "#0d0887"
                          ],
                          [
                            0.1111111111111111,
                            "#46039f"
                          ],
                          [
                            0.2222222222222222,
                            "#7201a8"
                          ],
                          [
                            0.3333333333333333,
                            "#9c179e"
                          ],
                          [
                            0.4444444444444444,
                            "#bd3786"
                          ],
                          [
                            0.5555555555555556,
                            "#d8576b"
                          ],
                          [
                            0.6666666666666666,
                            "#ed7953"
                          ],
                          [
                            0.7777777777777778,
                            "#fb9f3a"
                          ],
                          [
                            0.8888888888888888,
                            "#fdca26"
                          ],
                          [
                            1,
                            "#f0f921"
                          ]
                        ],
                        "type": "histogram2dcontour"
                      }
                    ],
                    "mesh3d": [
                      {
                        "colorbar": {
                          "outlinewidth": 0,
                          "ticks": ""
                        },
                        "type": "mesh3d"
                      }
                    ],
                    "parcoords": [
                      {
                        "line": {
                          "colorbar": {
                            "outlinewidth": 0,
                            "ticks": ""
                          }
                        },
                        "type": "parcoords"
                      }
                    ],
                    "pie": [
                      {
                        "automargin": true,
                        "type": "pie"
                      }
                    ],
                    "scatter": [
                      {
                        "fillpattern": {
                          "fillmode": "overlay",
                          "size": 10,
                          "solidity": 0.2
                        },
                        "type": "scatter"
                      }
                    ],
                    "scatter3d": [
                      {
                        "line": {
                          "colorbar": {
                            "outlinewidth": 0,
                            "ticks": ""
                          }
                        },
                        "marker": {
                          "colorbar": {
                            "outlinewidth": 0,
                            "ticks": ""
                          }
                        },
                        "type": "scatter3d"
                      }
                    ],
                    "scattercarpet": [
                      {
                        "marker": {
                          "colorbar": {
                            "outlinewidth": 0,
                            "ticks": ""
                          }
                        },
                        "type": "scattercarpet"
                      }
                    ],
                    "scattergeo": [
                      {
                        "marker": {
                          "colorbar": {
                            "outlinewidth": 0,
                            "ticks": ""
                          }
                        },
                        "type": "scattergeo"
                      }
                    ],
                    "scattergl": [
                      {
                        "marker": {
                          "colorbar": {
                            "outlinewidth": 0,
                            "ticks": ""
                          }
                        },
                        "type": "scattergl"
                      }
                    ],
                    "scattermap": [
                      {
                        "marker": {
                          "colorbar": {
                            "outlinewidth": 0,
                            "ticks": ""
                          }
                        },
                        "type": "scattermap"
                      }
                    ],
                    "scattermapbox": [
                      {
                        "marker": {
                          "colorbar": {
                            "outlinewidth": 0,
                            "ticks": ""
                          }
                        },
                        "type": "scattermapbox"
                      }
                    ],
                    "scatterpolar": [
                      {
                        "marker": {
                          "colorbar": {
                            "outlinewidth": 0,
                            "ticks": ""
                          }
                        },
                        "type": "scatterpolar"
                      }
                    ],
                    "scatterpolargl": [
                      {
                        "marker": {
                          "colorbar": {
                            "outlinewidth": 0,
                            "ticks": ""
                          }
                        },
                        "type": "scatterpolargl"
                      }
                    ],
                    "scatterternary": [
                      {
                        "marker": {
                          "colorbar": {
                            "outlinewidth": 0,
                            "ticks": ""
                          }
                        },
                        "type": "scatterternary"
                      }
                    ],
                    "surface": [
                      {
                        "colorbar": {
                          "outlinewidth": 0,
                          "ticks": ""
                        },
                        "colorscale": [
                          [
                            0,
                            "#0d0887"
                          ],
                          [
                            0.1111111111111111,
                            "#46039f"
                          ],
                          [
                            0.2222222222222222,
                            "#7201a8"
                          ],
                          [
                            0.3333333333333333,
                            "#9c179e"
                          ],
                          [
                            0.4444444444444444,
                            "#bd3786"
                          ],
                          [
                            0.5555555555555556,
                            "#d8576b"
                          ],
                          [
                            0.6666666666666666,
                            "#ed7953"
                          ],
                          [
                            0.7777777777777778,
                            "#fb9f3a"
                          ],
                          [
                            0.8888888888888888,
                            "#fdca26"
                          ],
                          [
                            1,
                            "#f0f921"
                          ]
                        ],
                        "type": "surface"
                      }
                    ],
                    "table": [
                      {
                        "cells": {
                          "fill": {
                            "color": "#EBF0F8"
                          },
                          "line": {
                            "color": "white"
                          }
                        },
                        "header": {
                          "fill": {
                            "color": "#C8D4E3"
                          },
                          "line": {
                            "color": "white"
                          }
                        },
                        "type": "table"
                      }
                    ]
                  },
                  "layout": {
                    "annotationdefaults": {
                      "arrowcolor": "#2a3f5f",
                      "arrowhead": 0,
                      "arrowwidth": 1
                    },
                    "autotypenumbers": "strict",
                    "coloraxis": {
                      "colorbar": {
                        "outlinewidth": 0,
                        "ticks": ""
                      }
                    },
                    "colorscale": {
                      "diverging": [
                        [
                          0,
                          "#8e0152"
                        ],
                        [
                          0.1,
                          "#c51b7d"
                        ],
                        [
                          0.2,
                          "#de77ae"
                        ],
                        [
                          0.3,
                          "#f1b6da"
                        ],
                        [
                          0.4,
                          "#fde0ef"
                        ],
                        [
                          0.5,
                          "#f7f7f7"
                        ],
                        [
                          0.6,
                          "#e6f5d0"
                        ],
                        [
                          0.7,
                          "#b8e186"
                        ],
                        [
                          0.8,
                          "#7fbc41"
                        ],
                        [
                          0.9,
                          "#4d9221"
                        ],
                        [
                          1,
                          "#276419"
                        ]
                      ],
                      "sequential": [
                        [
                          0,
                          "#0d0887"
                        ],
                        [
                          0.1111111111111111,
                          "#46039f"
                        ],
                        [
                          0.2222222222222222,
                          "#7201a8"
                        ],
                        [
                          0.3333333333333333,
                          "#9c179e"
                        ],
                        [
                          0.4444444444444444,
                          "#bd3786"
                        ],
                        [
                          0.5555555555555556,
                          "#d8576b"
                        ],
                        [
                          0.6666666666666666,
                          "#ed7953"
                        ],
                        [
                          0.7777777777777778,
                          "#fb9f3a"
                        ],
                        [
                          0.8888888888888888,
                          "#fdca26"
                        ],
                        [
                          1,
                          "#f0f921"
                        ]
                      ],
                      "sequentialminus": [
                        [
                          0,
                          "#0d0887"
                        ],
                        [
                          0.1111111111111111,
                          "#46039f"
                        ],
                        [
                          0.2222222222222222,
                          "#7201a8"
                        ],
                        [
                          0.3333333333333333,
                          "#9c179e"
                        ],
                        [
                          0.4444444444444444,
                          "#bd3786"
                        ],
                        [
                          0.5555555555555556,
                          "#d8576b"
                        ],
                        [
                          0.6666666666666666,
                          "#ed7953"
                        ],
                        [
                          0.7777777777777778,
                          "#fb9f3a"
                        ],
                        [
                          0.8888888888888888,
                          "#fdca26"
                        ],
                        [
                          1,
                          "#f0f921"
                        ]
                      ]
                    },
                    "colorway": [
                      "#636efa",
                      "#EF553B",
                      "#00cc96",
                      "#ab63fa",
                      "#FFA15A",
                      "#19d3f3",
                      "#FF6692",
                      "#B6E880",
                      "#FF97FF",
                      "#FECB52"
                    ],
                    "font": {
                      "color": "#2a3f5f"
                    },
                    "geo": {
                      "bgcolor": "white",
                      "lakecolor": "white",
                      "landcolor": "#E5ECF6",
                      "showlakes": true,
                      "showland": true,
                      "subunitcolor": "white"
                    },
                    "hoverlabel": {
                      "align": "left"
                    },
                    "hovermode": "closest",
                    "mapbox": {
                      "style": "light"
                    },
                    "paper_bgcolor": "white",
                    "plot_bgcolor": "#E5ECF6",
                    "polar": {
                      "angularaxis": {
                        "gridcolor": "white",
                        "linecolor": "white",
                        "ticks": ""
                      },
                      "bgcolor": "#E5ECF6",
                      "radialaxis": {
                        "gridcolor": "white",
                        "linecolor": "white",
                        "ticks": ""
                      }
                    },
                    "scene": {
                      "xaxis": {
                        "backgroundcolor": "#E5ECF6",
                        "gridcolor": "white",
                        "gridwidth": 2,
                        "linecolor": "white",
                        "showbackground": true,
                        "ticks": "",
                        "zerolinecolor": "white"
                      },
                      "yaxis": {
                        "backgroundcolor": "#E5ECF6",
                        "gridcolor": "white",
                        "gridwidth": 2,
                        "linecolor": "white",
                        "showbackground": true,
                        "ticks": "",
                        "zerolinecolor": "white"
                      },
                      "zaxis": {
                        "backgroundcolor": "#E5ECF6",
                        "gridcolor": "white",
                        "gridwidth": 2,
                        "linecolor": "white",
                        "showbackground": true,
                        "ticks": "",
                        "zerolinecolor": "white"
                      }
                    },
                    "shapedefaults": {
                      "line": {
                        "color": "#2a3f5f"
                      }
                    },
                    "ternary": {
                      "aaxis": {
                        "gridcolor": "white",
                        "linecolor": "white",
                        "ticks": ""
                      },
                      "baxis": {
                        "gridcolor": "white",
                        "linecolor": "white",
                        "ticks": ""
                      },
                      "bgcolor": "#E5ECF6",
                      "caxis": {
                        "gridcolor": "white",
                        "linecolor": "white",
                        "ticks": ""
                      }
                    },
                    "title": {
                      "x": 0.05
                    },
                    "xaxis": {
                      "automargin": true,
                      "gridcolor": "white",
                      "linecolor": "white",
                      "ticks": "",
                      "title": {
                        "standoff": 15
                      },
                      "zerolinecolor": "white",
                      "zerolinewidth": 2
                    },
                    "yaxis": {
                      "automargin": true,
                      "gridcolor": "white",
                      "linecolor": "white",
                      "ticks": "",
                      "title": {
                        "standoff": 15
                      },
                      "zerolinecolor": "white",
                      "zerolinewidth": 2
                    }
                  }
                },
                "title": {
                  "text": "Model Performance Comparison - AI Software Revenue"
                },
                "xaxis": {
                  "title": {
                    "text": "Model"
                  }
                },
                "yaxis": {
                  "title": {
                    "text": "R² Score"
                  }
                }
              }
            }
          },
          "metadata": {},
          "output_type": "display_data"
        },
        {
          "name": "stdout",
          "output_type": "stream",
          "text": [
            "\n",
            "📊 MODEL PERFORMANCE COMPARISON - AI Market Value\n",
            "============================================================\n"
          ]
        },
        {
          "data": {
            "text/html": [
              "<div>\n",
              "<style scoped>\n",
              "    .dataframe tbody tr th:only-of-type {\n",
              "        vertical-align: middle;\n",
              "    }\n",
              "\n",
              "    .dataframe tbody tr th {\n",
              "        vertical-align: top;\n",
              "    }\n",
              "\n",
              "    .dataframe thead th {\n",
              "        text-align: right;\n",
              "    }\n",
              "</style>\n",
              "<table border=\"1\" class=\"dataframe\">\n",
              "  <thead>\n",
              "    <tr style=\"text-align: right;\">\n",
              "      <th></th>\n",
              "      <th>Model</th>\n",
              "      <th>Train_R2</th>\n",
              "      <th>Train_RMSE</th>\n",
              "      <th>Train_MAE</th>\n",
              "      <th>Test_R2</th>\n",
              "      <th>Test_RMSE</th>\n",
              "      <th>Test_MAE</th>\n",
              "    </tr>\n",
              "  </thead>\n",
              "  <tbody>\n",
              "    <tr>\n",
              "      <th>0</th>\n",
              "      <td>Linear Regression</td>\n",
              "      <td>1.00</td>\n",
              "      <td>3.750e-14</td>\n",
              "      <td>2.629e-14</td>\n",
              "      <td>-0.170</td>\n",
              "      <td>751.770</td>\n",
              "      <td>490.663</td>\n",
              "    </tr>\n",
              "    <tr>\n",
              "      <th>1</th>\n",
              "      <td>Ridge Regression</td>\n",
              "      <td>1.00</td>\n",
              "      <td>1.584e-02</td>\n",
              "      <td>1.234e-02</td>\n",
              "      <td>-0.170</td>\n",
              "      <td>751.831</td>\n",
              "      <td>490.731</td>\n",
              "    </tr>\n",
              "    <tr>\n",
              "      <th>2</th>\n",
              "      <td>Lasso Regression</td>\n",
              "      <td>1.00</td>\n",
              "      <td>1.678e-02</td>\n",
              "      <td>1.337e-02</td>\n",
              "      <td>-0.380</td>\n",
              "      <td>816.463</td>\n",
              "      <td>531.413</td>\n",
              "    </tr>\n",
              "    <tr>\n",
              "      <th>3</th>\n",
              "      <td>Random Forest</td>\n",
              "      <td>0.86</td>\n",
              "      <td>1.509e+01</td>\n",
              "      <td>1.156e+01</td>\n",
              "      <td>-1.127</td>\n",
              "      <td>1013.660</td>\n",
              "      <td>736.287</td>\n",
              "    </tr>\n",
              "    <tr>\n",
              "      <th>4</th>\n",
              "      <td>Gradient Boosting</td>\n",
              "      <td>1.00</td>\n",
              "      <td>1.079e-03</td>\n",
              "      <td>8.415e-04</td>\n",
              "      <td>-1.033</td>\n",
              "      <td>990.922</td>\n",
              "      <td>704.526</td>\n",
              "    </tr>\n",
              "    <tr>\n",
              "      <th>5</th>\n",
              "      <td>Xgboost</td>\n",
              "      <td>1.00</td>\n",
              "      <td>6.827e-04</td>\n",
              "      <td>4.570e-04</td>\n",
              "      <td>-0.985</td>\n",
              "      <td>979.086</td>\n",
              "      <td>689.668</td>\n",
              "    </tr>\n",
              "  </tbody>\n",
              "</table>\n",
              "</div>"
            ],
            "text/plain": [
              "               Model  Train_R2  Train_RMSE  Train_MAE  Test_R2  Test_RMSE  \\\n",
              "0  Linear Regression      1.00   3.750e-14  2.629e-14   -0.170    751.770   \n",
              "1   Ridge Regression      1.00   1.584e-02  1.234e-02   -0.170    751.831   \n",
              "2   Lasso Regression      1.00   1.678e-02  1.337e-02   -0.380    816.463   \n",
              "3      Random Forest      0.86   1.509e+01  1.156e+01   -1.127   1013.660   \n",
              "4  Gradient Boosting      1.00   1.079e-03  8.415e-04   -1.033    990.922   \n",
              "5            Xgboost      1.00   6.827e-04  4.570e-04   -0.985    979.086   \n",
              "\n",
              "   Test_MAE  \n",
              "0   490.663  \n",
              "1   490.731  \n",
              "2   531.413  \n",
              "3   736.287  \n",
              "4   704.526  \n",
              "5   689.668  "
            ]
          },
          "metadata": {},
          "output_type": "display_data"
        },
        {
          "name": "stdout",
          "output_type": "stream",
          "text": [
            "\n",
            "🏆 Best Model: Linear Regression (R² = 1.000)\n"
          ]
        },
        {
          "data": {
            "application/vnd.plotly.v1+json": {
              "config": {
                "plotlyServerURL": "https://plot.ly"
              },
              "data": [
                {
                  "marker": {
                    "color": "lightblue"
                  },
                  "name": "Training R²",
                  "type": "bar",
                  "x": [
                    "Linear Regression",
                    "Ridge Regression",
                    "Lasso Regression",
                    "Random Forest",
                    "Gradient Boosting",
                    "Xgboost"
                  ],
                  "y": {
                    "bdata": "AAAAAAAA8D8R5oSt///vPylfb6P//+8/qCWySQSJ6z9GB57////vP+DD2P///+8/",
                    "dtype": "f8"
                  }
                },
                {
                  "marker": {
                    "color": "lightcoral"
                  },
                  "name": "Testing R²",
                  "type": "bar",
                  "x": [
                    "Linear Regression",
                    "Ridge Regression",
                    "Lasso Regression",
                    "Random Forest",
                    "Gradient Boosting",
                    "Xgboost"
                  ],
                  "y": {
                    "bdata": "eJgN83nIxb/IKUcfpc7FvwglkebjVdi/Cm1z8DEK8r88h2L7oIfwv6zqU/S/g++/",
                    "dtype": "f8"
                  }
                }
              ],
              "layout": {
                "height": 500,
                "template": {
                  "data": {
                    "bar": [
                      {
                        "error_x": {
                          "color": "#2a3f5f"
                        },
                        "error_y": {
                          "color": "#2a3f5f"
                        },
                        "marker": {
                          "line": {
                            "color": "#E5ECF6",
                            "width": 0.5
                          },
                          "pattern": {
                            "fillmode": "overlay",
                            "size": 10,
                            "solidity": 0.2
                          }
                        },
                        "type": "bar"
                      }
                    ],
                    "barpolar": [
                      {
                        "marker": {
                          "line": {
                            "color": "#E5ECF6",
                            "width": 0.5
                          },
                          "pattern": {
                            "fillmode": "overlay",
                            "size": 10,
                            "solidity": 0.2
                          }
                        },
                        "type": "barpolar"
                      }
                    ],
                    "carpet": [
                      {
                        "aaxis": {
                          "endlinecolor": "#2a3f5f",
                          "gridcolor": "white",
                          "linecolor": "white",
                          "minorgridcolor": "white",
                          "startlinecolor": "#2a3f5f"
                        },
                        "baxis": {
                          "endlinecolor": "#2a3f5f",
                          "gridcolor": "white",
                          "linecolor": "white",
                          "minorgridcolor": "white",
                          "startlinecolor": "#2a3f5f"
                        },
                        "type": "carpet"
                      }
                    ],
                    "choropleth": [
                      {
                        "colorbar": {
                          "outlinewidth": 0,
                          "ticks": ""
                        },
                        "type": "choropleth"
                      }
                    ],
                    "contour": [
                      {
                        "colorbar": {
                          "outlinewidth": 0,
                          "ticks": ""
                        },
                        "colorscale": [
                          [
                            0,
                            "#0d0887"
                          ],
                          [
                            0.1111111111111111,
                            "#46039f"
                          ],
                          [
                            0.2222222222222222,
                            "#7201a8"
                          ],
                          [
                            0.3333333333333333,
                            "#9c179e"
                          ],
                          [
                            0.4444444444444444,
                            "#bd3786"
                          ],
                          [
                            0.5555555555555556,
                            "#d8576b"
                          ],
                          [
                            0.6666666666666666,
                            "#ed7953"
                          ],
                          [
                            0.7777777777777778,
                            "#fb9f3a"
                          ],
                          [
                            0.8888888888888888,
                            "#fdca26"
                          ],
                          [
                            1,
                            "#f0f921"
                          ]
                        ],
                        "type": "contour"
                      }
                    ],
                    "contourcarpet": [
                      {
                        "colorbar": {
                          "outlinewidth": 0,
                          "ticks": ""
                        },
                        "type": "contourcarpet"
                      }
                    ],
                    "heatmap": [
                      {
                        "colorbar": {
                          "outlinewidth": 0,
                          "ticks": ""
                        },
                        "colorscale": [
                          [
                            0,
                            "#0d0887"
                          ],
                          [
                            0.1111111111111111,
                            "#46039f"
                          ],
                          [
                            0.2222222222222222,
                            "#7201a8"
                          ],
                          [
                            0.3333333333333333,
                            "#9c179e"
                          ],
                          [
                            0.4444444444444444,
                            "#bd3786"
                          ],
                          [
                            0.5555555555555556,
                            "#d8576b"
                          ],
                          [
                            0.6666666666666666,
                            "#ed7953"
                          ],
                          [
                            0.7777777777777778,
                            "#fb9f3a"
                          ],
                          [
                            0.8888888888888888,
                            "#fdca26"
                          ],
                          [
                            1,
                            "#f0f921"
                          ]
                        ],
                        "type": "heatmap"
                      }
                    ],
                    "histogram": [
                      {
                        "marker": {
                          "pattern": {
                            "fillmode": "overlay",
                            "size": 10,
                            "solidity": 0.2
                          }
                        },
                        "type": "histogram"
                      }
                    ],
                    "histogram2d": [
                      {
                        "colorbar": {
                          "outlinewidth": 0,
                          "ticks": ""
                        },
                        "colorscale": [
                          [
                            0,
                            "#0d0887"
                          ],
                          [
                            0.1111111111111111,
                            "#46039f"
                          ],
                          [
                            0.2222222222222222,
                            "#7201a8"
                          ],
                          [
                            0.3333333333333333,
                            "#9c179e"
                          ],
                          [
                            0.4444444444444444,
                            "#bd3786"
                          ],
                          [
                            0.5555555555555556,
                            "#d8576b"
                          ],
                          [
                            0.6666666666666666,
                            "#ed7953"
                          ],
                          [
                            0.7777777777777778,
                            "#fb9f3a"
                          ],
                          [
                            0.8888888888888888,
                            "#fdca26"
                          ],
                          [
                            1,
                            "#f0f921"
                          ]
                        ],
                        "type": "histogram2d"
                      }
                    ],
                    "histogram2dcontour": [
                      {
                        "colorbar": {
                          "outlinewidth": 0,
                          "ticks": ""
                        },
                        "colorscale": [
                          [
                            0,
                            "#0d0887"
                          ],
                          [
                            0.1111111111111111,
                            "#46039f"
                          ],
                          [
                            0.2222222222222222,
                            "#7201a8"
                          ],
                          [
                            0.3333333333333333,
                            "#9c179e"
                          ],
                          [
                            0.4444444444444444,
                            "#bd3786"
                          ],
                          [
                            0.5555555555555556,
                            "#d8576b"
                          ],
                          [
                            0.6666666666666666,
                            "#ed7953"
                          ],
                          [
                            0.7777777777777778,
                            "#fb9f3a"
                          ],
                          [
                            0.8888888888888888,
                            "#fdca26"
                          ],
                          [
                            1,
                            "#f0f921"
                          ]
                        ],
                        "type": "histogram2dcontour"
                      }
                    ],
                    "mesh3d": [
                      {
                        "colorbar": {
                          "outlinewidth": 0,
                          "ticks": ""
                        },
                        "type": "mesh3d"
                      }
                    ],
                    "parcoords": [
                      {
                        "line": {
                          "colorbar": {
                            "outlinewidth": 0,
                            "ticks": ""
                          }
                        },
                        "type": "parcoords"
                      }
                    ],
                    "pie": [
                      {
                        "automargin": true,
                        "type": "pie"
                      }
                    ],
                    "scatter": [
                      {
                        "fillpattern": {
                          "fillmode": "overlay",
                          "size": 10,
                          "solidity": 0.2
                        },
                        "type": "scatter"
                      }
                    ],
                    "scatter3d": [
                      {
                        "line": {
                          "colorbar": {
                            "outlinewidth": 0,
                            "ticks": ""
                          }
                        },
                        "marker": {
                          "colorbar": {
                            "outlinewidth": 0,
                            "ticks": ""
                          }
                        },
                        "type": "scatter3d"
                      }
                    ],
                    "scattercarpet": [
                      {
                        "marker": {
                          "colorbar": {
                            "outlinewidth": 0,
                            "ticks": ""
                          }
                        },
                        "type": "scattercarpet"
                      }
                    ],
                    "scattergeo": [
                      {
                        "marker": {
                          "colorbar": {
                            "outlinewidth": 0,
                            "ticks": ""
                          }
                        },
                        "type": "scattergeo"
                      }
                    ],
                    "scattergl": [
                      {
                        "marker": {
                          "colorbar": {
                            "outlinewidth": 0,
                            "ticks": ""
                          }
                        },
                        "type": "scattergl"
                      }
                    ],
                    "scattermap": [
                      {
                        "marker": {
                          "colorbar": {
                            "outlinewidth": 0,
                            "ticks": ""
                          }
                        },
                        "type": "scattermap"
                      }
                    ],
                    "scattermapbox": [
                      {
                        "marker": {
                          "colorbar": {
                            "outlinewidth": 0,
                            "ticks": ""
                          }
                        },
                        "type": "scattermapbox"
                      }
                    ],
                    "scatterpolar": [
                      {
                        "marker": {
                          "colorbar": {
                            "outlinewidth": 0,
                            "ticks": ""
                          }
                        },
                        "type": "scatterpolar"
                      }
                    ],
                    "scatterpolargl": [
                      {
                        "marker": {
                          "colorbar": {
                            "outlinewidth": 0,
                            "ticks": ""
                          }
                        },
                        "type": "scatterpolargl"
                      }
                    ],
                    "scatterternary": [
                      {
                        "marker": {
                          "colorbar": {
                            "outlinewidth": 0,
                            "ticks": ""
                          }
                        },
                        "type": "scatterternary"
                      }
                    ],
                    "surface": [
                      {
                        "colorbar": {
                          "outlinewidth": 0,
                          "ticks": ""
                        },
                        "colorscale": [
                          [
                            0,
                            "#0d0887"
                          ],
                          [
                            0.1111111111111111,
                            "#46039f"
                          ],
                          [
                            0.2222222222222222,
                            "#7201a8"
                          ],
                          [
                            0.3333333333333333,
                            "#9c179e"
                          ],
                          [
                            0.4444444444444444,
                            "#bd3786"
                          ],
                          [
                            0.5555555555555556,
                            "#d8576b"
                          ],
                          [
                            0.6666666666666666,
                            "#ed7953"
                          ],
                          [
                            0.7777777777777778,
                            "#fb9f3a"
                          ],
                          [
                            0.8888888888888888,
                            "#fdca26"
                          ],
                          [
                            1,
                            "#f0f921"
                          ]
                        ],
                        "type": "surface"
                      }
                    ],
                    "table": [
                      {
                        "cells": {
                          "fill": {
                            "color": "#EBF0F8"
                          },
                          "line": {
                            "color": "white"
                          }
                        },
                        "header": {
                          "fill": {
                            "color": "#C8D4E3"
                          },
                          "line": {
                            "color": "white"
                          }
                        },
                        "type": "table"
                      }
                    ]
                  },
                  "layout": {
                    "annotationdefaults": {
                      "arrowcolor": "#2a3f5f",
                      "arrowhead": 0,
                      "arrowwidth": 1
                    },
                    "autotypenumbers": "strict",
                    "coloraxis": {
                      "colorbar": {
                        "outlinewidth": 0,
                        "ticks": ""
                      }
                    },
                    "colorscale": {
                      "diverging": [
                        [
                          0,
                          "#8e0152"
                        ],
                        [
                          0.1,
                          "#c51b7d"
                        ],
                        [
                          0.2,
                          "#de77ae"
                        ],
                        [
                          0.3,
                          "#f1b6da"
                        ],
                        [
                          0.4,
                          "#fde0ef"
                        ],
                        [
                          0.5,
                          "#f7f7f7"
                        ],
                        [
                          0.6,
                          "#e6f5d0"
                        ],
                        [
                          0.7,
                          "#b8e186"
                        ],
                        [
                          0.8,
                          "#7fbc41"
                        ],
                        [
                          0.9,
                          "#4d9221"
                        ],
                        [
                          1,
                          "#276419"
                        ]
                      ],
                      "sequential": [
                        [
                          0,
                          "#0d0887"
                        ],
                        [
                          0.1111111111111111,
                          "#46039f"
                        ],
                        [
                          0.2222222222222222,
                          "#7201a8"
                        ],
                        [
                          0.3333333333333333,
                          "#9c179e"
                        ],
                        [
                          0.4444444444444444,
                          "#bd3786"
                        ],
                        [
                          0.5555555555555556,
                          "#d8576b"
                        ],
                        [
                          0.6666666666666666,
                          "#ed7953"
                        ],
                        [
                          0.7777777777777778,
                          "#fb9f3a"
                        ],
                        [
                          0.8888888888888888,
                          "#fdca26"
                        ],
                        [
                          1,
                          "#f0f921"
                        ]
                      ],
                      "sequentialminus": [
                        [
                          0,
                          "#0d0887"
                        ],
                        [
                          0.1111111111111111,
                          "#46039f"
                        ],
                        [
                          0.2222222222222222,
                          "#7201a8"
                        ],
                        [
                          0.3333333333333333,
                          "#9c179e"
                        ],
                        [
                          0.4444444444444444,
                          "#bd3786"
                        ],
                        [
                          0.5555555555555556,
                          "#d8576b"
                        ],
                        [
                          0.6666666666666666,
                          "#ed7953"
                        ],
                        [
                          0.7777777777777778,
                          "#fb9f3a"
                        ],
                        [
                          0.8888888888888888,
                          "#fdca26"
                        ],
                        [
                          1,
                          "#f0f921"
                        ]
                      ]
                    },
                    "colorway": [
                      "#636efa",
                      "#EF553B",
                      "#00cc96",
                      "#ab63fa",
                      "#FFA15A",
                      "#19d3f3",
                      "#FF6692",
                      "#B6E880",
                      "#FF97FF",
                      "#FECB52"
                    ],
                    "font": {
                      "color": "#2a3f5f"
                    },
                    "geo": {
                      "bgcolor": "white",
                      "lakecolor": "white",
                      "landcolor": "#E5ECF6",
                      "showlakes": true,
                      "showland": true,
                      "subunitcolor": "white"
                    },
                    "hoverlabel": {
                      "align": "left"
                    },
                    "hovermode": "closest",
                    "mapbox": {
                      "style": "light"
                    },
                    "paper_bgcolor": "white",
                    "plot_bgcolor": "#E5ECF6",
                    "polar": {
                      "angularaxis": {
                        "gridcolor": "white",
                        "linecolor": "white",
                        "ticks": ""
                      },
                      "bgcolor": "#E5ECF6",
                      "radialaxis": {
                        "gridcolor": "white",
                        "linecolor": "white",
                        "ticks": ""
                      }
                    },
                    "scene": {
                      "xaxis": {
                        "backgroundcolor": "#E5ECF6",
                        "gridcolor": "white",
                        "gridwidth": 2,
                        "linecolor": "white",
                        "showbackground": true,
                        "ticks": "",
                        "zerolinecolor": "white"
                      },
                      "yaxis": {
                        "backgroundcolor": "#E5ECF6",
                        "gridcolor": "white",
                        "gridwidth": 2,
                        "linecolor": "white",
                        "showbackground": true,
                        "ticks": "",
                        "zerolinecolor": "white"
                      },
                      "zaxis": {
                        "backgroundcolor": "#E5ECF6",
                        "gridcolor": "white",
                        "gridwidth": 2,
                        "linecolor": "white",
                        "showbackground": true,
                        "ticks": "",
                        "zerolinecolor": "white"
                      }
                    },
                    "shapedefaults": {
                      "line": {
                        "color": "#2a3f5f"
                      }
                    },
                    "ternary": {
                      "aaxis": {
                        "gridcolor": "white",
                        "linecolor": "white",
                        "ticks": ""
                      },
                      "baxis": {
                        "gridcolor": "white",
                        "linecolor": "white",
                        "ticks": ""
                      },
                      "bgcolor": "#E5ECF6",
                      "caxis": {
                        "gridcolor": "white",
                        "linecolor": "white",
                        "ticks": ""
                      }
                    },
                    "title": {
                      "x": 0.05
                    },
                    "xaxis": {
                      "automargin": true,
                      "gridcolor": "white",
                      "linecolor": "white",
                      "ticks": "",
                      "title": {
                        "standoff": 15
                      },
                      "zerolinecolor": "white",
                      "zerolinewidth": 2
                    },
                    "yaxis": {
                      "automargin": true,
                      "gridcolor": "white",
                      "linecolor": "white",
                      "ticks": "",
                      "title": {
                        "standoff": 15
                      },
                      "zerolinecolor": "white",
                      "zerolinewidth": 2
                    }
                  }
                },
                "title": {
                  "text": "Model Performance Comparison - AI Market Value"
                },
                "xaxis": {
                  "title": {
                    "text": "Model"
                  }
                },
                "yaxis": {
                  "title": {
                    "text": "R² Score"
                  }
                }
              }
            }
          },
          "metadata": {},
          "output_type": "display_data"
        }
      ],
      "source": [
        "# Compare model performance\n",
        "def compare_model_performance(results_dict, target_name):\n",
        "    \"\"\"\n",
        "    Create comprehensive model comparison\n",
        "    \"\"\"\n",
        "    \n",
        "    # Create comparison DataFrame\n",
        "    comparison_data = []\n",
        "    \n",
        "    for model_name, metrics in results_dict.items():\n",
        "        row = {\n",
        "            'Model': model_name.replace('_', ' ').title(),\n",
        "            'Train_R2': metrics.get('train_r2', np.nan),\n",
        "            'Train_RMSE': metrics.get('train_rmse', np.nan),\n",
        "            'Train_MAE': metrics.get('train_mae', np.nan),\n",
        "            'Test_R2': metrics.get('test_r2', np.nan),\n",
        "            'Test_RMSE': metrics.get('test_rmse', np.nan),\n",
        "            'Test_MAE': metrics.get('test_mae', np.nan)\n",
        "        }\n",
        "        comparison_data.append(row)\n",
        "    \n",
        "    comparison_df = pd.DataFrame(comparison_data)\n",
        "    \n",
        "    # Display results\n",
        "    pd.set_option('display.precision', 3)\n",
        "    display(comparison_df)\n",
        "    \n",
        "    # Find best model\n",
        "    if 'Train_R2' in comparison_df.columns:\n",
        "        best_model_idx = comparison_df['Train_R2'].idxmax()\n",
        "        best_model = comparison_df.loc[best_model_idx, 'Model']\n",
        "        best_r2 = comparison_df.loc[best_model_idx, 'Train_R2']\n",
        "        \n",
        "    \n",
        "    # Create visualization\n",
        "    if len(comparison_df) > 1:\n",
        "        fig = go.Figure()\n",
        "        \n",
        "        fig.add_trace(go.Bar(\n",
        "            x=comparison_df['Model'],\n",
        "            y=comparison_df['Train_R2'],\n",
        "            name='Training R²',\n",
        "            marker_color='lightblue'\n",
        "        ))\n",
        "        \n",
        "        if 'Test_R2' in comparison_df.columns and not comparison_df['Test_R2'].isna().all():\n",
        "            fig.add_trace(go.Bar(\n",
        "                x=comparison_df['Model'],\n",
        "                y=comparison_df['Test_R2'],\n",
        "                name='Testing R²',\n",
        "                marker_color='lightcoral'\n",
        "            ))\n",
        "        \n",
        "        fig.update_layout(\n",
        "            title=f'Model Performance Comparison - {target_name}',\n",
        "            xaxis_title='Model',\n",
        "            yaxis_title='R² Score',\n",
        "            height=500\n",
        "        )\n",
        "        \n",
        "        fig.show()\n",
        "    \n",
        "    return comparison_df\n",
        "\n",
        "# Compare models for each target\n",
        "model_comparisons = {}\n",
        "\n",
        "for target_col, results in ml_results.items():\n",
        "    target_name = targets.get(target_col, target_col)\n",
        "    comparison = compare_model_performance(results, target_name)\n",
        "    model_comparisons[target_col] = comparison"
      ]
    },
    {
      "cell_type": "markdown",
      "id": "bb28aee3",
      "metadata": {},
      "source": [
        "## 6. Feature Importance Analysis"
      ]
    },
    {
      "cell_type": "code",
      "execution_count": 6,
      "id": "c802a7bb",
      "metadata": {},
      "outputs": [
        {
          "name": "stdout",
          "output_type": "stream",
          "text": [
            "\n",
            "🎯 FEATURE IMPORTANCE - AI Software Revenue\n",
            "==================================================\n",
            " 1. Global Ai Market Value In Billions: 0.348\n",
            " 2. Estimated Jobs Eliminated By Ai Millions: 0.066\n",
            " 3. Estimated New Jobs Created By Ai Million: 0.060\n",
            " 4. Organizations Using Ai Lag 3: 0.042\n",
            " 5. Estimated Revenue Increase From Ai Trill: 0.036\n",
            " 6. Investment Attractiveness: 0.029\n",
            " 7. Global Ai Market Value In Billions Ratio: 0.024\n",
            " 8. Jobs At High Risk Of Automation  Transpo: 0.013\n",
            " 9. Early Period: 0.012\n",
            "10. Marketers Believing Ai Improves Email Re: 0.012\n"
          ]
        },
        {
          "data": {
            "application/vnd.plotly.v1+json": {
              "config": {
                "plotlyServerURL": "https://plot.ly"
              },
              "data": [
                {
                  "marker": {
                    "color": "rgb(141,211,199)"
                  },
                  "name": "Random Forest",
                  "type": "bar",
                  "x": [
                    "global_ai_market_value_in_billions",
                    "estimated_jobs_eliminated_by_ai_millions",
                    "estimated_new_jobs_created_by_ai_millions",
                    "organizations_using_ai_lag_3",
                    "estimated_revenue_increase_from_ai_trillions_usd_zscore",
                    "investment_attractiveness",
                    "global_ai_market_value_in_billions_ratio_lag_3",
                    "jobs_at_high_risk_of_automation__transportation_&_storage_%",
                    "early_period",
                    "marketers_believing_ai_improves_email_revenue"
                  ],
                  "y": {
                    "bdata": "ZcwvaWbcfj/Ei9bSLwiBP1TjzB5yMJw/hqrX+N9Tmz9apYRRpwKCP/Pg/qG9qoY/yXoXRbcKkz+Eea1RsUOcP8280xDK130/bqutbhmynD8=",
                    "dtype": "f8"
                  }
                },
                {
                  "marker": {
                    "color": "rgb(255,255,179)"
                  },
                  "name": "Gradient Boosting",
                  "type": "bar",
                  "x": [
                    "global_ai_market_value_in_billions",
                    "estimated_jobs_eliminated_by_ai_millions",
                    "estimated_new_jobs_created_by_ai_millions",
                    "organizations_using_ai_lag_3",
                    "estimated_revenue_increase_from_ai_trillions_usd_zscore",
                    "investment_attractiveness",
                    "global_ai_market_value_in_billions_ratio_lag_3",
                    "jobs_at_high_risk_of_automation__transportation_&_storage_%",
                    "early_period",
                    "marketers_believing_ai_improves_email_revenue"
                  ],
                  "y": {
                    "bdata": "8QuFZARjoj8U1GvLRmTIP6KtHyIHncM/FnHL1nS+uT+ZFrK+p2a5P4TDgWf1kLM/SfqX7KJaqz91GcbiGyaJPztDmuvw5J0/spa9s8maej8=",
                    "dtype": "f8"
                  }
                },
                {
                  "marker": {
                    "color": "rgb(190,186,218)"
                  },
                  "name": "Xgboost",
                  "type": "bar",
                  "x": [
                    "global_ai_market_value_in_billions",
                    "estimated_jobs_eliminated_by_ai_millions",
                    "estimated_new_jobs_created_by_ai_millions",
                    "organizations_using_ai_lag_3",
                    "estimated_revenue_increase_from_ai_trillions_usd_zscore",
                    "investment_attractiveness",
                    "global_ai_market_value_in_billions_ratio_lag_3",
                    "jobs_at_high_risk_of_automation__transportation_&_storage_%",
                    "early_period",
                    "marketers_believing_ai_improves_email_revenue"
                  ],
                  "y": {
                    "bdata": "AACAPwAAAAAAAAAAAAAAAAAAAAAAAAAAAAAAAAAAAAAAAAAAAAAAAA==",
                    "dtype": "f4"
                  }
                }
              ],
              "layout": {
                "height": 600,
                "template": {
                  "data": {
                    "bar": [
                      {
                        "error_x": {
                          "color": "#2a3f5f"
                        },
                        "error_y": {
                          "color": "#2a3f5f"
                        },
                        "marker": {
                          "line": {
                            "color": "#E5ECF6",
                            "width": 0.5
                          },
                          "pattern": {
                            "fillmode": "overlay",
                            "size": 10,
                            "solidity": 0.2
                          }
                        },
                        "type": "bar"
                      }
                    ],
                    "barpolar": [
                      {
                        "marker": {
                          "line": {
                            "color": "#E5ECF6",
                            "width": 0.5
                          },
                          "pattern": {
                            "fillmode": "overlay",
                            "size": 10,
                            "solidity": 0.2
                          }
                        },
                        "type": "barpolar"
                      }
                    ],
                    "carpet": [
                      {
                        "aaxis": {
                          "endlinecolor": "#2a3f5f",
                          "gridcolor": "white",
                          "linecolor": "white",
                          "minorgridcolor": "white",
                          "startlinecolor": "#2a3f5f"
                        },
                        "baxis": {
                          "endlinecolor": "#2a3f5f",
                          "gridcolor": "white",
                          "linecolor": "white",
                          "minorgridcolor": "white",
                          "startlinecolor": "#2a3f5f"
                        },
                        "type": "carpet"
                      }
                    ],
                    "choropleth": [
                      {
                        "colorbar": {
                          "outlinewidth": 0,
                          "ticks": ""
                        },
                        "type": "choropleth"
                      }
                    ],
                    "contour": [
                      {
                        "colorbar": {
                          "outlinewidth": 0,
                          "ticks": ""
                        },
                        "colorscale": [
                          [
                            0,
                            "#0d0887"
                          ],
                          [
                            0.1111111111111111,
                            "#46039f"
                          ],
                          [
                            0.2222222222222222,
                            "#7201a8"
                          ],
                          [
                            0.3333333333333333,
                            "#9c179e"
                          ],
                          [
                            0.4444444444444444,
                            "#bd3786"
                          ],
                          [
                            0.5555555555555556,
                            "#d8576b"
                          ],
                          [
                            0.6666666666666666,
                            "#ed7953"
                          ],
                          [
                            0.7777777777777778,
                            "#fb9f3a"
                          ],
                          [
                            0.8888888888888888,
                            "#fdca26"
                          ],
                          [
                            1,
                            "#f0f921"
                          ]
                        ],
                        "type": "contour"
                      }
                    ],
                    "contourcarpet": [
                      {
                        "colorbar": {
                          "outlinewidth": 0,
                          "ticks": ""
                        },
                        "type": "contourcarpet"
                      }
                    ],
                    "heatmap": [
                      {
                        "colorbar": {
                          "outlinewidth": 0,
                          "ticks": ""
                        },
                        "colorscale": [
                          [
                            0,
                            "#0d0887"
                          ],
                          [
                            0.1111111111111111,
                            "#46039f"
                          ],
                          [
                            0.2222222222222222,
                            "#7201a8"
                          ],
                          [
                            0.3333333333333333,
                            "#9c179e"
                          ],
                          [
                            0.4444444444444444,
                            "#bd3786"
                          ],
                          [
                            0.5555555555555556,
                            "#d8576b"
                          ],
                          [
                            0.6666666666666666,
                            "#ed7953"
                          ],
                          [
                            0.7777777777777778,
                            "#fb9f3a"
                          ],
                          [
                            0.8888888888888888,
                            "#fdca26"
                          ],
                          [
                            1,
                            "#f0f921"
                          ]
                        ],
                        "type": "heatmap"
                      }
                    ],
                    "histogram": [
                      {
                        "marker": {
                          "pattern": {
                            "fillmode": "overlay",
                            "size": 10,
                            "solidity": 0.2
                          }
                        },
                        "type": "histogram"
                      }
                    ],
                    "histogram2d": [
                      {
                        "colorbar": {
                          "outlinewidth": 0,
                          "ticks": ""
                        },
                        "colorscale": [
                          [
                            0,
                            "#0d0887"
                          ],
                          [
                            0.1111111111111111,
                            "#46039f"
                          ],
                          [
                            0.2222222222222222,
                            "#7201a8"
                          ],
                          [
                            0.3333333333333333,
                            "#9c179e"
                          ],
                          [
                            0.4444444444444444,
                            "#bd3786"
                          ],
                          [
                            0.5555555555555556,
                            "#d8576b"
                          ],
                          [
                            0.6666666666666666,
                            "#ed7953"
                          ],
                          [
                            0.7777777777777778,
                            "#fb9f3a"
                          ],
                          [
                            0.8888888888888888,
                            "#fdca26"
                          ],
                          [
                            1,
                            "#f0f921"
                          ]
                        ],
                        "type": "histogram2d"
                      }
                    ],
                    "histogram2dcontour": [
                      {
                        "colorbar": {
                          "outlinewidth": 0,
                          "ticks": ""
                        },
                        "colorscale": [
                          [
                            0,
                            "#0d0887"
                          ],
                          [
                            0.1111111111111111,
                            "#46039f"
                          ],
                          [
                            0.2222222222222222,
                            "#7201a8"
                          ],
                          [
                            0.3333333333333333,
                            "#9c179e"
                          ],
                          [
                            0.4444444444444444,
                            "#bd3786"
                          ],
                          [
                            0.5555555555555556,
                            "#d8576b"
                          ],
                          [
                            0.6666666666666666,
                            "#ed7953"
                          ],
                          [
                            0.7777777777777778,
                            "#fb9f3a"
                          ],
                          [
                            0.8888888888888888,
                            "#fdca26"
                          ],
                          [
                            1,
                            "#f0f921"
                          ]
                        ],
                        "type": "histogram2dcontour"
                      }
                    ],
                    "mesh3d": [
                      {
                        "colorbar": {
                          "outlinewidth": 0,
                          "ticks": ""
                        },
                        "type": "mesh3d"
                      }
                    ],
                    "parcoords": [
                      {
                        "line": {
                          "colorbar": {
                            "outlinewidth": 0,
                            "ticks": ""
                          }
                        },
                        "type": "parcoords"
                      }
                    ],
                    "pie": [
                      {
                        "automargin": true,
                        "type": "pie"
                      }
                    ],
                    "scatter": [
                      {
                        "fillpattern": {
                          "fillmode": "overlay",
                          "size": 10,
                          "solidity": 0.2
                        },
                        "type": "scatter"
                      }
                    ],
                    "scatter3d": [
                      {
                        "line": {
                          "colorbar": {
                            "outlinewidth": 0,
                            "ticks": ""
                          }
                        },
                        "marker": {
                          "colorbar": {
                            "outlinewidth": 0,
                            "ticks": ""
                          }
                        },
                        "type": "scatter3d"
                      }
                    ],
                    "scattercarpet": [
                      {
                        "marker": {
                          "colorbar": {
                            "outlinewidth": 0,
                            "ticks": ""
                          }
                        },
                        "type": "scattercarpet"
                      }
                    ],
                    "scattergeo": [
                      {
                        "marker": {
                          "colorbar": {
                            "outlinewidth": 0,
                            "ticks": ""
                          }
                        },
                        "type": "scattergeo"
                      }
                    ],
                    "scattergl": [
                      {
                        "marker": {
                          "colorbar": {
                            "outlinewidth": 0,
                            "ticks": ""
                          }
                        },
                        "type": "scattergl"
                      }
                    ],
                    "scattermap": [
                      {
                        "marker": {
                          "colorbar": {
                            "outlinewidth": 0,
                            "ticks": ""
                          }
                        },
                        "type": "scattermap"
                      }
                    ],
                    "scattermapbox": [
                      {
                        "marker": {
                          "colorbar": {
                            "outlinewidth": 0,
                            "ticks": ""
                          }
                        },
                        "type": "scattermapbox"
                      }
                    ],
                    "scatterpolar": [
                      {
                        "marker": {
                          "colorbar": {
                            "outlinewidth": 0,
                            "ticks": ""
                          }
                        },
                        "type": "scatterpolar"
                      }
                    ],
                    "scatterpolargl": [
                      {
                        "marker": {
                          "colorbar": {
                            "outlinewidth": 0,
                            "ticks": ""
                          }
                        },
                        "type": "scatterpolargl"
                      }
                    ],
                    "scatterternary": [
                      {
                        "marker": {
                          "colorbar": {
                            "outlinewidth": 0,
                            "ticks": ""
                          }
                        },
                        "type": "scatterternary"
                      }
                    ],
                    "surface": [
                      {
                        "colorbar": {
                          "outlinewidth": 0,
                          "ticks": ""
                        },
                        "colorscale": [
                          [
                            0,
                            "#0d0887"
                          ],
                          [
                            0.1111111111111111,
                            "#46039f"
                          ],
                          [
                            0.2222222222222222,
                            "#7201a8"
                          ],
                          [
                            0.3333333333333333,
                            "#9c179e"
                          ],
                          [
                            0.4444444444444444,
                            "#bd3786"
                          ],
                          [
                            0.5555555555555556,
                            "#d8576b"
                          ],
                          [
                            0.6666666666666666,
                            "#ed7953"
                          ],
                          [
                            0.7777777777777778,
                            "#fb9f3a"
                          ],
                          [
                            0.8888888888888888,
                            "#fdca26"
                          ],
                          [
                            1,
                            "#f0f921"
                          ]
                        ],
                        "type": "surface"
                      }
                    ],
                    "table": [
                      {
                        "cells": {
                          "fill": {
                            "color": "#EBF0F8"
                          },
                          "line": {
                            "color": "white"
                          }
                        },
                        "header": {
                          "fill": {
                            "color": "#C8D4E3"
                          },
                          "line": {
                            "color": "white"
                          }
                        },
                        "type": "table"
                      }
                    ]
                  },
                  "layout": {
                    "annotationdefaults": {
                      "arrowcolor": "#2a3f5f",
                      "arrowhead": 0,
                      "arrowwidth": 1
                    },
                    "autotypenumbers": "strict",
                    "coloraxis": {
                      "colorbar": {
                        "outlinewidth": 0,
                        "ticks": ""
                      }
                    },
                    "colorscale": {
                      "diverging": [
                        [
                          0,
                          "#8e0152"
                        ],
                        [
                          0.1,
                          "#c51b7d"
                        ],
                        [
                          0.2,
                          "#de77ae"
                        ],
                        [
                          0.3,
                          "#f1b6da"
                        ],
                        [
                          0.4,
                          "#fde0ef"
                        ],
                        [
                          0.5,
                          "#f7f7f7"
                        ],
                        [
                          0.6,
                          "#e6f5d0"
                        ],
                        [
                          0.7,
                          "#b8e186"
                        ],
                        [
                          0.8,
                          "#7fbc41"
                        ],
                        [
                          0.9,
                          "#4d9221"
                        ],
                        [
                          1,
                          "#276419"
                        ]
                      ],
                      "sequential": [
                        [
                          0,
                          "#0d0887"
                        ],
                        [
                          0.1111111111111111,
                          "#46039f"
                        ],
                        [
                          0.2222222222222222,
                          "#7201a8"
                        ],
                        [
                          0.3333333333333333,
                          "#9c179e"
                        ],
                        [
                          0.4444444444444444,
                          "#bd3786"
                        ],
                        [
                          0.5555555555555556,
                          "#d8576b"
                        ],
                        [
                          0.6666666666666666,
                          "#ed7953"
                        ],
                        [
                          0.7777777777777778,
                          "#fb9f3a"
                        ],
                        [
                          0.8888888888888888,
                          "#fdca26"
                        ],
                        [
                          1,
                          "#f0f921"
                        ]
                      ],
                      "sequentialminus": [
                        [
                          0,
                          "#0d0887"
                        ],
                        [
                          0.1111111111111111,
                          "#46039f"
                        ],
                        [
                          0.2222222222222222,
                          "#7201a8"
                        ],
                        [
                          0.3333333333333333,
                          "#9c179e"
                        ],
                        [
                          0.4444444444444444,
                          "#bd3786"
                        ],
                        [
                          0.5555555555555556,
                          "#d8576b"
                        ],
                        [
                          0.6666666666666666,
                          "#ed7953"
                        ],
                        [
                          0.7777777777777778,
                          "#fb9f3a"
                        ],
                        [
                          0.8888888888888888,
                          "#fdca26"
                        ],
                        [
                          1,
                          "#f0f921"
                        ]
                      ]
                    },
                    "colorway": [
                      "#636efa",
                      "#EF553B",
                      "#00cc96",
                      "#ab63fa",
                      "#FFA15A",
                      "#19d3f3",
                      "#FF6692",
                      "#B6E880",
                      "#FF97FF",
                      "#FECB52"
                    ],
                    "font": {
                      "color": "#2a3f5f"
                    },
                    "geo": {
                      "bgcolor": "white",
                      "lakecolor": "white",
                      "landcolor": "#E5ECF6",
                      "showlakes": true,
                      "showland": true,
                      "subunitcolor": "white"
                    },
                    "hoverlabel": {
                      "align": "left"
                    },
                    "hovermode": "closest",
                    "mapbox": {
                      "style": "light"
                    },
                    "paper_bgcolor": "white",
                    "plot_bgcolor": "#E5ECF6",
                    "polar": {
                      "angularaxis": {
                        "gridcolor": "white",
                        "linecolor": "white",
                        "ticks": ""
                      },
                      "bgcolor": "#E5ECF6",
                      "radialaxis": {
                        "gridcolor": "white",
                        "linecolor": "white",
                        "ticks": ""
                      }
                    },
                    "scene": {
                      "xaxis": {
                        "backgroundcolor": "#E5ECF6",
                        "gridcolor": "white",
                        "gridwidth": 2,
                        "linecolor": "white",
                        "showbackground": true,
                        "ticks": "",
                        "zerolinecolor": "white"
                      },
                      "yaxis": {
                        "backgroundcolor": "#E5ECF6",
                        "gridcolor": "white",
                        "gridwidth": 2,
                        "linecolor": "white",
                        "showbackground": true,
                        "ticks": "",
                        "zerolinecolor": "white"
                      },
                      "zaxis": {
                        "backgroundcolor": "#E5ECF6",
                        "gridcolor": "white",
                        "gridwidth": 2,
                        "linecolor": "white",
                        "showbackground": true,
                        "ticks": "",
                        "zerolinecolor": "white"
                      }
                    },
                    "shapedefaults": {
                      "line": {
                        "color": "#2a3f5f"
                      }
                    },
                    "ternary": {
                      "aaxis": {
                        "gridcolor": "white",
                        "linecolor": "white",
                        "ticks": ""
                      },
                      "baxis": {
                        "gridcolor": "white",
                        "linecolor": "white",
                        "ticks": ""
                      },
                      "bgcolor": "#E5ECF6",
                      "caxis": {
                        "gridcolor": "white",
                        "linecolor": "white",
                        "ticks": ""
                      }
                    },
                    "title": {
                      "x": 0.05
                    },
                    "xaxis": {
                      "automargin": true,
                      "gridcolor": "white",
                      "linecolor": "white",
                      "ticks": "",
                      "title": {
                        "standoff": 15
                      },
                      "zerolinecolor": "white",
                      "zerolinewidth": 2
                    },
                    "yaxis": {
                      "automargin": true,
                      "gridcolor": "white",
                      "linecolor": "white",
                      "ticks": "",
                      "title": {
                        "standoff": 15
                      },
                      "zerolinecolor": "white",
                      "zerolinewidth": 2
                    }
                  }
                },
                "title": {
                  "text": "Feature Importance Comparison - AI Software Revenue"
                },
                "xaxis": {
                  "tickangle": -45,
                  "title": {
                    "text": "Features"
                  }
                },
                "yaxis": {
                  "title": {
                    "text": "Importance Score"
                  }
                }
              }
            }
          },
          "metadata": {},
          "output_type": "display_data"
        },
        {
          "name": "stdout",
          "output_type": "stream",
          "text": [
            "\n",
            "🎯 FEATURE IMPORTANCE - AI Market Value\n",
            "==================================================\n",
            " 1. Ai Software Revenue In Billions: 0.334\n",
            " 2. Estimated New Jobs Created By Ai Million: 0.070\n",
            " 3. Estimated Jobs Eliminated By Ai Millions: 0.052\n",
            " 4. Estimated Revenue Increase From Ai Trill: 0.044\n",
            " 5. Estimated Revenue Increase From Ai Trill: 0.040\n",
            " 6. Investment Attractiveness: 0.037\n",
            " 7. Ai Software Revenue In Billions Ratio La: 0.027\n",
            " 8. Organizations Using Ai Ratio Lag 3: 0.020\n",
            " 9. Ai Software Revenue In Billions Growth A: 0.019\n",
            "10. Ai Software Revenue In Billions Std 5: 0.016\n"
          ]
        },
        {
          "data": {
            "application/vnd.plotly.v1+json": {
              "config": {
                "plotlyServerURL": "https://plot.ly"
              },
              "data": [
                {
                  "marker": {
                    "color": "rgb(141,211,199)"
                  },
                  "name": "Random Forest",
                  "type": "bar",
                  "x": [
                    "ai_software_revenue_in_billions",
                    "estimated_new_jobs_created_by_ai_millions",
                    "estimated_jobs_eliminated_by_ai_millions",
                    "estimated_revenue_increase_from_ai_trillions_usd_ratio_lag_1",
                    "estimated_revenue_increase_from_ai_trillions_usd_zscore",
                    "investment_attractiveness",
                    "ai_software_revenue_in_billions_ratio_lag_3",
                    "organizations_using_ai_ratio_lag_3",
                    "ai_software_revenue_in_billions_growth_acceleration",
                    "ai_software_revenue_in_billions_std_5"
                  ],
                  "y": {
                    "bdata": "lQL2ysZZJD8M7wmTOGqjPyYB4VUMlZE/tB95A1ANkz9yQYzYarmCP3aQymyG450/XKDgM/MllD9NXRgPYRecP2YQoG2rp4M/HGHPIsIdhD8=",
                    "dtype": "f8"
                  }
                },
                {
                  "marker": {
                    "color": "rgb(255,255,179)"
                  },
                  "name": "Gradient Boosting",
                  "type": "bar",
                  "x": [
                    "ai_software_revenue_in_billions",
                    "estimated_new_jobs_created_by_ai_millions",
                    "estimated_jobs_eliminated_by_ai_millions",
                    "estimated_revenue_increase_from_ai_trillions_usd_ratio_lag_1",
                    "estimated_revenue_increase_from_ai_trillions_usd_zscore",
                    "investment_attractiveness",
                    "ai_software_revenue_in_billions_ratio_lag_3",
                    "organizations_using_ai_ratio_lag_3",
                    "ai_software_revenue_in_billions_growth_acceleration",
                    "ai_software_revenue_in_billions_std_5"
                  ],
                  "y": {
                    "bdata": "LumzWg/MTz/FS/HKoSPGPxY9VmAt8sE/IESqe3gMvT9CDb+PzxO8P+T1KjvY/LQ/0WuW3ijCrz/vBq2gxXSgPy8DIYc9Aqk/0wYpjtBBpD8=",
                    "dtype": "f8"
                  }
                },
                {
                  "marker": {
                    "color": "rgb(190,186,218)"
                  },
                  "name": "Xgboost",
                  "type": "bar",
                  "x": [
                    "ai_software_revenue_in_billions",
                    "estimated_new_jobs_created_by_ai_millions",
                    "estimated_jobs_eliminated_by_ai_millions",
                    "estimated_revenue_increase_from_ai_trillions_usd_ratio_lag_1",
                    "estimated_revenue_increase_from_ai_trillions_usd_zscore",
                    "investment_attractiveness",
                    "ai_software_revenue_in_billions_ratio_lag_3",
                    "organizations_using_ai_ratio_lag_3",
                    "ai_software_revenue_in_billions_growth_acceleration",
                    "ai_software_revenue_in_billions_std_5"
                  ],
                  "y": {
                    "bdata": "AACAPwAAAAAAAAAAAAAAAAAAAAAAAAAAAAAAAAAAAAAAAAAAAAAAAA==",
                    "dtype": "f4"
                  }
                }
              ],
              "layout": {
                "height": 600,
                "template": {
                  "data": {
                    "bar": [
                      {
                        "error_x": {
                          "color": "#2a3f5f"
                        },
                        "error_y": {
                          "color": "#2a3f5f"
                        },
                        "marker": {
                          "line": {
                            "color": "#E5ECF6",
                            "width": 0.5
                          },
                          "pattern": {
                            "fillmode": "overlay",
                            "size": 10,
                            "solidity": 0.2
                          }
                        },
                        "type": "bar"
                      }
                    ],
                    "barpolar": [
                      {
                        "marker": {
                          "line": {
                            "color": "#E5ECF6",
                            "width": 0.5
                          },
                          "pattern": {
                            "fillmode": "overlay",
                            "size": 10,
                            "solidity": 0.2
                          }
                        },
                        "type": "barpolar"
                      }
                    ],
                    "carpet": [
                      {
                        "aaxis": {
                          "endlinecolor": "#2a3f5f",
                          "gridcolor": "white",
                          "linecolor": "white",
                          "minorgridcolor": "white",
                          "startlinecolor": "#2a3f5f"
                        },
                        "baxis": {
                          "endlinecolor": "#2a3f5f",
                          "gridcolor": "white",
                          "linecolor": "white",
                          "minorgridcolor": "white",
                          "startlinecolor": "#2a3f5f"
                        },
                        "type": "carpet"
                      }
                    ],
                    "choropleth": [
                      {
                        "colorbar": {
                          "outlinewidth": 0,
                          "ticks": ""
                        },
                        "type": "choropleth"
                      }
                    ],
                    "contour": [
                      {
                        "colorbar": {
                          "outlinewidth": 0,
                          "ticks": ""
                        },
                        "colorscale": [
                          [
                            0,
                            "#0d0887"
                          ],
                          [
                            0.1111111111111111,
                            "#46039f"
                          ],
                          [
                            0.2222222222222222,
                            "#7201a8"
                          ],
                          [
                            0.3333333333333333,
                            "#9c179e"
                          ],
                          [
                            0.4444444444444444,
                            "#bd3786"
                          ],
                          [
                            0.5555555555555556,
                            "#d8576b"
                          ],
                          [
                            0.6666666666666666,
                            "#ed7953"
                          ],
                          [
                            0.7777777777777778,
                            "#fb9f3a"
                          ],
                          [
                            0.8888888888888888,
                            "#fdca26"
                          ],
                          [
                            1,
                            "#f0f921"
                          ]
                        ],
                        "type": "contour"
                      }
                    ],
                    "contourcarpet": [
                      {
                        "colorbar": {
                          "outlinewidth": 0,
                          "ticks": ""
                        },
                        "type": "contourcarpet"
                      }
                    ],
                    "heatmap": [
                      {
                        "colorbar": {
                          "outlinewidth": 0,
                          "ticks": ""
                        },
                        "colorscale": [
                          [
                            0,
                            "#0d0887"
                          ],
                          [
                            0.1111111111111111,
                            "#46039f"
                          ],
                          [
                            0.2222222222222222,
                            "#7201a8"
                          ],
                          [
                            0.3333333333333333,
                            "#9c179e"
                          ],
                          [
                            0.4444444444444444,
                            "#bd3786"
                          ],
                          [
                            0.5555555555555556,
                            "#d8576b"
                          ],
                          [
                            0.6666666666666666,
                            "#ed7953"
                          ],
                          [
                            0.7777777777777778,
                            "#fb9f3a"
                          ],
                          [
                            0.8888888888888888,
                            "#fdca26"
                          ],
                          [
                            1,
                            "#f0f921"
                          ]
                        ],
                        "type": "heatmap"
                      }
                    ],
                    "histogram": [
                      {
                        "marker": {
                          "pattern": {
                            "fillmode": "overlay",
                            "size": 10,
                            "solidity": 0.2
                          }
                        },
                        "type": "histogram"
                      }
                    ],
                    "histogram2d": [
                      {
                        "colorbar": {
                          "outlinewidth": 0,
                          "ticks": ""
                        },
                        "colorscale": [
                          [
                            0,
                            "#0d0887"
                          ],
                          [
                            0.1111111111111111,
                            "#46039f"
                          ],
                          [
                            0.2222222222222222,
                            "#7201a8"
                          ],
                          [
                            0.3333333333333333,
                            "#9c179e"
                          ],
                          [
                            0.4444444444444444,
                            "#bd3786"
                          ],
                          [
                            0.5555555555555556,
                            "#d8576b"
                          ],
                          [
                            0.6666666666666666,
                            "#ed7953"
                          ],
                          [
                            0.7777777777777778,
                            "#fb9f3a"
                          ],
                          [
                            0.8888888888888888,
                            "#fdca26"
                          ],
                          [
                            1,
                            "#f0f921"
                          ]
                        ],
                        "type": "histogram2d"
                      }
                    ],
                    "histogram2dcontour": [
                      {
                        "colorbar": {
                          "outlinewidth": 0,
                          "ticks": ""
                        },
                        "colorscale": [
                          [
                            0,
                            "#0d0887"
                          ],
                          [
                            0.1111111111111111,
                            "#46039f"
                          ],
                          [
                            0.2222222222222222,
                            "#7201a8"
                          ],
                          [
                            0.3333333333333333,
                            "#9c179e"
                          ],
                          [
                            0.4444444444444444,
                            "#bd3786"
                          ],
                          [
                            0.5555555555555556,
                            "#d8576b"
                          ],
                          [
                            0.6666666666666666,
                            "#ed7953"
                          ],
                          [
                            0.7777777777777778,
                            "#fb9f3a"
                          ],
                          [
                            0.8888888888888888,
                            "#fdca26"
                          ],
                          [
                            1,
                            "#f0f921"
                          ]
                        ],
                        "type": "histogram2dcontour"
                      }
                    ],
                    "mesh3d": [
                      {
                        "colorbar": {
                          "outlinewidth": 0,
                          "ticks": ""
                        },
                        "type": "mesh3d"
                      }
                    ],
                    "parcoords": [
                      {
                        "line": {
                          "colorbar": {
                            "outlinewidth": 0,
                            "ticks": ""
                          }
                        },
                        "type": "parcoords"
                      }
                    ],
                    "pie": [
                      {
                        "automargin": true,
                        "type": "pie"
                      }
                    ],
                    "scatter": [
                      {
                        "fillpattern": {
                          "fillmode": "overlay",
                          "size": 10,
                          "solidity": 0.2
                        },
                        "type": "scatter"
                      }
                    ],
                    "scatter3d": [
                      {
                        "line": {
                          "colorbar": {
                            "outlinewidth": 0,
                            "ticks": ""
                          }
                        },
                        "marker": {
                          "colorbar": {
                            "outlinewidth": 0,
                            "ticks": ""
                          }
                        },
                        "type": "scatter3d"
                      }
                    ],
                    "scattercarpet": [
                      {
                        "marker": {
                          "colorbar": {
                            "outlinewidth": 0,
                            "ticks": ""
                          }
                        },
                        "type": "scattercarpet"
                      }
                    ],
                    "scattergeo": [
                      {
                        "marker": {
                          "colorbar": {
                            "outlinewidth": 0,
                            "ticks": ""
                          }
                        },
                        "type": "scattergeo"
                      }
                    ],
                    "scattergl": [
                      {
                        "marker": {
                          "colorbar": {
                            "outlinewidth": 0,
                            "ticks": ""
                          }
                        },
                        "type": "scattergl"
                      }
                    ],
                    "scattermap": [
                      {
                        "marker": {
                          "colorbar": {
                            "outlinewidth": 0,
                            "ticks": ""
                          }
                        },
                        "type": "scattermap"
                      }
                    ],
                    "scattermapbox": [
                      {
                        "marker": {
                          "colorbar": {
                            "outlinewidth": 0,
                            "ticks": ""
                          }
                        },
                        "type": "scattermapbox"
                      }
                    ],
                    "scatterpolar": [
                      {
                        "marker": {
                          "colorbar": {
                            "outlinewidth": 0,
                            "ticks": ""
                          }
                        },
                        "type": "scatterpolar"
                      }
                    ],
                    "scatterpolargl": [
                      {
                        "marker": {
                          "colorbar": {
                            "outlinewidth": 0,
                            "ticks": ""
                          }
                        },
                        "type": "scatterpolargl"
                      }
                    ],
                    "scatterternary": [
                      {
                        "marker": {
                          "colorbar": {
                            "outlinewidth": 0,
                            "ticks": ""
                          }
                        },
                        "type": "scatterternary"
                      }
                    ],
                    "surface": [
                      {
                        "colorbar": {
                          "outlinewidth": 0,
                          "ticks": ""
                        },
                        "colorscale": [
                          [
                            0,
                            "#0d0887"
                          ],
                          [
                            0.1111111111111111,
                            "#46039f"
                          ],
                          [
                            0.2222222222222222,
                            "#7201a8"
                          ],
                          [
                            0.3333333333333333,
                            "#9c179e"
                          ],
                          [
                            0.4444444444444444,
                            "#bd3786"
                          ],
                          [
                            0.5555555555555556,
                            "#d8576b"
                          ],
                          [
                            0.6666666666666666,
                            "#ed7953"
                          ],
                          [
                            0.7777777777777778,
                            "#fb9f3a"
                          ],
                          [
                            0.8888888888888888,
                            "#fdca26"
                          ],
                          [
                            1,
                            "#f0f921"
                          ]
                        ],
                        "type": "surface"
                      }
                    ],
                    "table": [
                      {
                        "cells": {
                          "fill": {
                            "color": "#EBF0F8"
                          },
                          "line": {
                            "color": "white"
                          }
                        },
                        "header": {
                          "fill": {
                            "color": "#C8D4E3"
                          },
                          "line": {
                            "color": "white"
                          }
                        },
                        "type": "table"
                      }
                    ]
                  },
                  "layout": {
                    "annotationdefaults": {
                      "arrowcolor": "#2a3f5f",
                      "arrowhead": 0,
                      "arrowwidth": 1
                    },
                    "autotypenumbers": "strict",
                    "coloraxis": {
                      "colorbar": {
                        "outlinewidth": 0,
                        "ticks": ""
                      }
                    },
                    "colorscale": {
                      "diverging": [
                        [
                          0,
                          "#8e0152"
                        ],
                        [
                          0.1,
                          "#c51b7d"
                        ],
                        [
                          0.2,
                          "#de77ae"
                        ],
                        [
                          0.3,
                          "#f1b6da"
                        ],
                        [
                          0.4,
                          "#fde0ef"
                        ],
                        [
                          0.5,
                          "#f7f7f7"
                        ],
                        [
                          0.6,
                          "#e6f5d0"
                        ],
                        [
                          0.7,
                          "#b8e186"
                        ],
                        [
                          0.8,
                          "#7fbc41"
                        ],
                        [
                          0.9,
                          "#4d9221"
                        ],
                        [
                          1,
                          "#276419"
                        ]
                      ],
                      "sequential": [
                        [
                          0,
                          "#0d0887"
                        ],
                        [
                          0.1111111111111111,
                          "#46039f"
                        ],
                        [
                          0.2222222222222222,
                          "#7201a8"
                        ],
                        [
                          0.3333333333333333,
                          "#9c179e"
                        ],
                        [
                          0.4444444444444444,
                          "#bd3786"
                        ],
                        [
                          0.5555555555555556,
                          "#d8576b"
                        ],
                        [
                          0.6666666666666666,
                          "#ed7953"
                        ],
                        [
                          0.7777777777777778,
                          "#fb9f3a"
                        ],
                        [
                          0.8888888888888888,
                          "#fdca26"
                        ],
                        [
                          1,
                          "#f0f921"
                        ]
                      ],
                      "sequentialminus": [
                        [
                          0,
                          "#0d0887"
                        ],
                        [
                          0.1111111111111111,
                          "#46039f"
                        ],
                        [
                          0.2222222222222222,
                          "#7201a8"
                        ],
                        [
                          0.3333333333333333,
                          "#9c179e"
                        ],
                        [
                          0.4444444444444444,
                          "#bd3786"
                        ],
                        [
                          0.5555555555555556,
                          "#d8576b"
                        ],
                        [
                          0.6666666666666666,
                          "#ed7953"
                        ],
                        [
                          0.7777777777777778,
                          "#fb9f3a"
                        ],
                        [
                          0.8888888888888888,
                          "#fdca26"
                        ],
                        [
                          1,
                          "#f0f921"
                        ]
                      ]
                    },
                    "colorway": [
                      "#636efa",
                      "#EF553B",
                      "#00cc96",
                      "#ab63fa",
                      "#FFA15A",
                      "#19d3f3",
                      "#FF6692",
                      "#B6E880",
                      "#FF97FF",
                      "#FECB52"
                    ],
                    "font": {
                      "color": "#2a3f5f"
                    },
                    "geo": {
                      "bgcolor": "white",
                      "lakecolor": "white",
                      "landcolor": "#E5ECF6",
                      "showlakes": true,
                      "showland": true,
                      "subunitcolor": "white"
                    },
                    "hoverlabel": {
                      "align": "left"
                    },
                    "hovermode": "closest",
                    "mapbox": {
                      "style": "light"
                    },
                    "paper_bgcolor": "white",
                    "plot_bgcolor": "#E5ECF6",
                    "polar": {
                      "angularaxis": {
                        "gridcolor": "white",
                        "linecolor": "white",
                        "ticks": ""
                      },
                      "bgcolor": "#E5ECF6",
                      "radialaxis": {
                        "gridcolor": "white",
                        "linecolor": "white",
                        "ticks": ""
                      }
                    },
                    "scene": {
                      "xaxis": {
                        "backgroundcolor": "#E5ECF6",
                        "gridcolor": "white",
                        "gridwidth": 2,
                        "linecolor": "white",
                        "showbackground": true,
                        "ticks": "",
                        "zerolinecolor": "white"
                      },
                      "yaxis": {
                        "backgroundcolor": "#E5ECF6",
                        "gridcolor": "white",
                        "gridwidth": 2,
                        "linecolor": "white",
                        "showbackground": true,
                        "ticks": "",
                        "zerolinecolor": "white"
                      },
                      "zaxis": {
                        "backgroundcolor": "#E5ECF6",
                        "gridcolor": "white",
                        "gridwidth": 2,
                        "linecolor": "white",
                        "showbackground": true,
                        "ticks": "",
                        "zerolinecolor": "white"
                      }
                    },
                    "shapedefaults": {
                      "line": {
                        "color": "#2a3f5f"
                      }
                    },
                    "ternary": {
                      "aaxis": {
                        "gridcolor": "white",
                        "linecolor": "white",
                        "ticks": ""
                      },
                      "baxis": {
                        "gridcolor": "white",
                        "linecolor": "white",
                        "ticks": ""
                      },
                      "bgcolor": "#E5ECF6",
                      "caxis": {
                        "gridcolor": "white",
                        "linecolor": "white",
                        "ticks": ""
                      }
                    },
                    "title": {
                      "x": 0.05
                    },
                    "xaxis": {
                      "automargin": true,
                      "gridcolor": "white",
                      "linecolor": "white",
                      "ticks": "",
                      "title": {
                        "standoff": 15
                      },
                      "zerolinecolor": "white",
                      "zerolinewidth": 2
                    },
                    "yaxis": {
                      "automargin": true,
                      "gridcolor": "white",
                      "linecolor": "white",
                      "ticks": "",
                      "title": {
                        "standoff": 15
                      },
                      "zerolinecolor": "white",
                      "zerolinewidth": 2
                    }
                  }
                },
                "title": {
                  "text": "Feature Importance Comparison - AI Market Value"
                },
                "xaxis": {
                  "tickangle": -45,
                  "title": {
                    "text": "Features"
                  }
                },
                "yaxis": {
                  "title": {
                    "text": "Importance Score"
                  }
                }
              }
            }
          },
          "metadata": {},
          "output_type": "display_data"
        }
      ],
      "source": [
        "# Analyze feature importance from tree-based models\n",
        "def analyze_feature_importance(models_dict, feature_names, target_name):\n",
        "    \"\"\"\n",
        "    Extract and visualize feature importance\n",
        "    \"\"\"\n",
        "    importance_data = {}\n",
        "    \n",
        "    # Extract importance from tree-based models\n",
        "    tree_models = ['random_forest', 'gradient_boosting', 'xgboost']\n",
        "    \n",
        "    for model_name in tree_models:\n",
        "        if model_name in models_dict:\n",
        "            model = models_dict[model_name]\n",
        "            \n",
        "            if hasattr(model, 'feature_importances_'):\n",
        "                importance_data[model_name] = model.feature_importances_\n",
        "    \n",
        "    if importance_data:\n",
        "        # Create importance DataFrame\n",
        "        importance_df = pd.DataFrame(importance_data, index=feature_names)\n",
        "        \n",
        "        # Calculate average importance\n",
        "        importance_df['average'] = importance_df.mean(axis=1)\n",
        "        importance_df = importance_df.sort_values('average', ascending=False)\n",
        "        \n",
        "        \n",
        "        # Show top 10 features\n",
        "        top_features = importance_df.head(10)\n",
        "        for i, (feature, row) in enumerate(top_features.iterrows(), 1):\n",
        "            avg_importance = row['average']\n",
        "            feature_display = feature.replace('_', ' ').title()[:40]\n",
        "        \n",
        "        # Create visualization\n",
        "        fig = go.Figure()\n",
        "        \n",
        "        colors = px.colors.qualitative.Set3\n",
        "        for i, model_name in enumerate(importance_data.keys()):\n",
        "            fig.add_trace(go.Bar(\n",
        "                x=top_features.index,\n",
        "                y=top_features[model_name],\n",
        "                name=model_name.replace('_', ' ').title(),\n",
        "                marker_color=colors[i % len(colors)]\n",
        "            ))\n",
        "        \n",
        "        fig.update_layout(\n",
        "            title=f'Feature Importance Comparison - {target_name}',\n",
        "            xaxis_title='Features',\n",
        "            yaxis_title='Importance Score',\n",
        "            height=600,\n",
        "            xaxis_tickangle=-45\n",
        "        )\n",
        "        \n",
        "        fig.show()\n",
        "        \n",
        "        return importance_df\n",
        "    \n",
        "    return None\n",
        "\n",
        "# Analyze feature importance for each target\n",
        "feature_importance_results = {}\n",
        "\n",
        "for target_col, models in ml_models.items():\n",
        "    if target_col in modeling_data:\n",
        "        target_name = modeling_data[target_col]['name']\n",
        "        feature_names = modeling_data[target_col]['features']\n",
        "        \n",
        "        importance_df = analyze_feature_importance(models, feature_names, target_name)\n",
        "        if importance_df is not None:\n",
        "            feature_importance_results[target_col] = importance_df"
      ]
    },
    {
      "cell_type": "markdown",
      "id": "0a408380",
      "metadata": {},
      "source": [
        "## 7. Cross-Validation and Model Robustness"
      ]
    },
    {
      "cell_type": "code",
      "execution_count": 7,
      "id": "d1810514",
      "metadata": {},
      "outputs": [
        {
          "name": "stdout",
          "output_type": "stream",
          "text": [
            "\n",
            "🔄 Cross-Validation for AI Software Revenue\n",
            "==================================================\n",
            "📊 Linear Regression:\n",
            "   CV R² = -12.359 ± 8.556\n",
            "   Range: [-24.274, -4.574]\n",
            "📊 Ridge Regression:\n",
            "   CV R² = -12.359 ± 8.556\n",
            "   Range: [-24.274, -4.574]\n",
            "📊 Lasso Regression:\n",
            "   CV R² = -37.072 ± 25.640\n",
            "   Range: [-68.484, -5.680]\n",
            "📊 Random Forest:\n",
            "   CV R² = -10.635 ± 3.025\n",
            "   Range: [-13.503, -6.452]\n",
            "📊 Gradient Boosting:\n",
            "   CV R² = -7.465 ± 1.222\n",
            "   Range: [-8.844, -5.873]\n",
            "📊 Xgboost:\n",
            "   CV R² = -6.175 ± 0.770\n",
            "   Range: [-7.116, -5.229]\n",
            "\n",
            "🔄 Cross-Validation for AI Market Value\n",
            "==================================================\n",
            "📊 Linear Regression:\n",
            "   CV R² = -1.424 ± 0.623\n",
            "   Range: [-1.979, -0.553]\n",
            "📊 Ridge Regression:\n",
            "   CV R² = -1.424 ± 0.624\n",
            "   Range: [-1.979, -0.552]\n",
            "📊 Lasso Regression:\n",
            "   CV R² = -0.512 ± 0.982\n",
            "   Range: [-1.715, 0.691]\n",
            "📊 Random Forest:\n",
            "   CV R² = -3.888 ± 1.623\n",
            "   Range: [-5.244, -1.607]\n",
            "📊 Gradient Boosting:\n",
            "   CV R² = -3.520 ± 1.499\n",
            "   Range: [-4.626, -1.400]\n",
            "📊 Xgboost:\n",
            "   CV R² = -3.232 ± 1.321\n",
            "   Range: [-4.323, -1.373]\n"
          ]
        }
      ],
      "source": [
        "# Perform cross-validation\n",
        "def perform_cross_validation(X, y, models_dict, cv_folds=3):\n",
        "    \"\"\"\n",
        "    Perform time series cross-validation\n",
        "    \"\"\"\n",
        "    if len(X) < cv_folds + 2:\n",
        "        return None\n",
        "    \n",
        "    # Use TimeSeriesSplit for time series data\n",
        "    tscv = TimeSeriesSplit(n_splits=cv_folds)\n",
        "    \n",
        "    cv_results = {}\n",
        "    \n",
        "    for name, model in models_dict.items():\n",
        "        try:\n",
        "            # Perform cross-validation\n",
        "            scores = cross_val_score(model, X, y, cv=tscv, scoring='r2')\n",
        "            \n",
        "            cv_results[name] = {\n",
        "                'scores': scores,\n",
        "                'mean': scores.mean(),\n",
        "                'std': scores.std(),\n",
        "                'min': scores.min(),\n",
        "                'max': scores.max()\n",
        "            }\n",
        "            \n",
        "        \n",
        "        except Exception as e:\n",
        "    \n",
        "    return cv_results\n",
        "\n",
        "# Perform cross-validation for each target\n",
        "cv_results_all = {}\n",
        "\n",
        "for target_col, models in ml_models.items():\n",
        "    if target_col in modeling_data:\n",
        "        target_name = modeling_data[target_col]['name']\n",
        "        X = modeling_data[target_col]['X']\n",
        "        y = modeling_data[target_col]['y']\n",
        "        \n",
        "        \n",
        "        cv_results = perform_cross_validation(X, y, models)\n",
        "        if cv_results:\n",
        "            cv_results_all[target_col] = cv_results"
      ]
    },
    {
      "cell_type": "markdown",
      "id": "4793bd95",
      "metadata": {},
      "source": [
        "## 8. Model Ensemble and Final Predictions"
      ]
    },
    {
      "cell_type": "code",
      "execution_count": 8,
      "id": "35192d11",
      "metadata": {},
      "outputs": [
        {
          "name": "stdout",
          "output_type": "stream",
          "text": [
            "\n",
            "🔗 Creating Ensemble for AI Software Revenue\n",
            "==================================================\n",
            "🔗 Ensemble Results:\n",
            "   Simple Average: R² = 0.857\n",
            "   Weighted Average: R² = 0.857\n",
            "   Models in ensemble: 6\n",
            "\n",
            "🔗 Creating Ensemble for AI Market Value\n",
            "==================================================\n",
            "🔗 Ensemble Results:\n",
            "   Simple Average: R² = 0.086\n",
            "   Weighted Average: R² = 0.086\n",
            "   Models in ensemble: 6\n"
          ]
        }
      ],
      "source": [
        "# Create ensemble models\n",
        "def create_ensemble_model(models_dict, X, y):\n",
        "    \"\"\"\n",
        "    Create simple ensemble using best performing models\n",
        "    \"\"\"\n",
        "    # Get predictions from all models\n",
        "    predictions = []\n",
        "    model_names = []\n",
        "    \n",
        "    for name, model in models_dict.items():\n",
        "        try:\n",
        "            pred = model.predict(X)\n",
        "            predictions.append(pred)\n",
        "            model_names.append(name)\n",
        "        except Exception as e:\n",
        "    \n",
        "    if len(predictions) >= 2:\n",
        "        # Simple average ensemble\n",
        "        ensemble_pred = np.mean(predictions, axis=0)\n",
        "        \n",
        "        # Weighted ensemble (weight by R² score)\n",
        "        weights = []\n",
        "        for name in model_names:\n",
        "            try:\n",
        "                pred = model.predict(X)\n",
        "                r2 = r2_score(y, pred)\n",
        "                weights.append(max(0, r2))  # Use 0 for negative R²\n",
        "            except:\n",
        "                weights.append(0)\n",
        "        \n",
        "        if sum(weights) > 0:\n",
        "            weights = np.array(weights) / sum(weights)\n",
        "            weighted_ensemble_pred = np.average(predictions, axis=0, weights=weights)\n",
        "        else:\n",
        "            weighted_ensemble_pred = ensemble_pred\n",
        "        \n",
        "        # Evaluate ensemble\n",
        "        simple_r2 = r2_score(y, ensemble_pred)\n",
        "        weighted_r2 = r2_score(y, weighted_ensemble_pred)\n",
        "        \n",
        "        \n",
        "        return {\n",
        "            'simple_ensemble': ensemble_pred,\n",
        "            'weighted_ensemble': weighted_ensemble_pred,\n",
        "            'simple_r2': simple_r2,\n",
        "            'weighted_r2': weighted_r2,\n",
        "            'model_names': model_names,\n",
        "            'weights': weights\n",
        "        }\n",
        "    \n",
        "    return None\n",
        "\n",
        "# Create ensembles for each target\n",
        "ensemble_results = {}\n",
        "\n",
        "for target_col, models in ml_models.items():\n",
        "    if target_col in modeling_data:\n",
        "        target_name = modeling_data[target_col]['name']\n",
        "        X = modeling_data[target_col]['X']\n",
        "        y = modeling_data[target_col]['y']\n",
        "        \n",
        "        \n",
        "        ensemble = create_ensemble_model(models, X, y)\n",
        "        if ensemble:\n",
        "            ensemble_results[target_col] = ensemble"
      ]
    },
    {
      "cell_type": "markdown",
      "id": "858daeef",
      "metadata": {},
      "source": [
        "## 9. Save Models and Results"
      ]
    },
    {
      "cell_type": "code",
      "execution_count": 9,
      "id": "01c55ef4",
      "metadata": {},
      "outputs": [
        {
          "name": "stdout",
          "output_type": "stream",
          "text": [
            "💾 SAVING MODELS AND RESULTS\n",
            "==================================================\n",
            "   ✅ Saved linear_regression for ai_software_revenue_in_billions\n",
            "   ✅ Saved ridge_regression for ai_software_revenue_in_billions\n",
            "   ✅ Saved lasso_regression for ai_software_revenue_in_billions\n",
            "   ✅ Saved random_forest for ai_software_revenue_in_billions\n",
            "   ✅ Saved gradient_boosting for ai_software_revenue_in_billions\n",
            "   ✅ Saved xgboost for ai_software_revenue_in_billions\n",
            "   ✅ Saved linear_regression for global_ai_market_value_in_billions\n",
            "   ✅ Saved ridge_regression for global_ai_market_value_in_billions\n",
            "   ✅ Saved lasso_regression for global_ai_market_value_in_billions\n",
            "   ✅ Saved random_forest for global_ai_market_value_in_billions\n",
            "   ✅ Saved gradient_boosting for global_ai_market_value_in_billions\n",
            "   ✅ Saved xgboost for global_ai_market_value_in_billions\n",
            "   📊 Saved comparison for ai_software_revenue_in_billions\n",
            "   📊 Saved comparison for global_ai_market_value_in_billions\n",
            "   📊 Saved cross-validation results\n",
            "   🔗 Saved ensemble results\n",
            "\n",
            "📋 MODEL DEVELOPMENT SUMMARY:\n",
            "   ✅ Targets modeled: 2\n",
            "   ✅ Total models trained: 12\n",
            "   ✅ Time series models: 2\n",
            "   ✅ Ensemble models: 2\n",
            "   ✅ Cross-validation completed: 2 targets\n",
            "\n",
            "🚀 NEXT STEPS:\n",
            "   1. Move to 06_predictions.ipynb for forecasting\n",
            "   2. Use best performing models for future predictions\n",
            "   3. Generate confidence intervals and scenarios\n",
            "\n",
            "✅ Model Development Phase Complete!\n"
          ]
        }
      ],
      "source": [
        "# Save trained models and results\n",
        "models_dir = Path('../models')\n",
        "models_dir.mkdir(exist_ok=True)\n",
        "\n",
        "results_dir = Path('../results')\n",
        "results_dir.mkdir(exist_ok=True)\n",
        "\n",
        "\n",
        "# Save ML models\n",
        "for target_col, models in ml_models.items():\n",
        "    target_dir = models_dir / target_col.replace('_', '')\n",
        "    target_dir.mkdir(exist_ok=True)\n",
        "    \n",
        "    for model_name, model in models.items():\n",
        "        model_path = target_dir / f'{model_name}.joblib'\n",
        "        joblib.dump(model, model_path)\n",
        "\n",
        "# Save model comparison results\n",
        "for target_col, comparison in model_comparisons.items():\n",
        "    comparison_path = results_dir / f'model_comparison_{target_col}.csv'\n",
        "    comparison.to_csv(comparison_path, index=False)\n",
        "\n",
        "# Save cross-validation results\n",
        "cv_summary = []\n",
        "for target_col, cv_data in cv_results_all.items():\n",
        "    for model_name, scores in cv_data.items():\n",
        "        cv_summary.append({\n",
        "            'target': target_col,\n",
        "            'model': model_name,\n",
        "            'cv_mean': scores['mean'],\n",
        "            'cv_std': scores['std'],\n",
        "            'cv_min': scores['min'],\n",
        "            'cv_max': scores['max']\n",
        "        })\n",
        "\n",
        "if cv_summary:\n",
        "    cv_df = pd.DataFrame(cv_summary)\n",
        "    cv_df.to_csv(results_dir / 'cross_validation_results.csv', index=False)\n",
        "\n",
        "# Save ensemble results\n",
        "ensemble_summary = []\n",
        "for target_col, ensemble in ensemble_results.items():\n",
        "    ensemble_summary.append({\n",
        "        'target': target_col,\n",
        "        'simple_ensemble_r2': ensemble['simple_r2'],\n",
        "        'weighted_ensemble_r2': ensemble['weighted_r2'],\n",
        "        'models_count': len(ensemble['model_names']),\n",
        "        'models_used': ', '.join(ensemble['model_names'])\n",
        "    })\n",
        "\n",
        "if ensemble_summary:\n",
        "    ensemble_df = pd.DataFrame(ensemble_summary)\n",
        "    ensemble_df.to_csv(results_dir / 'ensemble_results.csv', index=False)\n",
        "\n",
        "# Create model development summary\n"
      ]
    }
  ],
  "metadata": {
    "kernelspec": {
      "display_name": "ML_Project",
      "language": "python",
      "name": "python3"
    },
    "language_info": {
      "codemirror_mode": {
        "name": "ipython",
        "version": 3
      },
      "file_extension": ".py",
      "mimetype": "text/x-python",
      "name": "python",
      "nbconvert_exporter": "python",
      "pygments_lexer": "ipython3",
      "version": "3.11.13"
    }
  },
  "nbformat": 4,
  "nbformat_minor": 5
}